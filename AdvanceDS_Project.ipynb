{
  "cells": [
    {
      "cell_type": "code",
      "execution_count": null,
      "metadata": {
        "id": "a2DJGKiKpzY7"
      },
      "outputs": [],
      "source": [
        "import pandas as pd"
      ]
    },
    {
      "cell_type": "code",
      "execution_count": null,
      "metadata": {
        "id": "2cmV8j3gp-cn"
      },
      "outputs": [],
      "source": [
        "df_train = pd.read_csv('/content/2015_Nepal_Earthquake_train.tsv', sep='\\t', encoding='latin1')\n",
        "df_test = pd.read_csv('/content/2015_Nepal_Earthquake_test.tsv', sep='\\t', encoding='latin1')"
      ]
    },
    {
      "cell_type": "code",
      "execution_count": null,
      "metadata": {
        "colab": {
          "base_uri": "https://localhost:8080/",
          "height": 206
        },
        "id": "OpPu0V-aqW_O",
        "outputId": "33692f6a-0d15-41dd-8bd4-de477cb82722"
      },
      "outputs": [
        {
          "output_type": "execute_result",
          "data": {
            "text/plain": [
              "             tweet_id                                               text  \\\n",
              "0  591902739002560512  RT @AnupKaphle: #Nepal's prime minister addres...   \n",
              "1  592939706788216832  @jonsnowC4 So have we; read our friends blog f...   \n",
              "2  592591542168252416  Lend a helping hand if you can #Nepal https://...   \n",
              "3  591903009279385600  @shilpaanand they've managed to reach Kathmand...   \n",
              "4  592099765271199744  Israel Sending Aid Teams to Nepal After Quake:...   \n",
              "\n",
              "      label  \n",
              "0  relevant  \n",
              "1  relevant  \n",
              "2  relevant  \n",
              "3  relevant  \n",
              "4  relevant  "
            ],
            "text/html": [
              "\n",
              "  <div id=\"df-d0dd0675-c419-40ac-9916-3eeaf42fcf47\">\n",
              "    <div class=\"colab-df-container\">\n",
              "      <div>\n",
              "<style scoped>\n",
              "    .dataframe tbody tr th:only-of-type {\n",
              "        vertical-align: middle;\n",
              "    }\n",
              "\n",
              "    .dataframe tbody tr th {\n",
              "        vertical-align: top;\n",
              "    }\n",
              "\n",
              "    .dataframe thead th {\n",
              "        text-align: right;\n",
              "    }\n",
              "</style>\n",
              "<table border=\"1\" class=\"dataframe\">\n",
              "  <thead>\n",
              "    <tr style=\"text-align: right;\">\n",
              "      <th></th>\n",
              "      <th>tweet_id</th>\n",
              "      <th>text</th>\n",
              "      <th>label</th>\n",
              "    </tr>\n",
              "  </thead>\n",
              "  <tbody>\n",
              "    <tr>\n",
              "      <th>0</th>\n",
              "      <td>591902739002560512</td>\n",
              "      <td>RT @AnupKaphle: #Nepal's prime minister addres...</td>\n",
              "      <td>relevant</td>\n",
              "    </tr>\n",
              "    <tr>\n",
              "      <th>1</th>\n",
              "      <td>592939706788216832</td>\n",
              "      <td>@jonsnowC4 So have we; read our friends blog f...</td>\n",
              "      <td>relevant</td>\n",
              "    </tr>\n",
              "    <tr>\n",
              "      <th>2</th>\n",
              "      <td>592591542168252416</td>\n",
              "      <td>Lend a helping hand if you can #Nepal https://...</td>\n",
              "      <td>relevant</td>\n",
              "    </tr>\n",
              "    <tr>\n",
              "      <th>3</th>\n",
              "      <td>591903009279385600</td>\n",
              "      <td>@shilpaanand they've managed to reach Kathmand...</td>\n",
              "      <td>relevant</td>\n",
              "    </tr>\n",
              "    <tr>\n",
              "      <th>4</th>\n",
              "      <td>592099765271199744</td>\n",
              "      <td>Israel Sending Aid Teams to Nepal After Quake:...</td>\n",
              "      <td>relevant</td>\n",
              "    </tr>\n",
              "  </tbody>\n",
              "</table>\n",
              "</div>\n",
              "      <button class=\"colab-df-convert\" onclick=\"convertToInteractive('df-d0dd0675-c419-40ac-9916-3eeaf42fcf47')\"\n",
              "              title=\"Convert this dataframe to an interactive table.\"\n",
              "              style=\"display:none;\">\n",
              "        \n",
              "  <svg xmlns=\"http://www.w3.org/2000/svg\" height=\"24px\"viewBox=\"0 0 24 24\"\n",
              "       width=\"24px\">\n",
              "    <path d=\"M0 0h24v24H0V0z\" fill=\"none\"/>\n",
              "    <path d=\"M18.56 5.44l.94 2.06.94-2.06 2.06-.94-2.06-.94-.94-2.06-.94 2.06-2.06.94zm-11 1L8.5 8.5l.94-2.06 2.06-.94-2.06-.94L8.5 2.5l-.94 2.06-2.06.94zm10 10l.94 2.06.94-2.06 2.06-.94-2.06-.94-.94-2.06-.94 2.06-2.06.94z\"/><path d=\"M17.41 7.96l-1.37-1.37c-.4-.4-.92-.59-1.43-.59-.52 0-1.04.2-1.43.59L10.3 9.45l-7.72 7.72c-.78.78-.78 2.05 0 2.83L4 21.41c.39.39.9.59 1.41.59.51 0 1.02-.2 1.41-.59l7.78-7.78 2.81-2.81c.8-.78.8-2.07 0-2.86zM5.41 20L4 18.59l7.72-7.72 1.47 1.35L5.41 20z\"/>\n",
              "  </svg>\n",
              "      </button>\n",
              "      \n",
              "  <style>\n",
              "    .colab-df-container {\n",
              "      display:flex;\n",
              "      flex-wrap:wrap;\n",
              "      gap: 12px;\n",
              "    }\n",
              "\n",
              "    .colab-df-convert {\n",
              "      background-color: #E8F0FE;\n",
              "      border: none;\n",
              "      border-radius: 50%;\n",
              "      cursor: pointer;\n",
              "      display: none;\n",
              "      fill: #1967D2;\n",
              "      height: 32px;\n",
              "      padding: 0 0 0 0;\n",
              "      width: 32px;\n",
              "    }\n",
              "\n",
              "    .colab-df-convert:hover {\n",
              "      background-color: #E2EBFA;\n",
              "      box-shadow: 0px 1px 2px rgba(60, 64, 67, 0.3), 0px 1px 3px 1px rgba(60, 64, 67, 0.15);\n",
              "      fill: #174EA6;\n",
              "    }\n",
              "\n",
              "    [theme=dark] .colab-df-convert {\n",
              "      background-color: #3B4455;\n",
              "      fill: #D2E3FC;\n",
              "    }\n",
              "\n",
              "    [theme=dark] .colab-df-convert:hover {\n",
              "      background-color: #434B5C;\n",
              "      box-shadow: 0px 1px 3px 1px rgba(0, 0, 0, 0.15);\n",
              "      filter: drop-shadow(0px 1px 2px rgba(0, 0, 0, 0.3));\n",
              "      fill: #FFFFFF;\n",
              "    }\n",
              "  </style>\n",
              "\n",
              "      <script>\n",
              "        const buttonEl =\n",
              "          document.querySelector('#df-d0dd0675-c419-40ac-9916-3eeaf42fcf47 button.colab-df-convert');\n",
              "        buttonEl.style.display =\n",
              "          google.colab.kernel.accessAllowed ? 'block' : 'none';\n",
              "\n",
              "        async function convertToInteractive(key) {\n",
              "          const element = document.querySelector('#df-d0dd0675-c419-40ac-9916-3eeaf42fcf47');\n",
              "          const dataTable =\n",
              "            await google.colab.kernel.invokeFunction('convertToInteractive',\n",
              "                                                     [key], {});\n",
              "          if (!dataTable) return;\n",
              "\n",
              "          const docLinkHtml = 'Like what you see? Visit the ' +\n",
              "            '<a target=\"_blank\" href=https://colab.research.google.com/notebooks/data_table.ipynb>data table notebook</a>'\n",
              "            + ' to learn more about interactive tables.';\n",
              "          element.innerHTML = '';\n",
              "          dataTable['output_type'] = 'display_data';\n",
              "          await google.colab.output.renderOutput(dataTable, element);\n",
              "          const docLink = document.createElement('div');\n",
              "          docLink.innerHTML = docLinkHtml;\n",
              "          element.appendChild(docLink);\n",
              "        }\n",
              "      </script>\n",
              "    </div>\n",
              "  </div>\n",
              "  "
            ]
          },
          "metadata": {},
          "execution_count": 3
        }
      ],
      "source": [
        "df_train.head()"
      ]
    },
    {
      "cell_type": "code",
      "execution_count": null,
      "metadata": {
        "colab": {
          "base_uri": "https://localhost:8080/",
          "height": 206
        },
        "id": "JrBj9Gc7rHTD",
        "outputId": "6a68a521-f72b-40a0-ccba-0af46a1a005b"
      },
      "outputs": [
        {
          "output_type": "execute_result",
          "data": {
            "text/plain": [
              "             tweet_id                                               text  \\\n",
              "0  591903220357730304  RT @Hadithoftheday: Do your bit for the victim...   \n",
              "1  592589555812864003  RT @ANI_news: Indians evacuated from #NepalEar...   \n",
              "2  592825666262929408  Free call to Nepal via Skype! Thanks Skype! ht...   \n",
              "3  591903276750114816  To #Kathmandu and back: â°ÃÃ·Even now when I...   \n",
              "4  591902696375877632  My thoughts and prayers to everyone in Nepal.....   \n",
              "\n",
              "      label  \n",
              "0  relevant  \n",
              "1  relevant  \n",
              "2  relevant  \n",
              "3  relevant  \n",
              "4  relevant  "
            ],
            "text/html": [
              "\n",
              "  <div id=\"df-1a4513ce-4c60-41be-8f8c-1e29772226a0\">\n",
              "    <div class=\"colab-df-container\">\n",
              "      <div>\n",
              "<style scoped>\n",
              "    .dataframe tbody tr th:only-of-type {\n",
              "        vertical-align: middle;\n",
              "    }\n",
              "\n",
              "    .dataframe tbody tr th {\n",
              "        vertical-align: top;\n",
              "    }\n",
              "\n",
              "    .dataframe thead th {\n",
              "        text-align: right;\n",
              "    }\n",
              "</style>\n",
              "<table border=\"1\" class=\"dataframe\">\n",
              "  <thead>\n",
              "    <tr style=\"text-align: right;\">\n",
              "      <th></th>\n",
              "      <th>tweet_id</th>\n",
              "      <th>text</th>\n",
              "      <th>label</th>\n",
              "    </tr>\n",
              "  </thead>\n",
              "  <tbody>\n",
              "    <tr>\n",
              "      <th>0</th>\n",
              "      <td>591903220357730304</td>\n",
              "      <td>RT @Hadithoftheday: Do your bit for the victim...</td>\n",
              "      <td>relevant</td>\n",
              "    </tr>\n",
              "    <tr>\n",
              "      <th>1</th>\n",
              "      <td>592589555812864003</td>\n",
              "      <td>RT @ANI_news: Indians evacuated from #NepalEar...</td>\n",
              "      <td>relevant</td>\n",
              "    </tr>\n",
              "    <tr>\n",
              "      <th>2</th>\n",
              "      <td>592825666262929408</td>\n",
              "      <td>Free call to Nepal via Skype! Thanks Skype! ht...</td>\n",
              "      <td>relevant</td>\n",
              "    </tr>\n",
              "    <tr>\n",
              "      <th>3</th>\n",
              "      <td>591903276750114816</td>\n",
              "      <td>To #Kathmandu and back: â°ÃÃ·Even now when I...</td>\n",
              "      <td>relevant</td>\n",
              "    </tr>\n",
              "    <tr>\n",
              "      <th>4</th>\n",
              "      <td>591902696375877632</td>\n",
              "      <td>My thoughts and prayers to everyone in Nepal.....</td>\n",
              "      <td>relevant</td>\n",
              "    </tr>\n",
              "  </tbody>\n",
              "</table>\n",
              "</div>\n",
              "      <button class=\"colab-df-convert\" onclick=\"convertToInteractive('df-1a4513ce-4c60-41be-8f8c-1e29772226a0')\"\n",
              "              title=\"Convert this dataframe to an interactive table.\"\n",
              "              style=\"display:none;\">\n",
              "        \n",
              "  <svg xmlns=\"http://www.w3.org/2000/svg\" height=\"24px\"viewBox=\"0 0 24 24\"\n",
              "       width=\"24px\">\n",
              "    <path d=\"M0 0h24v24H0V0z\" fill=\"none\"/>\n",
              "    <path d=\"M18.56 5.44l.94 2.06.94-2.06 2.06-.94-2.06-.94-.94-2.06-.94 2.06-2.06.94zm-11 1L8.5 8.5l.94-2.06 2.06-.94-2.06-.94L8.5 2.5l-.94 2.06-2.06.94zm10 10l.94 2.06.94-2.06 2.06-.94-2.06-.94-.94-2.06-.94 2.06-2.06.94z\"/><path d=\"M17.41 7.96l-1.37-1.37c-.4-.4-.92-.59-1.43-.59-.52 0-1.04.2-1.43.59L10.3 9.45l-7.72 7.72c-.78.78-.78 2.05 0 2.83L4 21.41c.39.39.9.59 1.41.59.51 0 1.02-.2 1.41-.59l7.78-7.78 2.81-2.81c.8-.78.8-2.07 0-2.86zM5.41 20L4 18.59l7.72-7.72 1.47 1.35L5.41 20z\"/>\n",
              "  </svg>\n",
              "      </button>\n",
              "      \n",
              "  <style>\n",
              "    .colab-df-container {\n",
              "      display:flex;\n",
              "      flex-wrap:wrap;\n",
              "      gap: 12px;\n",
              "    }\n",
              "\n",
              "    .colab-df-convert {\n",
              "      background-color: #E8F0FE;\n",
              "      border: none;\n",
              "      border-radius: 50%;\n",
              "      cursor: pointer;\n",
              "      display: none;\n",
              "      fill: #1967D2;\n",
              "      height: 32px;\n",
              "      padding: 0 0 0 0;\n",
              "      width: 32px;\n",
              "    }\n",
              "\n",
              "    .colab-df-convert:hover {\n",
              "      background-color: #E2EBFA;\n",
              "      box-shadow: 0px 1px 2px rgba(60, 64, 67, 0.3), 0px 1px 3px 1px rgba(60, 64, 67, 0.15);\n",
              "      fill: #174EA6;\n",
              "    }\n",
              "\n",
              "    [theme=dark] .colab-df-convert {\n",
              "      background-color: #3B4455;\n",
              "      fill: #D2E3FC;\n",
              "    }\n",
              "\n",
              "    [theme=dark] .colab-df-convert:hover {\n",
              "      background-color: #434B5C;\n",
              "      box-shadow: 0px 1px 3px 1px rgba(0, 0, 0, 0.15);\n",
              "      filter: drop-shadow(0px 1px 2px rgba(0, 0, 0, 0.3));\n",
              "      fill: #FFFFFF;\n",
              "    }\n",
              "  </style>\n",
              "\n",
              "      <script>\n",
              "        const buttonEl =\n",
              "          document.querySelector('#df-1a4513ce-4c60-41be-8f8c-1e29772226a0 button.colab-df-convert');\n",
              "        buttonEl.style.display =\n",
              "          google.colab.kernel.accessAllowed ? 'block' : 'none';\n",
              "\n",
              "        async function convertToInteractive(key) {\n",
              "          const element = document.querySelector('#df-1a4513ce-4c60-41be-8f8c-1e29772226a0');\n",
              "          const dataTable =\n",
              "            await google.colab.kernel.invokeFunction('convertToInteractive',\n",
              "                                                     [key], {});\n",
              "          if (!dataTable) return;\n",
              "\n",
              "          const docLinkHtml = 'Like what you see? Visit the ' +\n",
              "            '<a target=\"_blank\" href=https://colab.research.google.com/notebooks/data_table.ipynb>data table notebook</a>'\n",
              "            + ' to learn more about interactive tables.';\n",
              "          element.innerHTML = '';\n",
              "          dataTable['output_type'] = 'display_data';\n",
              "          await google.colab.output.renderOutput(dataTable, element);\n",
              "          const docLink = document.createElement('div');\n",
              "          docLink.innerHTML = docLinkHtml;\n",
              "          element.appendChild(docLink);\n",
              "        }\n",
              "      </script>\n",
              "    </div>\n",
              "  </div>\n",
              "  "
            ]
          },
          "metadata": {},
          "execution_count": 4
        }
      ],
      "source": [
        "df_test.head()"
      ]
    },
    {
      "cell_type": "code",
      "execution_count": null,
      "metadata": {
        "colab": {
          "base_uri": "https://localhost:8080/"
        },
        "id": "xBKpF8i-rKBc",
        "outputId": "6fe74436-f8b9-4712-d66a-2b57fce1949d"
      },
      "outputs": [
        {
          "output_type": "execute_result",
          "data": {
            "text/plain": [
              "tweet_id    0\n",
              "text        0\n",
              "label       0\n",
              "dtype: int64"
            ]
          },
          "metadata": {},
          "execution_count": 5
        }
      ],
      "source": [
        "df_train.isnull().sum()"
      ]
    },
    {
      "cell_type": "code",
      "execution_count": null,
      "metadata": {
        "colab": {
          "base_uri": "https://localhost:8080/"
        },
        "id": "fW7HD1o6rQ-x",
        "outputId": "75cba39e-c953-4f5d-8443-71b08a9c5392"
      },
      "outputs": [
        {
          "output_type": "execute_result",
          "data": {
            "text/plain": [
              "tweet_id    0\n",
              "text        0\n",
              "label       0\n",
              "dtype: int64"
            ]
          },
          "metadata": {},
          "execution_count": 6
        }
      ],
      "source": [
        "df_test.isnull().sum()"
      ]
    },
    {
      "cell_type": "code",
      "execution_count": null,
      "metadata": {
        "colab": {
          "base_uri": "https://localhost:8080/"
        },
        "id": "frZjwQpQrTov",
        "outputId": "ce83da45-7a33-4071-f303-492b5043ad87"
      },
      "outputs": [
        {
          "output_type": "execute_result",
          "data": {
            "text/plain": [
              "(6899, 3)"
            ]
          },
          "metadata": {},
          "execution_count": 7
        }
      ],
      "source": [
        "df_train.shape"
      ]
    },
    {
      "cell_type": "code",
      "execution_count": null,
      "metadata": {
        "colab": {
          "base_uri": "https://localhost:8080/"
        },
        "id": "EnaSCzeirXOL",
        "outputId": "4d962daa-ceb4-480d-f7c4-009489667598"
      },
      "outputs": [
        {
          "output_type": "execute_result",
          "data": {
            "text/plain": [
              "(3479, 3)"
            ]
          },
          "metadata": {},
          "execution_count": 8
        }
      ],
      "source": [
        "df_test.shape"
      ]
    },
    {
      "cell_type": "code",
      "execution_count": null,
      "metadata": {
        "colab": {
          "base_uri": "https://localhost:8080/"
        },
        "id": "Y2xlsCOBrYwC",
        "outputId": "d8029207-8942-4e91-8b18-3dd627e1f3f2"
      },
      "outputs": [
        {
          "output_type": "stream",
          "name": "stderr",
          "text": [
            "[nltk_data] Downloading package stopwords to /root/nltk_data...\n",
            "[nltk_data]   Package stopwords is already up-to-date!\n"
          ]
        }
      ],
      "source": [
        "import numpy as np\n",
        "import re\n",
        "import nltk\n",
        "nltk.download('stopwords')\n",
        "from nltk.corpus import stopwords\n",
        "import string\n",
        "from nltk.stem import SnowballStemmer"
      ]
    },
    {
      "cell_type": "code",
      "execution_count": null,
      "metadata": {
        "id": "Kr4RSqlVdjts"
      },
      "outputs": [],
      "source": [
        "df_train.drop_duplicates(subset='text',inplace=True)\n",
        "df_test.drop_duplicates(subset='text',inplace=True)"
      ]
    },
    {
      "cell_type": "code",
      "execution_count": null,
      "metadata": {
        "id": "7zp4VC_wr75P"
      },
      "outputs": [],
      "source": [
        "stop_words = set(stopwords.words('english'))\n",
        "additional  = ['rt','rts','retweet']\n",
        "swords = set().union(stopwords.words('english'),additional)\n",
        "stemmer = SnowballStemmer('english')"
      ]
    },
    {
      "cell_type": "code",
      "execution_count": null,
      "metadata": {
        "id": "Lczv6mW7r9px"
      },
      "outputs": [],
      "source": [
        "def clean_tweet(tweet, remove_emojis=True):\n",
        "    temp = tweet.lower()\n",
        "    temp = re.sub(\"'\", \"\", temp) # to avoid removing contractions in english\n",
        "    temp = re.sub(\"@[A-Za-z0-9_]+\",\"\", temp)\n",
        "    temp = re.sub(\"#[A-Za-z0-9_]+\",\"\", temp)\n",
        "    temp = re.sub(r'http\\S+', '', temp)\n",
        "    temp = re.sub('[()!?]', ' ', temp)\n",
        "    temp = re.sub('\\[.*?\\]',' ', temp)\n",
        "    temp = re.sub(\"[^a-z0-9]\",\" \", temp)\n",
        "    if remove_emojis:\n",
        "        temp = temp.encode('ascii', 'ignore').decode('utf8').strip()\n",
        "    temp = temp.split()\n",
        "\n",
        "    temp = [w for w in temp if not w in swords]\n",
        "    temp = [stemmer.stem(w) for w in temp]\n",
        "\n",
        "    temp = \" \".join(temp)\n",
        "    return temp"
      ]
    },
    {
      "cell_type": "code",
      "execution_count": null,
      "metadata": {
        "id": "1VyjeMWTsN84"
      },
      "outputs": [],
      "source": [
        "df_train['clean_text']= df_train['text'].apply(lambda x:clean_tweet(x))\n",
        "df_test['clean_text']= df_test['text'].apply(lambda x:clean_tweet(x))"
      ]
    },
    {
      "cell_type": "code",
      "execution_count": null,
      "metadata": {
        "colab": {
          "base_uri": "https://localhost:8080/"
        },
        "id": "EV6EeFuBBpIo",
        "outputId": "88e6f8ba-e57e-42d2-d38c-5dc08cb2c741"
      },
      "outputs": [
        {
          "output_type": "execute_result",
          "data": {
            "text/plain": [
              "not_relevant    3603\n",
              "relevant        3289\n",
              "Name: label, dtype: int64"
            ]
          },
          "metadata": {},
          "execution_count": 14
        }
      ],
      "source": [
        "df_train['label'].value_counts()"
      ]
    },
    {
      "cell_type": "code",
      "execution_count": null,
      "metadata": {
        "id": "K5WBoVQNFWkc"
      },
      "outputs": [],
      "source": [
        "df_train['label'] = df_train['label'].map({'relevant': 1, 'not_relevant': 0})\n",
        "df_test['label'] = df_test['label'].map({'relevant': 1, 'not_relevant': 0})"
      ]
    },
    {
      "cell_type": "code",
      "execution_count": null,
      "metadata": {
        "colab": {
          "base_uri": "https://localhost:8080/"
        },
        "id": "pJ1Nk7uYJ2Hf",
        "outputId": "27e97dfd-07ae-414f-cd64-c9f6ce680923"
      },
      "outputs": [
        {
          "output_type": "execute_result",
          "data": {
            "text/plain": [
              "0       1\n",
              "1       1\n",
              "2       1\n",
              "3       1\n",
              "4       1\n",
              "       ..\n",
              "6894    0\n",
              "6895    0\n",
              "6896    0\n",
              "6897    0\n",
              "6898    0\n",
              "Name: label, Length: 6892, dtype: int64"
            ]
          },
          "metadata": {},
          "execution_count": 16
        }
      ],
      "source": [
        "df_train['label']"
      ]
    },
    {
      "cell_type": "code",
      "execution_count": null,
      "metadata": {
        "colab": {
          "base_uri": "https://localhost:8080/",
          "height": 320
        },
        "id": "9TTYLvC9sSFi",
        "outputId": "e54ad02f-c5a9-444d-9212-cb076b4b862a"
      },
      "outputs": [
        {
          "output_type": "execute_result",
          "data": {
            "text/plain": [
              "             tweet_id                                               text  \\\n",
              "0  591902739002560512  RT @AnupKaphle: #Nepal's prime minister addres...   \n",
              "1  592939706788216832  @jonsnowC4 So have we; read our friends blog f...   \n",
              "2  592591542168252416  Lend a helping hand if you can #Nepal https://...   \n",
              "3  591903009279385600  @shilpaanand they've managed to reach Kathmand...   \n",
              "4  592099765271199744  Israel Sending Aid Teams to Nepal After Quake:...   \n",
              "\n",
              "   label                                         clean_text  \n",
              "0      1  prime minist address countri 1st time sinc ear...  \n",
              "1      1                      read friend blog lamjung work  \n",
              "2      1                                     lend help hand  \n",
              "3      1  theyv manag reach kathmandu help guid offici e...  \n",
              "4      1  israel send aid team nepal quak israel send de...  "
            ],
            "text/html": [
              "\n",
              "  <div id=\"df-286cf216-3c5e-4e4c-a536-9c0c049bf134\">\n",
              "    <div class=\"colab-df-container\">\n",
              "      <div>\n",
              "<style scoped>\n",
              "    .dataframe tbody tr th:only-of-type {\n",
              "        vertical-align: middle;\n",
              "    }\n",
              "\n",
              "    .dataframe tbody tr th {\n",
              "        vertical-align: top;\n",
              "    }\n",
              "\n",
              "    .dataframe thead th {\n",
              "        text-align: right;\n",
              "    }\n",
              "</style>\n",
              "<table border=\"1\" class=\"dataframe\">\n",
              "  <thead>\n",
              "    <tr style=\"text-align: right;\">\n",
              "      <th></th>\n",
              "      <th>tweet_id</th>\n",
              "      <th>text</th>\n",
              "      <th>label</th>\n",
              "      <th>clean_text</th>\n",
              "    </tr>\n",
              "  </thead>\n",
              "  <tbody>\n",
              "    <tr>\n",
              "      <th>0</th>\n",
              "      <td>591902739002560512</td>\n",
              "      <td>RT @AnupKaphle: #Nepal's prime minister addres...</td>\n",
              "      <td>1</td>\n",
              "      <td>prime minist address countri 1st time sinc ear...</td>\n",
              "    </tr>\n",
              "    <tr>\n",
              "      <th>1</th>\n",
              "      <td>592939706788216832</td>\n",
              "      <td>@jonsnowC4 So have we; read our friends blog f...</td>\n",
              "      <td>1</td>\n",
              "      <td>read friend blog lamjung work</td>\n",
              "    </tr>\n",
              "    <tr>\n",
              "      <th>2</th>\n",
              "      <td>592591542168252416</td>\n",
              "      <td>Lend a helping hand if you can #Nepal https://...</td>\n",
              "      <td>1</td>\n",
              "      <td>lend help hand</td>\n",
              "    </tr>\n",
              "    <tr>\n",
              "      <th>3</th>\n",
              "      <td>591903009279385600</td>\n",
              "      <td>@shilpaanand they've managed to reach Kathmand...</td>\n",
              "      <td>1</td>\n",
              "      <td>theyv manag reach kathmandu help guid offici e...</td>\n",
              "    </tr>\n",
              "    <tr>\n",
              "      <th>4</th>\n",
              "      <td>592099765271199744</td>\n",
              "      <td>Israel Sending Aid Teams to Nepal After Quake:...</td>\n",
              "      <td>1</td>\n",
              "      <td>israel send aid team nepal quak israel send de...</td>\n",
              "    </tr>\n",
              "  </tbody>\n",
              "</table>\n",
              "</div>\n",
              "      <button class=\"colab-df-convert\" onclick=\"convertToInteractive('df-286cf216-3c5e-4e4c-a536-9c0c049bf134')\"\n",
              "              title=\"Convert this dataframe to an interactive table.\"\n",
              "              style=\"display:none;\">\n",
              "        \n",
              "  <svg xmlns=\"http://www.w3.org/2000/svg\" height=\"24px\"viewBox=\"0 0 24 24\"\n",
              "       width=\"24px\">\n",
              "    <path d=\"M0 0h24v24H0V0z\" fill=\"none\"/>\n",
              "    <path d=\"M18.56 5.44l.94 2.06.94-2.06 2.06-.94-2.06-.94-.94-2.06-.94 2.06-2.06.94zm-11 1L8.5 8.5l.94-2.06 2.06-.94-2.06-.94L8.5 2.5l-.94 2.06-2.06.94zm10 10l.94 2.06.94-2.06 2.06-.94-2.06-.94-.94-2.06-.94 2.06-2.06.94z\"/><path d=\"M17.41 7.96l-1.37-1.37c-.4-.4-.92-.59-1.43-.59-.52 0-1.04.2-1.43.59L10.3 9.45l-7.72 7.72c-.78.78-.78 2.05 0 2.83L4 21.41c.39.39.9.59 1.41.59.51 0 1.02-.2 1.41-.59l7.78-7.78 2.81-2.81c.8-.78.8-2.07 0-2.86zM5.41 20L4 18.59l7.72-7.72 1.47 1.35L5.41 20z\"/>\n",
              "  </svg>\n",
              "      </button>\n",
              "      \n",
              "  <style>\n",
              "    .colab-df-container {\n",
              "      display:flex;\n",
              "      flex-wrap:wrap;\n",
              "      gap: 12px;\n",
              "    }\n",
              "\n",
              "    .colab-df-convert {\n",
              "      background-color: #E8F0FE;\n",
              "      border: none;\n",
              "      border-radius: 50%;\n",
              "      cursor: pointer;\n",
              "      display: none;\n",
              "      fill: #1967D2;\n",
              "      height: 32px;\n",
              "      padding: 0 0 0 0;\n",
              "      width: 32px;\n",
              "    }\n",
              "\n",
              "    .colab-df-convert:hover {\n",
              "      background-color: #E2EBFA;\n",
              "      box-shadow: 0px 1px 2px rgba(60, 64, 67, 0.3), 0px 1px 3px 1px rgba(60, 64, 67, 0.15);\n",
              "      fill: #174EA6;\n",
              "    }\n",
              "\n",
              "    [theme=dark] .colab-df-convert {\n",
              "      background-color: #3B4455;\n",
              "      fill: #D2E3FC;\n",
              "    }\n",
              "\n",
              "    [theme=dark] .colab-df-convert:hover {\n",
              "      background-color: #434B5C;\n",
              "      box-shadow: 0px 1px 3px 1px rgba(0, 0, 0, 0.15);\n",
              "      filter: drop-shadow(0px 1px 2px rgba(0, 0, 0, 0.3));\n",
              "      fill: #FFFFFF;\n",
              "    }\n",
              "  </style>\n",
              "\n",
              "      <script>\n",
              "        const buttonEl =\n",
              "          document.querySelector('#df-286cf216-3c5e-4e4c-a536-9c0c049bf134 button.colab-df-convert');\n",
              "        buttonEl.style.display =\n",
              "          google.colab.kernel.accessAllowed ? 'block' : 'none';\n",
              "\n",
              "        async function convertToInteractive(key) {\n",
              "          const element = document.querySelector('#df-286cf216-3c5e-4e4c-a536-9c0c049bf134');\n",
              "          const dataTable =\n",
              "            await google.colab.kernel.invokeFunction('convertToInteractive',\n",
              "                                                     [key], {});\n",
              "          if (!dataTable) return;\n",
              "\n",
              "          const docLinkHtml = 'Like what you see? Visit the ' +\n",
              "            '<a target=\"_blank\" href=https://colab.research.google.com/notebooks/data_table.ipynb>data table notebook</a>'\n",
              "            + ' to learn more about interactive tables.';\n",
              "          element.innerHTML = '';\n",
              "          dataTable['output_type'] = 'display_data';\n",
              "          await google.colab.output.renderOutput(dataTable, element);\n",
              "          const docLink = document.createElement('div');\n",
              "          docLink.innerHTML = docLinkHtml;\n",
              "          element.appendChild(docLink);\n",
              "        }\n",
              "      </script>\n",
              "    </div>\n",
              "  </div>\n",
              "  "
            ]
          },
          "metadata": {},
          "execution_count": 17
        }
      ],
      "source": [
        "df_train.head()"
      ]
    },
    {
      "cell_type": "code",
      "execution_count": null,
      "metadata": {
        "colab": {
          "base_uri": "https://localhost:8080/",
          "height": 302
        },
        "id": "ZSnHlqP4sf17",
        "outputId": "cddb80e9-a86c-4207-965a-18d6ec2cc6c0"
      },
      "outputs": [
        {
          "output_type": "execute_result",
          "data": {
            "text/plain": [
              "             tweet_id                                               text  \\\n",
              "0  591903220357730304  RT @Hadithoftheday: Do your bit for the victim...   \n",
              "1  592589555812864003  RT @ANI_news: Indians evacuated from #NepalEar...   \n",
              "2  592825666262929408  Free call to Nepal via Skype! Thanks Skype! ht...   \n",
              "3  591903276750114816  To #Kathmandu and back: â°ÃÃ·Even now when I...   \n",
              "4  591902696375877632  My thoughts and prayers to everyone in Nepal.....   \n",
              "\n",
              "   label                                         clean_text  \n",
              "0      1  bit victim devast earthquak nepal donat via hu...  \n",
              "1      1               indian evacu reach ahmedabad airport  \n",
              "2      1              free call nepal via skype thank skype  \n",
              "3      1             back even stand feel though earth move  \n",
              "4      1                       thought prayer everyon nepal  "
            ],
            "text/html": [
              "\n",
              "  <div id=\"df-c55e3074-fa13-4556-ac40-72f381c2c52a\">\n",
              "    <div class=\"colab-df-container\">\n",
              "      <div>\n",
              "<style scoped>\n",
              "    .dataframe tbody tr th:only-of-type {\n",
              "        vertical-align: middle;\n",
              "    }\n",
              "\n",
              "    .dataframe tbody tr th {\n",
              "        vertical-align: top;\n",
              "    }\n",
              "\n",
              "    .dataframe thead th {\n",
              "        text-align: right;\n",
              "    }\n",
              "</style>\n",
              "<table border=\"1\" class=\"dataframe\">\n",
              "  <thead>\n",
              "    <tr style=\"text-align: right;\">\n",
              "      <th></th>\n",
              "      <th>tweet_id</th>\n",
              "      <th>text</th>\n",
              "      <th>label</th>\n",
              "      <th>clean_text</th>\n",
              "    </tr>\n",
              "  </thead>\n",
              "  <tbody>\n",
              "    <tr>\n",
              "      <th>0</th>\n",
              "      <td>591903220357730304</td>\n",
              "      <td>RT @Hadithoftheday: Do your bit for the victim...</td>\n",
              "      <td>1</td>\n",
              "      <td>bit victim devast earthquak nepal donat via hu...</td>\n",
              "    </tr>\n",
              "    <tr>\n",
              "      <th>1</th>\n",
              "      <td>592589555812864003</td>\n",
              "      <td>RT @ANI_news: Indians evacuated from #NepalEar...</td>\n",
              "      <td>1</td>\n",
              "      <td>indian evacu reach ahmedabad airport</td>\n",
              "    </tr>\n",
              "    <tr>\n",
              "      <th>2</th>\n",
              "      <td>592825666262929408</td>\n",
              "      <td>Free call to Nepal via Skype! Thanks Skype! ht...</td>\n",
              "      <td>1</td>\n",
              "      <td>free call nepal via skype thank skype</td>\n",
              "    </tr>\n",
              "    <tr>\n",
              "      <th>3</th>\n",
              "      <td>591903276750114816</td>\n",
              "      <td>To #Kathmandu and back: â°ÃÃ·Even now when I...</td>\n",
              "      <td>1</td>\n",
              "      <td>back even stand feel though earth move</td>\n",
              "    </tr>\n",
              "    <tr>\n",
              "      <th>4</th>\n",
              "      <td>591902696375877632</td>\n",
              "      <td>My thoughts and prayers to everyone in Nepal.....</td>\n",
              "      <td>1</td>\n",
              "      <td>thought prayer everyon nepal</td>\n",
              "    </tr>\n",
              "  </tbody>\n",
              "</table>\n",
              "</div>\n",
              "      <button class=\"colab-df-convert\" onclick=\"convertToInteractive('df-c55e3074-fa13-4556-ac40-72f381c2c52a')\"\n",
              "              title=\"Convert this dataframe to an interactive table.\"\n",
              "              style=\"display:none;\">\n",
              "        \n",
              "  <svg xmlns=\"http://www.w3.org/2000/svg\" height=\"24px\"viewBox=\"0 0 24 24\"\n",
              "       width=\"24px\">\n",
              "    <path d=\"M0 0h24v24H0V0z\" fill=\"none\"/>\n",
              "    <path d=\"M18.56 5.44l.94 2.06.94-2.06 2.06-.94-2.06-.94-.94-2.06-.94 2.06-2.06.94zm-11 1L8.5 8.5l.94-2.06 2.06-.94-2.06-.94L8.5 2.5l-.94 2.06-2.06.94zm10 10l.94 2.06.94-2.06 2.06-.94-2.06-.94-.94-2.06-.94 2.06-2.06.94z\"/><path d=\"M17.41 7.96l-1.37-1.37c-.4-.4-.92-.59-1.43-.59-.52 0-1.04.2-1.43.59L10.3 9.45l-7.72 7.72c-.78.78-.78 2.05 0 2.83L4 21.41c.39.39.9.59 1.41.59.51 0 1.02-.2 1.41-.59l7.78-7.78 2.81-2.81c.8-.78.8-2.07 0-2.86zM5.41 20L4 18.59l7.72-7.72 1.47 1.35L5.41 20z\"/>\n",
              "  </svg>\n",
              "      </button>\n",
              "      \n",
              "  <style>\n",
              "    .colab-df-container {\n",
              "      display:flex;\n",
              "      flex-wrap:wrap;\n",
              "      gap: 12px;\n",
              "    }\n",
              "\n",
              "    .colab-df-convert {\n",
              "      background-color: #E8F0FE;\n",
              "      border: none;\n",
              "      border-radius: 50%;\n",
              "      cursor: pointer;\n",
              "      display: none;\n",
              "      fill: #1967D2;\n",
              "      height: 32px;\n",
              "      padding: 0 0 0 0;\n",
              "      width: 32px;\n",
              "    }\n",
              "\n",
              "    .colab-df-convert:hover {\n",
              "      background-color: #E2EBFA;\n",
              "      box-shadow: 0px 1px 2px rgba(60, 64, 67, 0.3), 0px 1px 3px 1px rgba(60, 64, 67, 0.15);\n",
              "      fill: #174EA6;\n",
              "    }\n",
              "\n",
              "    [theme=dark] .colab-df-convert {\n",
              "      background-color: #3B4455;\n",
              "      fill: #D2E3FC;\n",
              "    }\n",
              "\n",
              "    [theme=dark] .colab-df-convert:hover {\n",
              "      background-color: #434B5C;\n",
              "      box-shadow: 0px 1px 3px 1px rgba(0, 0, 0, 0.15);\n",
              "      filter: drop-shadow(0px 1px 2px rgba(0, 0, 0, 0.3));\n",
              "      fill: #FFFFFF;\n",
              "    }\n",
              "  </style>\n",
              "\n",
              "      <script>\n",
              "        const buttonEl =\n",
              "          document.querySelector('#df-c55e3074-fa13-4556-ac40-72f381c2c52a button.colab-df-convert');\n",
              "        buttonEl.style.display =\n",
              "          google.colab.kernel.accessAllowed ? 'block' : 'none';\n",
              "\n",
              "        async function convertToInteractive(key) {\n",
              "          const element = document.querySelector('#df-c55e3074-fa13-4556-ac40-72f381c2c52a');\n",
              "          const dataTable =\n",
              "            await google.colab.kernel.invokeFunction('convertToInteractive',\n",
              "                                                     [key], {});\n",
              "          if (!dataTable) return;\n",
              "\n",
              "          const docLinkHtml = 'Like what you see? Visit the ' +\n",
              "            '<a target=\"_blank\" href=https://colab.research.google.com/notebooks/data_table.ipynb>data table notebook</a>'\n",
              "            + ' to learn more about interactive tables.';\n",
              "          element.innerHTML = '';\n",
              "          dataTable['output_type'] = 'display_data';\n",
              "          await google.colab.output.renderOutput(dataTable, element);\n",
              "          const docLink = document.createElement('div');\n",
              "          docLink.innerHTML = docLinkHtml;\n",
              "          element.appendChild(docLink);\n",
              "        }\n",
              "      </script>\n",
              "    </div>\n",
              "  </div>\n",
              "  "
            ]
          },
          "metadata": {},
          "execution_count": 18
        }
      ],
      "source": [
        "df_test.head()"
      ]
    },
    {
      "cell_type": "code",
      "execution_count": null,
      "metadata": {
        "id": "Wy0CnV7lvGr0"
      },
      "outputs": [],
      "source": [
        "df_train['tokenized']=df_train['clean_text'].apply(lambda x: x.split())\n",
        "df_test['tokenized']=df_test['clean_text'].apply(lambda x: x.split())"
      ]
    },
    {
      "cell_type": "code",
      "execution_count": null,
      "metadata": {
        "colab": {
          "base_uri": "https://localhost:8080/",
          "height": 337
        },
        "id": "5GteRwaCvReT",
        "outputId": "58837642-588c-4891-ea84-27c4b2147642"
      },
      "outputs": [
        {
          "output_type": "execute_result",
          "data": {
            "text/plain": [
              "             tweet_id                                               text  \\\n",
              "0  591902739002560512  RT @AnupKaphle: #Nepal's prime minister addres...   \n",
              "1  592939706788216832  @jonsnowC4 So have we; read our friends blog f...   \n",
              "2  592591542168252416  Lend a helping hand if you can #Nepal https://...   \n",
              "3  591903009279385600  @shilpaanand they've managed to reach Kathmand...   \n",
              "4  592099765271199744  Israel Sending Aid Teams to Nepal After Quake:...   \n",
              "\n",
              "   label                                         clean_text  \\\n",
              "0      1  prime minist address countri 1st time sinc ear...   \n",
              "1      1                      read friend blog lamjung work   \n",
              "2      1                                     lend help hand   \n",
              "3      1  theyv manag reach kathmandu help guid offici e...   \n",
              "4      1  israel send aid team nepal quak israel send de...   \n",
              "\n",
              "                                           tokenized  \n",
              "0  [prime, minist, address, countri, 1st, time, s...  \n",
              "1                [read, friend, blog, lamjung, work]  \n",
              "2                                 [lend, help, hand]  \n",
              "3  [theyv, manag, reach, kathmandu, help, guid, o...  \n",
              "4  [israel, send, aid, team, nepal, quak, israel,...  "
            ],
            "text/html": [
              "\n",
              "  <div id=\"df-031e5571-ff64-41cb-85dd-df4af2b232dc\">\n",
              "    <div class=\"colab-df-container\">\n",
              "      <div>\n",
              "<style scoped>\n",
              "    .dataframe tbody tr th:only-of-type {\n",
              "        vertical-align: middle;\n",
              "    }\n",
              "\n",
              "    .dataframe tbody tr th {\n",
              "        vertical-align: top;\n",
              "    }\n",
              "\n",
              "    .dataframe thead th {\n",
              "        text-align: right;\n",
              "    }\n",
              "</style>\n",
              "<table border=\"1\" class=\"dataframe\">\n",
              "  <thead>\n",
              "    <tr style=\"text-align: right;\">\n",
              "      <th></th>\n",
              "      <th>tweet_id</th>\n",
              "      <th>text</th>\n",
              "      <th>label</th>\n",
              "      <th>clean_text</th>\n",
              "      <th>tokenized</th>\n",
              "    </tr>\n",
              "  </thead>\n",
              "  <tbody>\n",
              "    <tr>\n",
              "      <th>0</th>\n",
              "      <td>591902739002560512</td>\n",
              "      <td>RT @AnupKaphle: #Nepal's prime minister addres...</td>\n",
              "      <td>1</td>\n",
              "      <td>prime minist address countri 1st time sinc ear...</td>\n",
              "      <td>[prime, minist, address, countri, 1st, time, s...</td>\n",
              "    </tr>\n",
              "    <tr>\n",
              "      <th>1</th>\n",
              "      <td>592939706788216832</td>\n",
              "      <td>@jonsnowC4 So have we; read our friends blog f...</td>\n",
              "      <td>1</td>\n",
              "      <td>read friend blog lamjung work</td>\n",
              "      <td>[read, friend, blog, lamjung, work]</td>\n",
              "    </tr>\n",
              "    <tr>\n",
              "      <th>2</th>\n",
              "      <td>592591542168252416</td>\n",
              "      <td>Lend a helping hand if you can #Nepal https://...</td>\n",
              "      <td>1</td>\n",
              "      <td>lend help hand</td>\n",
              "      <td>[lend, help, hand]</td>\n",
              "    </tr>\n",
              "    <tr>\n",
              "      <th>3</th>\n",
              "      <td>591903009279385600</td>\n",
              "      <td>@shilpaanand they've managed to reach Kathmand...</td>\n",
              "      <td>1</td>\n",
              "      <td>theyv manag reach kathmandu help guid offici e...</td>\n",
              "      <td>[theyv, manag, reach, kathmandu, help, guid, o...</td>\n",
              "    </tr>\n",
              "    <tr>\n",
              "      <th>4</th>\n",
              "      <td>592099765271199744</td>\n",
              "      <td>Israel Sending Aid Teams to Nepal After Quake:...</td>\n",
              "      <td>1</td>\n",
              "      <td>israel send aid team nepal quak israel send de...</td>\n",
              "      <td>[israel, send, aid, team, nepal, quak, israel,...</td>\n",
              "    </tr>\n",
              "  </tbody>\n",
              "</table>\n",
              "</div>\n",
              "      <button class=\"colab-df-convert\" onclick=\"convertToInteractive('df-031e5571-ff64-41cb-85dd-df4af2b232dc')\"\n",
              "              title=\"Convert this dataframe to an interactive table.\"\n",
              "              style=\"display:none;\">\n",
              "        \n",
              "  <svg xmlns=\"http://www.w3.org/2000/svg\" height=\"24px\"viewBox=\"0 0 24 24\"\n",
              "       width=\"24px\">\n",
              "    <path d=\"M0 0h24v24H0V0z\" fill=\"none\"/>\n",
              "    <path d=\"M18.56 5.44l.94 2.06.94-2.06 2.06-.94-2.06-.94-.94-2.06-.94 2.06-2.06.94zm-11 1L8.5 8.5l.94-2.06 2.06-.94-2.06-.94L8.5 2.5l-.94 2.06-2.06.94zm10 10l.94 2.06.94-2.06 2.06-.94-2.06-.94-.94-2.06-.94 2.06-2.06.94z\"/><path d=\"M17.41 7.96l-1.37-1.37c-.4-.4-.92-.59-1.43-.59-.52 0-1.04.2-1.43.59L10.3 9.45l-7.72 7.72c-.78.78-.78 2.05 0 2.83L4 21.41c.39.39.9.59 1.41.59.51 0 1.02-.2 1.41-.59l7.78-7.78 2.81-2.81c.8-.78.8-2.07 0-2.86zM5.41 20L4 18.59l7.72-7.72 1.47 1.35L5.41 20z\"/>\n",
              "  </svg>\n",
              "      </button>\n",
              "      \n",
              "  <style>\n",
              "    .colab-df-container {\n",
              "      display:flex;\n",
              "      flex-wrap:wrap;\n",
              "      gap: 12px;\n",
              "    }\n",
              "\n",
              "    .colab-df-convert {\n",
              "      background-color: #E8F0FE;\n",
              "      border: none;\n",
              "      border-radius: 50%;\n",
              "      cursor: pointer;\n",
              "      display: none;\n",
              "      fill: #1967D2;\n",
              "      height: 32px;\n",
              "      padding: 0 0 0 0;\n",
              "      width: 32px;\n",
              "    }\n",
              "\n",
              "    .colab-df-convert:hover {\n",
              "      background-color: #E2EBFA;\n",
              "      box-shadow: 0px 1px 2px rgba(60, 64, 67, 0.3), 0px 1px 3px 1px rgba(60, 64, 67, 0.15);\n",
              "      fill: #174EA6;\n",
              "    }\n",
              "\n",
              "    [theme=dark] .colab-df-convert {\n",
              "      background-color: #3B4455;\n",
              "      fill: #D2E3FC;\n",
              "    }\n",
              "\n",
              "    [theme=dark] .colab-df-convert:hover {\n",
              "      background-color: #434B5C;\n",
              "      box-shadow: 0px 1px 3px 1px rgba(0, 0, 0, 0.15);\n",
              "      filter: drop-shadow(0px 1px 2px rgba(0, 0, 0, 0.3));\n",
              "      fill: #FFFFFF;\n",
              "    }\n",
              "  </style>\n",
              "\n",
              "      <script>\n",
              "        const buttonEl =\n",
              "          document.querySelector('#df-031e5571-ff64-41cb-85dd-df4af2b232dc button.colab-df-convert');\n",
              "        buttonEl.style.display =\n",
              "          google.colab.kernel.accessAllowed ? 'block' : 'none';\n",
              "\n",
              "        async function convertToInteractive(key) {\n",
              "          const element = document.querySelector('#df-031e5571-ff64-41cb-85dd-df4af2b232dc');\n",
              "          const dataTable =\n",
              "            await google.colab.kernel.invokeFunction('convertToInteractive',\n",
              "                                                     [key], {});\n",
              "          if (!dataTable) return;\n",
              "\n",
              "          const docLinkHtml = 'Like what you see? Visit the ' +\n",
              "            '<a target=\"_blank\" href=https://colab.research.google.com/notebooks/data_table.ipynb>data table notebook</a>'\n",
              "            + ' to learn more about interactive tables.';\n",
              "          element.innerHTML = '';\n",
              "          dataTable['output_type'] = 'display_data';\n",
              "          await google.colab.output.renderOutput(dataTable, element);\n",
              "          const docLink = document.createElement('div');\n",
              "          docLink.innerHTML = docLinkHtml;\n",
              "          element.appendChild(docLink);\n",
              "        }\n",
              "      </script>\n",
              "    </div>\n",
              "  </div>\n",
              "  "
            ]
          },
          "metadata": {},
          "execution_count": 20
        }
      ],
      "source": [
        "df_train.head()"
      ]
    },
    {
      "cell_type": "code",
      "execution_count": null,
      "metadata": {
        "colab": {
          "base_uri": "https://localhost:8080/"
        },
        "id": "tIyt0EvEupyc",
        "outputId": "0b9f1ff7-6b95-46b5-e1ed-7414ad1010f8"
      },
      "outputs": [
        {
          "output_type": "stream",
          "name": "stdout",
          "text": [
            "Looking in indexes: https://pypi.org/simple, https://us-python.pkg.dev/colab-wheels/public/simple/\n",
            "Requirement already satisfied: gensim in /usr/local/lib/python3.8/dist-packages (3.6.0)\n",
            "Requirement already satisfied: numpy>=1.11.3 in /usr/local/lib/python3.8/dist-packages (from gensim) (1.21.6)\n",
            "Requirement already satisfied: scipy>=0.18.1 in /usr/local/lib/python3.8/dist-packages (from gensim) (1.7.3)\n",
            "Requirement already satisfied: six>=1.5.0 in /usr/local/lib/python3.8/dist-packages (from gensim) (1.15.0)\n",
            "Requirement already satisfied: smart-open>=1.2.1 in /usr/local/lib/python3.8/dist-packages (from gensim) (6.3.0)\n"
          ]
        }
      ],
      "source": [
        "!pip install gensim"
      ]
    },
    {
      "cell_type": "code",
      "execution_count": null,
      "metadata": {
        "id": "NYGxsmCRudDg"
      },
      "outputs": [],
      "source": [
        "import gensim\n",
        "from gensim.models import Word2Vec"
      ]
    },
    {
      "cell_type": "code",
      "execution_count": null,
      "metadata": {
        "id": "QwgMjlWoFjoJ"
      },
      "outputs": [],
      "source": [
        "sentences = [['affected', 'need',\n",
        " 'aftermath',\n",
        " 'arrest',\n",
        " 'attack',\n",
        " 'authorities',\n",
        " 'blast',\n",
        " 'bomber',\n",
        " 'bombing',\n",
        " 'braces',\n",
        " 'buried',\n",
        " 'bushfire',\n",
        " 'casualties',\n",
        " 'cleanup',\n",
        " 'collapse',\n",
        " 'collapsed',\n",
        " 'conditions',\n",
        " 'crash',\n",
        " 'crisis',\n",
        " 'damage',\n",
        " 'dangerous',\n",
        " 'dead',\n",
        " 'deadly',\n",
        " 'death',\n",
        " 'destroyed',\n",
        " 'destruction',\n",
        " 'devastating',\n",
        " 'disaster',\n",
        " 'displaced',\n",
        " 'donate',\n",
        " 'dozens',\n",
        " 'dramatic',\n",
        " 'drown',\n",
        " 'emergency',\n",
        " 'enforcement',\n",
        " 'evacuated',\n",
        " 'evacuees',\n",
        " 'events',\n",
        " 'explosion',\n",
        " 'fatalities',\n",
        " 'firefighters',\n",
        " 'flood',\n",
        " 'flooding',\n",
        " 'floodwaters',\n",
        " 'footage',\n",
        " 'help!',\n",
        " 'hurricane',\n",
        " 'imminent',\n",
        " 'impacted',\n",
        " 'injured',\n",
        " 'injuries',\n",
        " 'inundated',\n",
        " 'investigation',\n",
        " 'landfall',\n",
        " 'levy',\n",
        " 'looting',\n",
        " 'magnitude',\n",
        " 'massive',\n",
        " 'military',\n",
        " 'nursing',\n",
        " 'outage',\n",
        " 'prayers',\n",
        " 'praying',\n",
        " 'ravaged',\n",
        " 'rebuild',\n",
        " 'rebuilt',\n",
        " 'recede',\n",
        " 'recover',\n",
        " 'redcross',\n",
        " 'relief',\n",
        " 'rescue',\n",
        " 'rescuers',\n",
        " 'residents',\n",
        " 'responders',\n",
        " 'rubble',\n",
        " 'saddened',\n",
        " 'safety',\n",
        " 'seismic',\n",
        " 'shelter',\n",
        " 'soldier',\n",
        " 'storm',\n",
        " 'stream',\n",
        " 'surviving',\n",
        " 'survivor',\n",
        " 'terrifying',\n",
        " 'terror',\n",
        " 'toll',\n",
        " 'tornado',\n",
        " 'torrential',\n",
        " 'toxins',\n",
        " 'tragedy',\n",
        " 'tragic',\n",
        " 'troops',\n",
        " 'twister',\n",
        " 'unaccounted',\n",
        " 'urgent',\n",
        " 'victims',\n",
        " 'volunteers',\n",
        " 'warning',\n",
        " 'wounded']]"
      ]
    },
    {
      "cell_type": "code",
      "execution_count": null,
      "metadata": {
        "colab": {
          "base_uri": "https://localhost:8080/"
        },
        "id": "_8l5ThO0so2w",
        "outputId": "149d58b2-4ae4-4010-e0da-66d9dc659700"
      },
      "outputs": [
        {
          "output_type": "stream",
          "name": "stderr",
          "text": [
            "WARNING:gensim.models.base_any2vec:under 10 jobs per worker: consider setting a smaller `batch_words' for smoother alpha decay\n"
          ]
        }
      ],
      "source": [
        "word2vec1 = gensim.models.Word2Vec(sentences, min_count = 1,size = 100, window = 5, sg=0)"
      ]
    },
    {
      "cell_type": "code",
      "execution_count": null,
      "metadata": {
        "id": "jZoT00nYJZtb"
      },
      "outputs": [],
      "source": [
        "word2vec2 = gensim.models.Word2Vec(df_train['tokenized'], min_count = 1,size = 100, window = 5, sg=0)"
      ]
    },
    {
      "cell_type": "code",
      "execution_count": null,
      "metadata": {
        "colab": {
          "base_uri": "https://localhost:8080/"
        },
        "id": "Bd0qhqQN9hxt",
        "outputId": "e11740d7-526a-4096-8ea4-ac42f9c4b0e6"
      },
      "outputs": [
        {
          "output_type": "stream",
          "name": "stderr",
          "text": [
            "WARNING:gensim.models.base_any2vec:Effective 'alpha' higher than previous training cycles\n"
          ]
        },
        {
          "output_type": "execute_result",
          "data": {
            "text/plain": [
              "(246973, 278790)"
            ]
          },
          "metadata": {},
          "execution_count": 26
        }
      ],
      "source": [
        "word2vec2.train(df_train['tokenized'], total_examples=word2vec2.corpus_count, epochs=word2vec2.epochs)"
      ]
    },
    {
      "cell_type": "code",
      "execution_count": null,
      "metadata": {
        "colab": {
          "base_uri": "https://localhost:8080/"
        },
        "id": "XxtBgUHN9rry",
        "outputId": "ea74fc9d-a8e1-4ec1-9d1e-5a2767e9e4f2"
      },
      "outputs": [
        {
          "output_type": "execute_result",
          "data": {
            "text/plain": [
              "[('pleas', 0.9990265965461731),\n",
              " ('support', 0.9970386028289795),\n",
              " ('us', 0.996990978717804),\n",
              " ('let', 0.9962489604949951),\n",
              " ('friend', 0.9955359101295471),\n",
              " ('need', 0.9949182271957397),\n",
              " ('give', 0.9948223829269409),\n",
              " ('amp', 0.9942301511764526),\n",
              " ('thank', 0.9941924214363098),\n",
              " ('precious', 0.9938349723815918)]"
            ]
          },
          "metadata": {},
          "execution_count": 27
        }
      ],
      "source": [
        "word2vec2.wv.most_similar(\"help\")"
      ]
    },
    {
      "cell_type": "code",
      "execution_count": null,
      "metadata": {
        "colab": {
          "base_uri": "https://localhost:8080/"
        },
        "id": "yx0CusGSv5Yj",
        "outputId": "d377f42a-ffe7-4832-b0e4-2e035a55f8b9"
      },
      "outputs": [
        {
          "output_type": "stream",
          "name": "stdout",
          "text": [
            "[('destroyed', 0.19037997722625732), ('magnitude', 0.18884752690792084), ('massive', 0.1840694546699524), ('military', 0.18279783427715302), ('displaced', 0.16949763894081116), ('recover', 0.1667279303073883), ('help!', 0.16128280758857727), ('rubble', 0.15881605446338654), ('wounded', 0.1432119607925415), ('affected', 0.13639605045318604)]\n"
          ]
        }
      ],
      "source": [
        "sim_words = word2vec1.wv.most_similar('blast')\n",
        "print(sim_words)"
      ]
    },
    {
      "cell_type": "code",
      "execution_count": null,
      "metadata": {
        "id": "aS1jxexR4snu"
      },
      "outputs": [],
      "source": [
        "#model2.accuracy(df_train['tokenized'])"
      ]
    },
    {
      "cell_type": "code",
      "execution_count": null,
      "metadata": {
        "id": "ER7ShDL0VOVn"
      },
      "outputs": [],
      "source": [
        "from keras.preprocessing.text import Tokenizer\n",
        "tokenizer = Tokenizer()"
      ]
    },
    {
      "cell_type": "code",
      "execution_count": null,
      "metadata": {
        "colab": {
          "base_uri": "https://localhost:8080/"
        },
        "id": "JDj41Rz2VPqK",
        "outputId": "fd3c76db-0c56-4fa6-a8a5-009027c2a667"
      },
      "outputs": [
        {
          "output_type": "stream",
          "name": "stdout",
          "text": [
            "{'nepal': 1, 'earthquak': 2, 'help': 3, 'peopl': 4, 'amp': 5, 'prayer': 6, 'god': 7, 'quak': 8, 'donat': 9, 'pleas': 10, 'u': 11, 'india': 12, '2': 13, '4': 14, 'news': 15, 'kathmandu': 16, 'relief': 17, 'send': 18, 'love': 19, 'f': 20, 'go': 21, 'via': 22, 'one': 23, 'thank': 24, 'death': 25, 'victim': 26, 'rescu': 27, '1': 28, 'toll': 29, 'devast': 30, 'say': 31, 'disast': 32, 'pray': 33, 'indian': 34, 'heart': 35, 'team': 36, 'support': 37, 'live': 38, 'may': 39, 'aid': 40, 'hope': 41, 'day': 42, 'us': 43, 'need': 44, '7': 45, 'like': 46, 'hit': 47, '3': 48, 'let': 49, 'know': 50, 'time': 51, 'today': 52, 'baltimor': 53, 'bless': 54, 'famili': 55, 'affect': 56, '5': 57, 'much': 58, 'see': 59, 'safe': 60, 'good': 61, 'everest': 62, 'think': 63, 'friend': 64, 'work': 65, 'mani': 66, 'dont': 67, 'give': 68, 'dead': 69, 'miss': 70, 'make': 71, 'effort': 72, 'strong': 73, 'stay': 74, 'world': 75, 'still': 76, 'get': 77, 'kill': 78, 'countri': 79, 'n': 80, 'everyon': 81, 'relev': 82, 'take': 83, 'pm': 84, '000': 85, 'call': 86, 'happen': 87, 'r': 88, 'want': 89, 'die': 90, 'tragedi': 91, 'home': 92, 'thought': 93, '8': 94, '9': 95, 'come': 96, 'cant': 97, 'feel': 98, 'follow': 99, 'im': 100, 'life': 101, 'report': 102, 'aftershock': 103, 'could': 104, 'great': 105, 'lost': 106, 'avalanch': 107, 'reach': 108, 'keep': 109, 'realli': 110, 'area': 111, 'human': 112, 'right': 113, 'save': 114, 'c': 115, 'show': 116, 'new': 117, 'nation': 118, 'money': 119, 'look': 120, 'read': 121, 'fund': 122, 'survivor': 123, 'tweet': 124, 'even': 125, 'plz': 126, 'share': 127, 'video': 128, 'sad': 129, 'children': 130, 'wish': 131, 'back': 132, 'ur': 133, 'also': 134, 'updat': 135, 'would': 136, '10': 137, '6': 138, 'big': 139, 'armi': 140, 'respons': 141, 'post': 142, 'magnitud': 143, 'modi': 144, 'food': 145, 'natur': 146, 'b': 147, 'made': 148, 'nepales': 149, 'massiv': 150, 'well': 151, 'gt': 152, 'googl': 153, 'govern': 154, 'hour': 155, 'least': 156, 'way': 157, 'care': 158, 'pls': 159, 'million': 160, 'rise': 161, 'near': 162, 'talk': 163, 'ppl': 164, 'camp': 165, 'thing': 166, 'tri': 167, 'power': 168, 'oh': 169, 'word': 170, 'first': 171, 'number': 172, 'person': 173, 'use': 174, 'photo': 175, 'brother': 176, 'moment': 177, 'media': 178, 'oper': 179, 'emerg': 180, 'man': 181, 'free': 182, 'facebook': 183, 'water': 184, 'year': 185, 'w': 186, 'forc': 187, 'hear': 188, 'rubbl': 189, 'proud': 190, 'appeal': 191, 'provid': 192, 'find': 193, 'watch': 194, 'assist': 195, 'rais': 196, 'thousand': 197, 'ask': 198, 'damag': 199, 'wait': 200, 'that': 201, 'search': 202, 'last': 203, 'earth': 204, '2015': 205, 'place': 206, 'best': 207, 'villag': 208, 'contact': 209, 'govt': 210, 'stori': 211, 'break': 212, 'inform': 213, '100': 214, 'week': 215, 'nepali': 216, 'bad': 217, 'e': 218, 'open': 219, 'base': 220, 'peac': 221, 'dear': 222, 'latest': 223, 'injur': 224, 'pictur': 225, 'morn': 226, 'state': 227, 'guy': 228, 'worri': 229, 'sent': 230, 'local': 231, 'destroy': 232, 'stop': 233, 'flight': 234, 'everi': 235, 'anoth': 236, 'must': 237, 'text': 238, 'two': 239, 'build': 240, 'tragic': 241, 'hand': 242, 'babi': 243, 'suppli': 244, 'israel': 245, 'china': 246, 'climber': 247, 'soul': 248, 'ok': 249, 'land': 250, 'tell': 251, 'start': 252, 'offer': 253, 'top': 254, 'evacu': 255, 'leav': 256, 'hospit': 257, 'situat': 258, 'condol': 259, 'mount': 260, 'ago': 261, 'part': 262, 'contribut': 263, 'heard': 264, 'delhi': 265, 'lot': 266, 'bodi': 267, 'check': 268, 'mother': 269, 'suffer': 270, 'put': 271, 'anyon': 272, 'beauti': 273, 'got': 274, 'fuck': 275, 'lord': 276, '25': 277, 'chariti': 278, 'continu': 279, 'offici': 280, 'night': 281, 'felt': 282, 'loss': 283, 'next': 284, 'due': 285, 'said': 286, 'site': 287, 'heartbreak': 288, 'fear': 289, 'join': 290, 'pain': 291, 'tremor': 292, 'sir': 293, 'caus': 294, 'bring': 295, 'action': 296, 'destruct': 297, 'intern': 298, 'humanitarian': 299, 'iaf': 300, 'around': 301, 'travel': 302, 'april': 303, 'soon': 304, 'cross': 305, 'never': 306, 'goe': 307, 'medic': 308, 'respond': 309, 'shock': 310, 'someon': 311, 'head': 312, 'what': 313, 'kind': 314, 'link': 315, 'foreign': 316, 'wonder': 317, 'ground': 318, 'long': 319, 'info': 320, 'relat': 321, 'rss': 322, 'seem': 323, 'minist': 324, 'imag': 325, '500': 326, 'strand': 327, 'poor': 328, 'struck': 329, 'alreadi': 330, 'gorkha': 331, 'hous': 332, 'alway': 333, 'terribl': 334, 'amaz': 335, 'servic': 336, 'allah': 337, 'someth': 338, 'rush': 339, 'worst': 340, 'unicef': 341, 'pic': 342, 'face': 343, 'polic': 344, 'pakistan': 345, 'aircraft': 346, 'surviv': 347, 'templ': 348, 'other': 349, 'light': 350, 'didnt': 351, 'aliv': 352, 'ive': 353, 'messag': 354, 'sinc': 355, 'old': 356, 'crisi': 357, 'littl': 358, 'volunt': 359, 'name': 360, 'mobil': 361, 'without': 362, 'real': 363, 'red': 364, 'rip': 365, 'social': 366, 'import': 367, 'bruce': 368, 'member': 369, '400': 370, 'anyth': 371, 'uk': 372, 'woman': 373, 'yet': 374, 'plane': 375, 'visit': 376, 'far': 377, 'your': 378, 'jenner': 379, 'isra': 380, 'everyth': 381, 'list': 382, 'arriv': 383, 'air': 384, 'chpsre': 385, 'deploy': 386, 'concern': 387, 'collect': 388, 'imagin': 389, 'airport': 390, 'return': 391, 'sure': 392, 'christian': 393, 'rememb': 394, 'citi': 395, 'plan': 396, 'spread': 397, 'appreci': 398, 'sister': 399, 'mountain': 400, 'quick': 401, '30': 402, 'doctor': 403, 'un': 404, 'polit': 405, 'sleep': 406, 'aw': 407, 'mind': 408, 'strength': 409, 'move': 410, 'major': 411, 'includ': 412, 'stand': 413, 'capit': 414, 'merci': 415, 'month': 416, 'among': 417, 'ndrf': 418, 'p': 419, '200': 420, 'helicopt': 421, 'tonight': 422, 'togeth': 423, '11': 424, 'done': 425, 'happi': 426, 'sorri': 427, 'saturday': 428, 'materi': 429, '12': 430, 'found': 431, 'left': 432, 'salut': 433, 'full': 434, 'bbc': 435, 'minut': 436, 'urgent': 437, 'safeti': 438, 'high': 439, 'rescuer': 440, 'citizen': 441, 'true': 442, 'trend': 443, 'communiti': 444, 'group': 445, 'hi': 446, 'mission': 447, 'set': 448, 'hurt': 449, 'event': 450, 'step': 451, 'cost': 452, 'rebuild': 453, 'h': 454, 'job': 455, 'taken': 456, 'end': 457, 'ever': 458, 'away': 459, 'went': 460, 'pass': 461, 'differ': 462, 'serious': 463, 'noth': 464, 'riot': 465, 'forget': 466, 'trap': 467, 'hundr': 468, 'mt': 469, 'hindu': 470, 'phone': 471, 'complet': 472, 'tower': 473, 'here': 474, 'connect': 475, 'jesus': 476, 'footag': 477, 'locat': 478, 'risk': 479, 'desper': 480, 'seen': 481, 'twitter': 482, '48': 483, 'problem': 484, 'wake': 485, 'given': 486, 'map': 487, 'wont': 488, 'region': 489, 'presid': 490, 'helplin': 491, 'fli': 492, 'speak': 493, 'respect': 494, 'rock': 495, 'gone': 496, 'pull': 497, 'prepar': 498, 'critic': 499, 'reduc': 500, 'yes': 501, 'ktm': 502, 'learn': 503, 'huge': 504, 'focus': 505, 'tomorrow': 506, 'heavi': 507, 'okay': 508, '27': 509, 'might': 510, 'possibl': 511, 'missionari': 512, 'matter': 513, 'bank': 514, 'across': 515, 'express': 516, 'heal': 517, 'blog': 518, 'cnn': 519, 'girl': 520, 'school': 521, 'sever': 522, 'packet': 523, 'turn': 524, 'aftermath': 525, '15': 526, 'hey': 527, 'ht': 528, 'announc': 529, 'confirm': 530, '20': 531, 'tent': 532, '14': 533, 'unit': 534, 'climb': 535, 'singh': 536, 'cri': 537, 'busi': 538, 'isnt': 539, 'believ': 540, 'terrifi': 541, 'small': 542, 'enough': 543, 'expect': 544, 'voic': 545, 'shelter': 546, 'epicent': 547, 'toward': 548, 'outsid': 549, 'fact': 550, 'abt': 551, 'collaps': 552, 'lt': 553, 'readi': 554, 'shame': 555, 'extend': 556, 'hard': 557, 'min': 558, 'shit': 559, 'ji': 560, 'ministri': 561, 'close': 562, '17': 563, 'south': 564, 'better': 565, 'final': 566, 'nd': 567, 'yesterday': 568, 'embassi': 569, 'involv': 570, 'per': 571, 'fr': 572, 'carri': 573, 'etc': 574, 'tourist': 575, 'impact': 576, 'viber': 577, 'effect': 578, 'expert': 579, 'yemen': 580, 'clear': 581, 'count': 582, 'whole': 583, 'saw': 584, 'casualti': 585, 'initi': 586, 'doesnt': 587, 'less': 588, 'bit': 589, 'incred': 590, 'coverag': 591, 'execut': 592, 'tv': 593, 'recov': 594, 'eat': 595, 'remot': 596, 'scare': 597, 'recent': 598, 'bihar': 599, '977': 600, 'rest': 601, 'consid': 602, 'kid': 603, 'there': 604, 'student': 605, 'ruin': 606, 'clean': 607, 'york': 608, 'drone': 609, 'histori': 610, 'road': 611, 'hold': 612, 'squar': 613, 'activ': 614, 'town': 615, 'k': 616, 'page': 617, 'overwhelm': 618, 'scari': 619, 'mean': 620, '4000': 621, 'lead': 622, 'total': 623, 'overcom': 624, 'british': 625, 'shake': 626, 'run': 627, 'katmandu': 628, 'centr': 629, 'five': 630, 'took': 631, 'offic': 632, 'stuck': 633, 'struggl': 634, 'histor': 635, 'chang': 636, 'line': 637, 'op': 638, 'finder': 639, 'ill': 640, '50': 641, 'billion': 642, 'launch': 643, 'account': 644, 'coupl': 645, 'north': 646, 'compani': 647, 'staff': 648, 'mourn': 649, 'instead': 650, 'valley': 651, 'rain': 652, 'border': 653, 'control': 654, 'room': 655, 'hes': 656, 'becom': 657, '28': 658, 'receiv': 659, 'wors': 660, 'public': 661, 'muslim': 662, 'manag': 663, '22': 664, 'global': 665, 'heritag': 666, 'strike': 667, 'depart': 668, 'hrs': 669, '700': 670, 'faith': 671, 'frm': 672, 'four': 673, '300': 674, 'bhaktapur': 675, 'gurkha': 676, 'district': 677, 'asia': 678, 'calam': 679, 'trip': 680, '24': 681, 'begin': 682, 'resid': 683, 'htt': 684, 'mea': 685, 'v': 686, 'second': 687, 'stupid': 688, 'dog': 689, 'generous': 690, 'captur': 691, 'bjp': 692, 'durbar': 693, 'women': 694, 'warn': 695, 'arm': 696, 'born': 697, 'direct': 698, 'flee': 699, 'terror': 700, 'app': 701, 'actual': 702, 'pay': 703, 'wrong': 704, 'cover': 705, 'estim': 706, 'dr': 707, 'glad': 708, 'excel': 709, 'organ': 710, 'blood': 711, 'leader': 712, 'releas': 713, 'usa': 714, 'network': 715, 'golden': 716, 'match': 717, 'touch': 718, 'deepest': 719, 'trigger': 720, 'joke': 721, 'parti': 722, 'eye': 723, 'seek': 724, 'weekend': 725, 'ngos': 726, 'recoveri': 727, 'ad': 728, 'landslid': 729, 'patan': 730, 'parent': 731, 'fundrais': 732, 'side': 733, 'click': 734, 'buri': 735, 'els': 736, 'three': 737, 'roll': 738, 'deserv': 739, 'access': 740, 'requir': 741, 'hate': 742, 'remain': 743, 'father': 744, 'meet': 745, 'fight': 746, 'behind': 747, 'listen': 748, 'onlin': 749, 'ya': 750, 'front': 751, '0': 752, 'havent': 753, 'perform': 754, 'religion': 755, 'yeah': 756, 'prime': 757, '1st': 758, 'neighbour': 759, 'sunday': 760, 'ramdev': 761, 'french': 762, 'author': 763, 'hero': 764, 'koirala': 765, 'detail': 766, 'earlier': 767, 'trust': 768, 'worker': 769, 'health': 770, 'lakh': 771, 'cannot': 772, 'song': 773, 'protect': 774, '5000': 775, 'journalist': 776, 'son': 777, 'fine': 778, 'american': 779, 'assess': 780, '18': 781, 'wanna': 782, 'opportun': 783, '1000': 784, 'canada': 785, 'ap': 786, 'nightmar': 787, 'surrog': 788, 'idea': 789, 'shook': 790, 'whatev': 791, 'field': 792, 'channel': 793, 'email': 794, '800': 795, 'loot': 796, 'lucki': 797, 'de': 798, 'almighti': 799, 'along': 800, 'interest': 801, 'spend': 802, 'transport': 803, 'fire': 804, 'write': 805, 'posit': 806, 'monday': 807, 'piec': 808, 'guess': 809, 'lend': 810, 'satellit': 811, 'beef': 812, 'statement': 813, '80': 814, 'horribl': 815, '13': 816, 'ancient': 817, '40': 818, 'mr': 819, 'religi': 820, '130': 821, 'special': 822, 'omg': 823, 'question': 824, 'jai': 825, 'rs': 826, 'almost': 827, 'sanit': 828, 'grow': 829, 'child': 830, 'pile': 831, 'dan': 832, 'broken': 833, 'rather': 834, 'tibet': 835, 'agre': 836, 'street': 837, 'cancel': 838, 'till': 839, 'deliv': 840, '26': 841, 'rural': 842, 'request': 843, 'fan': 844, 'pokhara': 845, 'resourc': 846, 'caught': 847, 'org': 848, 'protest': 849, 'danger': 850, 'com': 851, 'develop': 852, 'war': 853, 'point': 854, 'sympathi': 855, 'rtlastquak': 856, 'reason': 857, 'interview': 858, 'headlin': 859, 'accept': 860, 'ach': 861, 'sadden': 862, 'xtian': 863, 'lesson': 864, 'burn': 865, 'perspect': 866, 'disgust': 867, 'selfi': 868, 'hell': 869, 'gandhi': 870, 'kudo': 871, 'abl': 872, 'engin': 873, 'personnel': 874, '55': 875, 'convert': 876, 'baba': 877, 'himalayan': 878, 'mayb': 879, 'gupta': 880, 'current': 881, 'deep': 882, 'hello': 883, 'short': 884, 'websit': 885, 'furi': 886, 'bed': 887, 'everywher': 888, 'code': 889, 'centuri': 890, 'vijay': 891, 'prioriti': 892, 'catastroph': 893, 'larg': 894, 'park': 895, 'condit': 896, 'horrif': 897, 'blanket': 898, 'australian': 899, 'crucial': 900, 'courag': 901, 'earli': 902, 'distribut': 903, 'within': 904, 'press': 905, 'maitri': 906, 'cultur': 907, 'avail': 908, 'cc': 909, 'reveal': 910, 'medicin': 911, 'nobodi': 912, 'prove': 913, 'nice': 914, 'west': 915, 'haiti': 916, 'black': 917, 'silenc': 918, 'photograph': 919, 'past': 920, 'epicentr': 921, 'scene': 922, '16': 923, 'await': 924, 'shower': 925, 'usg': 926, 'remind': 927, 'fellow': 928, 'later': 929, 'note': 930, 'difficult': 931, 'insid': 932, 'order': 933, '91': 934, 'key': 935, 'america': 936, '19': 937, 'sit': 938, 'oxfam': 939, 'violenc': 940, 'star': 941, 'absolut': 942, 'apr': 943, 'regard': 944, 'grief': 945, 'crazi': 946, 'act': 947, 'tho': 948, 'whos': 949, 'stuff': 950, 'mention': 951, 'non': 952, 'told': 953, 'debri': 954, 'space': 955, 'al': 956, 'futur': 957, 'sign': 958, 'spoke': 959, 'assur': 960, 'increas': 961, 'holi': 962, 'foundat': 963, 'built': 964, 'chief': 965, 'immedi': 966, 'eight': 967, 'partner': 968, 'weather': 969, 'lose': 970, 'creat': 971, 'pl': 972, 'view': 973, 'reuter': 974, 'exec': 975, 'knew': 976, 'comment': 977, 'pledg': 978, 'wow': 979, 'beyond': 980, 'fail': 981, 'campaign': 982, 'agenc': 983, 'chile': 984, 'everybodi': 985, 'j': 986, 'innoc': 987, 'heartfelt': 988, 'dig': 989, 'bare': 990, 'indonesia': 991, 'zone': 992, 'sourc': 993, 'equip': 994, 'bt': 995, 'farmer': 996, 'tool': 997, 'coordin': 998, 'folk': 999, 'radio': 1000, 'quot': 1001, 'rate': 1002, 'fatal': 1003, 'probabl': 1004, 'miracl': 1005, 'colleagu': 1006, 'helpless': 1007, 'attent': 1008, 'shift': 1009, 'especi': 1010, 'communic': 1011, 'green': 1012, 'daili': 1013, 'whose': 1014, 'vulner': 1015, 'buddhist': 1016, 'rahul': 1017, 'bibl': 1018, 'center': 1019, 'gonna': 1020, 'complain': 1021, 'patient': 1022, 'tibetan': 1023, 'gather': 1024, 'mark': 1025, 'handl': 1026, 'emot': 1027, 'feed': 1028, 'discuss': 1029, 'fake': 1030, 'hindus': 1031, 'x': 1032, 'amen': 1033, 'vote': 1034, 'howev': 1035, 'leadership': 1036, 'gaza': 1037, 'lol': 1038, 'tax': 1039, 'harri': 1040, 'moron': 1041, 'salari': 1042, 'tonn': 1043, 'race': 1044, 'sick': 1045, 'jump': 1046, 'drive': 1047, 'wid': 1048, 'came': 1049, 'narendra': 1050, 'kathmandus': 1051, 'blame': 1052, 'despit': 1053, '00': 1054, 'intensifi': 1055, 'figur': 1056, 'tear': 1057, 'case': 1058, 'km': 1059, '04': 1060, 'gestur': 1061, 'rout': 1062, 'men': 1063, 'trauma': 1064, 'reconstruct': 1065, 'slaughter': 1066, 'brave': 1067, 'speed': 1068, 'deal': 1069, 'rich': 1070, 'western': 1071, 'jolt': 1072, 'drink': 1073, 'liter': 1074, 'smile': 1075, 'dollar': 1076, 'unfortun': 1077, 'station': 1078, 'landmark': 1079, 'kumar': 1080, 'stronger': 1081, 'camera': 1082, 'wrench': 1083, 'art': 1084, 'societi': 1085, 'biggest': 1086, 'ignor': 1087, 'g': 1088, 'decid': 1089, 'injuri': 1090, 'john': 1091, 'basecamp': 1092, 'fm': 1093, 'dis': 1094, 'sat': 1095, 'whove': 1096, '449': 1097, 'skype': 1098, '4m': 1099, 'equal': 1100, 'king': 1101, 'commend': 1102, 'fb': 1103, 'shes': 1104, 'shouldnt': 1105, 'wat': 1106, 'mari': 1107, 'gen': 1108, 'flood': 1109, 'tough': 1110, 'damn': 1111, 'design': 1112, 'arent': 1113, 'smh': 1114, 'church': 1115, 'grate': 1116, 'alon': 1117, 'market': 1118, 'notic': 1119, 'dedic': 1120, 'organis': 1121, 'cnns': 1122, 'articl': 1123, 'correct': 1124, 'distress': 1125, 'white': 1126, 'understand': 1127, 'spirit': 1128, 'grant': 1129, 'welcom': 1130, 'modern': 1131, 'daughter': 1132, 'tire': 1133, 'spare': 1134, 'issu': 1135, 'internet': 1136, 'be': 1137, 'drop': 1138, 'clair': 1139, 'vultur': 1140, 'murder': 1141, '56': 1142, 'mp': 1143, 'guid': 1144, 'gave': 1145, 'st': 1146, 'affair': 1147, 'hav': 1148, 'tip': 1149, '900': 1150, 'mile': 1151, 'play': 1152, 'train': 1153, 'sikh': 1154, 'tourism': 1155, 'charg': 1156, 'l': 1157, 'dharahara': 1158, 'jane': 1159, 'arrang': 1160, 'fresh': 1161, 'gift': 1162, 'vs': 1163, 'young': 1164, 'theyr': 1165, 'known': 1166, 'gujarat': 1167, 'boy': 1168, 'slam': 1169, 'chao': 1170, 'chopper': 1171, 'thru': 1172, 'toilet': 1173, 'econom': 1174, 'bill': 1175, 'movi': 1176, 'proceed': 1177, 'homeless': 1178, 'bhutan': 1179, 'violent': 1180, 'treatment': 1181, 'vet': 1182, 'meanwhil': 1183, 'fredinburg': 1184, 'scot': 1185, 'bengal': 1186, 'anti': 1187, '21': 1188, 'paper': 1189, 'shut': 1190, 'ram': 1191, 'declar': 1192, '1400': 1193, 'main': 1194, 'convers': 1195, 'geolog': 1196, 'vigil': 1197, 'height': 1198, '05': 1199, 'choos': 1200, 'add': 1201, 'wall': 1202, 'angel': 1203, 'usual': 1204, 'sale': 1205, 'ca': 1206, '1000s': 1207, 'economi': 1208, 'claim': 1209, 'fallen': 1210, 'elect': 1211, 'scienc': 1212, 'book': 1213, '600': 1214, 'fall': 1215, 'id': 1216, 'east': 1217, 'canadian': 1218, '45': 1219, 'choic': 1220, 'orphan': 1221, 'fulli': 1222, 'famous': 1223, 'kit': 1224, 'predict': 1225, 'chines': 1226, 'idiot': 1227, 'christ': 1228, 'maldivian': 1229, 'refuge': 1230, 'though': 1231, 'en': 1232, 'risen': 1233, 'data': 1234, 'ki': 1235, 'truli': 1236, 'seven': 1237, 'volcano': 1238, 'basic': 1239, 'angri': 1240, 'amid': 1241, 'australia': 1242, 'extent': 1243, 'vision': 1244, 'mom': 1245, '3000': 1246, 'gov': 1247, 'pa': 1248, 'hv': 1249, 'frnd': 1250, 'higher': 1251, 'role': 1252, 'director': 1253, 'appl': 1254, 'ravag': 1255, 'resili': 1256, 'displac': 1257, 'actor': 1258, 'occur': 1259, 'age': 1260, 'upset': 1261, 'islam': 1262, 'selfless': 1263, 'inde': 1264, 'lama': 1265, 'bennett': 1266, 'class': 1267, 'suppos': 1268, 'honest': 1269, 'easi': 1270, 'suck': 1271, 'truth': 1272, 'sometim': 1273, 'maharaj': 1274, 'escap': 1275, 'task': 1276, 'dozen': 1277, 'spent': 1278, 'entir': 1279, 'low': 1280, 'cremat': 1281, 'luck': 1282, 'exceed': 1283, 'hindon': 1284, 'franc': 1285, 'bay': 1286, 'shld': 1287, 'briton': 1288, 'thr': 1289, 'buy': 1290, 'brought': 1291, 'sushil': 1292, 'comfort': 1293, 'intl': 1294, 'feet': 1295, 'raw': 1296, 'doubl': 1297, 'waiv': 1298, 'redcross': 1299, 'financi': 1300, 'cold': 1301, 'ho': 1302, '08': 1303, 'utc': 1304, 'fast': 1305, 'goi': 1306, 'bharat': 1307, 'london': 1308, 'suggest': 1309, 'necessari': 1310, 'flag': 1311, 'wound': 1312, 'shop': 1313, 'bottl': 1314, 'bout': 1315, 'bird': 1316, 'cash': 1317, 'obama': 1318, 'adopt': 1319, 'mil': 1320, 'horrifi': 1321, 'thx': 1322, '250': 1323, 'anim': 1324, 'blow': 1325, 'tuesday': 1326, 'valu': 1327, 'shaken': 1328, 'rattl': 1329, 'addit': 1330, 'recal': 1331, 'hotel': 1332, 'bangladesh': 1333, 'abc': 1334, 'commit': 1335, 'sun': 1336, 'indo': 1337, '2nd': 1338, 'soldier': 1339, 'horror': 1340, 'wrote': 1341, 'queen': 1342, 'impress': 1343, 'custom': 1344, '01': 1345, 'establish': 1346, 'grace': 1347, 'law': 1348, 'th': 1349, 'amritsar': 1350, 'newspap': 1351, 'memori': 1352, 'structur': 1353, 'influenc': 1354, 'shud': 1355, 'dat': 1356, 'hai': 1357, 'co': 1358, 'nt': 1359, '23': 1360, 'em': 1361, 'jet': 1362, 'dispatch': 1363, 'crack': 1364, 'normal': 1365, 'ameen': 1366, 'individu': 1367, 'mine': 1368, 'level': 1369, 'youv': 1370, 'intens': 1371, 'sound': 1372, 'essenti': 1373, 'restor': 1374, 'punjab': 1375, 'delay': 1376, 'congress': 1377, 'board': 1378, 'simpl': 1379, 'decad': 1380, 'scale': 1381, 'stress': 1382, 'stream': 1383, 'forward': 1384, 'sardar': 1385, 'plus': 1386, 'sorrow': 1387, 'serv': 1388, 'celeb': 1389, 'la': 1390, 'lack': 1391, 'neighbor': 1392, 'footbal': 1393, 'self': 1394, 'warm': 1395, 'singl': 1396, 'treat': 1397, 'standbi': 1398, 'scientist': 1399, 'thi': 1400, 'troubl': 1401, 'track': 1402, 'bollywood': 1403, 'duti': 1404, 'walk': 1405, 'planet': 1406, 'con': 1407, 'properti': 1408, 'reliev': 1409, 'win': 1410, 'bitch': 1411, 'bear': 1412, 'asap': 1413, 'button': 1414, 'unbeliev': 1415, 'coin': 1416, 'grt': 1417, 'inevit': 1418, 'date': 1419, 'brain': 1420, '1500': 1421, '72': 1422, 'brand': 1423, 'beg': 1424, 'central': 1425, 'couldnt': 1426, 'credit': 1427, 'wht': 1428, 'opinion': 1429, 'yrs': 1430, 'palestin': 1431, 'late': 1432, 'met': 1433, 'promis': 1434, 'chanc': 1435, 'aint': 1436, 'bomb': 1437, 'sakshi': 1438, 'annoy': 1439, 'determin': 1440, 'mps': 1441, 'visibl': 1442, 'ladi': 1443, 'globemast': 1444, 'iii': 1445, 'apart': 1446, 'africa': 1447, 'lift': 1448, 'rapid': 1449, '617': 1450, 'afp': 1451, 'firefight': 1452, 'taiwan': 1453, 'anybodi': 1454, 'institut': 1455, 'strengthen': 1456, 'fragil': 1457, 'industri': 1458, 'electr': 1459, 'accord': 1460, 'form': 1461, 'gurung': 1462, 'airlift': 1463, 'program': 1464, 'comparison': 1465, 'avoid': 1466, 'fault': 1467, 'idf': 1468, 'telecom': 1469, 'origin': 1470, 'ambassador': 1471, 'dramat': 1472, 'depth': 1473, '70123': 1474, 'pretti': 1475, 'monk': 1476, 'price': 1477, 'sell': 1478, 'frighten': 1479, 'swing': 1480, 'unpredict': 1481, 'greater': 1482, 'ten': 1483, 'super': 1484, '1m': 1485, 'limit': 1486, 'benefit': 1487, 'auction': 1488, 'attempt': 1489, 'sum': 1490, 'teach': 1491, 'former': 1492, 'anger': 1493, 'exact': 1494, 'measur': 1495, 'profit': 1496, 'freddi': 1497, 'describ': 1498, 'nyt': 1499, 'shortag': 1500, 'tech': 1501, 'corrupt': 1502, 'bloodi': 1503, 'either': 1504, 'sri': 1505, 'teen': 1506, '29': 1507, 'prevent': 1508, 'vehicl': 1509, 'woke': 1510, 'hat': 1511, 'swift': 1512, 'cm': 1513, 'cloth': 1514, 'solar': 1515, 'ass': 1516, 'tremend': 1517, 'appropri': 1518, 'militari': 1519, 'justic': 1520, '114': 1521, 'solidar': 1522, 'panic': 1523, 'dream': 1524, 'crush': 1525, 'door': 1526, 'ne': 1527, 'urban': 1528, 'precious': 1529, 'sheridan': 1530, 'item': 1531, 'nepalearthquak': 1532, '2000': 1533, 'flown': 1534, '011': 1535, 'awar': 1536, 'tie': 1537, 'harvest': 1538, 'stone': 1539, 'propaganda': 1540, 'sweep': 1541, 'slow': 1542, 'commerci': 1543, 'northern': 1544, 'anyway': 1545, 'vital': 1546, 'committe': 1547, 'mass': 1548, 'san': 1549, 'mumbai': 1550, 'compass': 1551, '2014': 1552, 'convey': 1553, 'pak': 1554, 'amount': 1555, 'infrastructur': 1556, 'shine': 1557, 'regist': 1558, 'buse': 1559, 'ahead': 1560, 'period': 1561, 'insur': 1562, 'shown': 1563, 'pour': 1564, '80088': 1565, 'hashtag': 1566, 'dec': 1567, 'mental': 1568, 'extrem': 1569, 'wreck': 1570, 'ngo': 1571, 'ke': 1572, '120': 1573, '60': 1574, 'aap': 1575, '2301': 1576, 'hygien': 1577, 'movement': 1578, 'prais': 1579, 'letter': 1580, 'alert': 1581, 'eq': 1582, 'tecton': 1583, 'plate': 1584, 'holiday': 1585, '44': 1586, 'pastor': 1587, 'rebuilt': 1588, 'wit': 1589, 'repostapp': 1590, 'dude': 1591, 'challeng': 1592, 'expat': 1593, 'clinton': 1594, 'surgeri': 1595, 'dark': 1596, 'brazil': 1597, 'gdp': 1598, 'yo': 1599, 'sky': 1600, 'club': 1601, 'hill': 1602, 'japan': 1603, 'upon': 1604, 'result': 1605, '1800': 1606, 'bastard': 1607, 'calm': 1608, 'foot': 1609, 'lok': 1610, 'sabha': 1611, 'pope': 1612, 'client': 1613, 'loui': 1614, 'isi': 1615, 'husband': 1616, 'hasnt': 1617, 'explain': 1618, 'worldwid': 1619, 'legal': 1620, 'repli': 1621, 'exampl': 1622, 'sorti': 1623, 'record': 1624, 'surgeon': 1625, 'knw': 1626, 'tag': 1627, 'erupt': 1628, 'status': 1629, 'six': 1630, 'energi': 1631, 'mate': 1632, 'celebr': 1633, 'system': 1634, 'suprem': 1635, 'court': 1636, 'english': 1637, 'welfar': 1638, 'spiritu': 1639, 'dalai': 1640, 'term': 1641, 'experienc': 1642, 'ridicul': 1643, 'flatten': 1644, 'wen': 1645, 'asian': 1646, 'brutal': 1647, 'shameless': 1648, 'whenev': 1649, 'topic': 1650, 'thug': 1651, 'blah': 1652, 'jew': 1653, 'rocket': 1654, 'kedarnath': 1655, 'popular': 1656, 'forgiv': 1657, 'secular': 1658, 'politician': 1659, 'associ': 1660, 'hillari': 1661, 'deleg': 1662, '52': 1663, 'expos': 1664, 'masala': 1665, '150': 1666, 'guru': 1667, '9851135141': 1668, 'closer': 1669, 'yadav': 1670, 'b4': 1671, 'cont': 1672, 'petit': 1673, 'expedit': 1674, 'cud': 1675, 'rose': 1676, 'box': 1677, 'store': 1678, 'crap': 1679, 'enter': 1680, 'vodafon': 1681, 'reliabl': 1682, 'prabal': 1683, '62': 1684, 'fare': 1685, 'malaysia': 1686, 'somewher': 1687, 'fair': 1688, '170': 1689, 'scenario': 1690, 'stringstori': 1691, 'changetip': 1692, 'advanc': 1693, 'incid': 1694, 'shot': 1695, 'iran': 1696, '130j': 1697, 'conduct': 1698, 'abroad': 1699, 'med': 1700, 'shahi': 1701, 'singapor': 1702, 'user': 1703, 'fantast': 1704, 'pib': 1705, 'threat': 1706, 'patanjali': 1707, 'tireless': 1708, 'mos': 1709, 'sincer': 1710, 'ab': 1711, 'band': 1712, 'deed': 1713, 'specialist': 1714, 'oversea': 1715, 'om': 1716, 'hum': 1717, 'int': 1718, 'pick': 1719, 'highlight': 1720, 'brit': 1721, 'chill': 1722, 'coach': 1723, 'deadliest': 1724, 'compar': 1725, 'sq': 1726, 'palam': 1727, '688': 1728, 'crew': 1729, 'film': 1730, 'zero': 1731, 'pro': 1732, 'timesnow': 1733, 'divert': 1734, 'wise': 1735, 'secur': 1736, 'paid': 1737, 'inspir': 1738, 'landlin': 1739, 'edit': 1740, 'fox': 1741, 'ani': 1742, 'griev': 1743, '36': 1744, '76': 1745, 'floor': 1746, 'il': 1747, '3novic': 1748, 'wednesday': 1749, 'rail': 1750, 'earn': 1751, 'youth': 1752, 'half': 1753, 'buddha': 1754, 'los': 1755, 'mod': 1756, 'weve': 1757, 'car': 1758, 'load': 1759, '81': 1760, 'sens': 1761, 'disastr': 1762, 'surpris': 1763, 'jerusalem': 1764, 'shoot': 1765, 'palac': 1766, 'trail': 1767, 'kingdom': 1768, 'm7': 1769, 'minim': 1770, 'prepared': 1771, '70066': 1772, 'yoga': 1773, 'airtel': 1774, 'bsnl': 1775, 'kolkata': 1776, 'uncl': 1777, 'architectur': 1778, 'effici': 1779, 'huh': 1780, 'divid': 1781, 'gurdwara': 1782, 'uni': 1783, 'everyday': 1784, 'experi': 1785, 'bow': 1786, 'restaur': 1787, 'scour': 1788, '1934': 1789, 'pakistani': 1790, 'enrout': 1791, 'ear': 1792, 'sanjay': 1793, 'kerala': 1794, 'allow': 1795, 'himalaya': 1796, 'research': 1797, 'diabet': 1798, 'unrest': 1799, 'tue': 1800, 'hiker': 1801, 'brilliant': 1802, 'encourag': 1803, 'gurudwara': 1804, 'nep': 1805, 'similar': 1806, 'toni': 1807, 'ship': 1808, 'guidanc': 1809, '00pm': 1810, 'ferri': 1811, 'awesom': 1812, 'ban': 1813, 'msg': 1814, 'piss': 1815, 'round': 1816, 'wast': 1817, 'option': 1818, 'german': 1819, 'defenc': 1820, 'jockey': 1821, 'gratitud': 1822, 'often': 1823, 'wet': 1824, 'mobilis': 1825, 'ko': 1826, '3700': 1827, 'educ': 1828, 'shall': 1829, 'hamilton': 1830, 'ross': 1831, 'ind': 1832, 'cousin': 1833, 'collis': 1834, 'smart': 1835, 'cours': 1836, 'tini': 1837, 'hug': 1838, 'unprepar': 1839, 'finger': 1840, 'spain': 1841, 'bet': 1842, 'popul': 1843, 'scaveng': 1844, 'ndtv': 1845, 'ensur': 1846, 'pt': 1847, 'shirt': 1848, 'bus': 1849, 'prize': 1850, 'deepli': 1851, 'approach': 1852, 'kerri': 1853, 'earthqu': 1854, 'cooper': 1855, 'wipe': 1856, 'birthday': 1857, 'general': 1858, 'wil': 1859, 'host': 1860, 'test': 1861, 'oppress': 1862, 'bigger': 1863, 'wife': 1864, 'uae': 1865, 'dick': 1866, 'yahoo': 1867, 'attack': 1868, 'telugu': 1869, 'raf': 1870, 'amidst': 1871, 'belov': 1872, 'dua': 1873, 'yr': 1874, 'teenag': 1875, 'surround': 1876, 'forgotten': 1877, 'alright': 1878, 'visa': 1879, 'obvious': 1880, 'parliament': 1881, 'genuin': 1882, 'monetari': 1883, 'candl': 1884, 'climat': 1885, 'opposit': 1886, 'rajnath': 1887, 'scout': 1888, 'crumbl': 1889, 'agenda': 1890, '75': 1891, 'catch': 1892, 'ty': 1893, 'dare': 1894, 'physic': 1895, 'crash': 1896, 'longer': 1897, 'storm': 1898, 'spokesman': 1899, 'technolog': 1900, 'mi': 1901, 'bark': 1902, 'cut': 1903, 'promot': 1904, '02': 1905, 'bhakt': 1906, 'cow': 1907, 'whether': 1908, 'soo': 1909, 'hind': 1910, 'selfish': 1911, 'wasnt': 1912, 'xx': 1913, 'clue': 1914, 'nw': 1915, 'palestinian': 1916, 'anymor': 1917, 'ugh': 1918, 'yall': 1919, 'enjoy': 1920, 'afford': 1921, 'afraid': 1922, 'insensit': 1923, 'bc': 1924, 'screw': 1925, 'admir': 1926, 'logo': 1927, 'winner': 1928, 'abus': 1929, 'lov': 1930, 'heavili': 1931, 'overshadow': 1932, 'although': 1933, 'jon': 1934, 'jone': 1935, 'chrissi': 1936, 'teigen': 1937, 'thus': 1938, 'tt': 1939, 'excit': 1940, 'artist': 1941, 'tsunami': 1942, 'sam': 1943, 'bond': 1944, '25th': 1945, 'stick': 1946, 'globe': 1947, 'ka': 1948, 'gr8': 1949, 'definit': 1950, 'cool': 1951, 'bother': 1952, 'mum': 1953, 'lay': 1954, 'fav': 1955, 'msm': 1956, 'wrath': 1957, 'sexi': 1958, 'mad': 1959, 'dem': 1960, 'bro': 1961, 'pre': 1962, 'retweet': 1963, 'address': 1964, 'pms': 1965, 'eve': 1966, 'cowork': 1967, 'minor': 1968, 'african': 1969, 'crore': 1970, 'except': 1971, 'raxaul': 1972, 'gmt': 1973, 'silent': 1974, 'pathet': 1975, 'hercul': 1976, 'pri': 1977, 'npl': 1978, 'gd': 1979, 'gvt': 1980, 'ths': 1981, 'bir': 1982, 'transit': 1983, '17th': 1984, 'trekk': 1985, '1832': 1986, 'bhimsen': 1987, 'weak': 1988, 'ton': 1989, '70': 1990, 'employ': 1991, 'fought': 1992, 'britain': 1993, 'bldg': 1994, 'type': 1995, 'tout': 1996, '20222': 1997, 'parrikar': 1998, 'unabl': 1999, 'md': 2000, '31': 2001, 'shatter': 2002, 'seed': 2003, 'georgia': 2004, 'itun': 2005, 'generos': 2006, '2001': 2007, 'aiim': 2008, 'rumour': 2009, 'fun': 2010, 'reopen': 2011, 'mahaan': 2012, 'hindan': 2013, 'mb': 2014, 'rehabilit': 2015, 'carita': 2016, 'somebodi': 2017, 'sink': 2018, 'worth': 2019, 'hike': 2020, 'mag': 2021, '9851107021': 2022, 'ph': 2023, 'vibrat': 2024, 'pashupatinath': 2025, 'immens': 2026, 'pmo': 2027, 'oil': 2028, 'appear': 2029, 'kept': 2030, '1s': 2031, 'urgenc': 2032, 'nearbi': 2033, 'studi': 2034, 'mudslid': 2035, 'fetch': 2036, 'zee': 2037, 'exclus': 2038, 'frnds': 2039, '10k': 2040, 'proactiv': 2041, 'anywher': 2042, 'core': 2043, 'colleg': 2044, 'cruel': 2045, 'c130': 2046, 'martin': 2047, 'economist': 2048, 'fell': 2049, '4th': 2050, 'gray': 2051, '5m': 2052, 'budget': 2053, 'candlelight': 2054, 'jackson': 2055, 'kitchen': 2056, 'gut': 2057, 'civil': 2058, 'prematur': 2059, '1900': 2060, 'trekker': 2061, 'zealand': 2062, '46': 2063, '59': 2064, 'mankind': 2065, 'japanes': 2066, 'react': 2067, 'apt': 2068, 'sort': 2069, '70007': 2070, 'feder': 2071, '1mn': 2072, 'lal': 2073, 'packag': 2074, 'uniti': 2075, 'thatll': 2076, 'asset': 2077, 'alongsid': 2078, 'tha': 2079, 'mam': 2080, 'nahi': 2081, 'kiya': 2082, 'cabl': 2083, 'fairfax': 2084, 'demand': 2085, 'thamel': 2086, 'programm': 2087, 'russia': 2088, 'moral': 2089, 'approx': 2090, '079': 2091, 'mukherje': 2092, 'paramed': 2093, 'patrick': 2094, '125': 2095, 'crimin': 2096, 'premier': 2097, 'andhra': 2098, 'pradesh': 2099, 'chicago': 2100, 'thame': 2101, 'unchang': 2102, 'guardian': 2103, 'karl': 2104, 'nepal5': 2105, 'toi': 2106, 'crowdris': 2107, 'ntc': 2108, 'teacher': 2109, 'qualifi': 2110, 'island': 2111, 'saviour': 2112, 'dept': 2113, 'middl': 2114, 'shiromani': 2115, 'sgpc': 2116, 'netanyahu': 2117, 'model': 2118, 'observ': 2119, 'lagankhel': 2120, 'cherish': 2121, 'bbcworld': 2122, 'sea': 2123, 'funni': 2124, 'crowd': 2125, 'scrambl': 2126, 'corpor': 2127, 'whatsapp': 2128, 'exam': 2129, 'portrait': 2130, 'dalbir': 2131, 'fee': 2132, 'tune': 2133, 'abandon': 2134, 'eas': 2135, 'punish': 2136, 'schedul': 2137, '20m': 2138, '10000': 2139, 'resist': 2140, 'favourit': 2141, 'straight': 2142, 'fam': 2143, 'sydney': 2144, 'sehun': 2145, 'instagram': 2146, 'xxx': 2147, 'meal': 2148, 'snd': 2149, 'award': 2150, 'spanish': 2151, 'earthq': 2152, 'featur': 2153, 'dna': 2154, 'refus': 2155, 'joint': 2156, 'utter': 2157, 'joanna': 2158, 'lumley': 2159, 'cuz': 2160, 'mere': 2161, 'tall': 2162, '101': 2163, 'sa': 2164, 'adventur': 2165, '47': 2166, 'casual': 2167, '230': 2168, 'counti': 2169, 'stage': 2170, 'invis': 2171, 'pal': 2172, 'monitor': 2173, 'secretari': 2174, 'improv': 2175, 'gps': 2176, 'microsoft': 2177, 'ramp': 2178, 'moan': 2179, 'nz': 2180, 'success': 2181, 'irish': 2182, 'malaysian': 2183, '37': 2184, 'pti': 2185, 'queri': 2186, 'forecast': 2187, 'eric': 2188, 'expens': 2189, 'disrespect': 2190, 'usaid': 2191, 'exchang': 2192, 'suspect': 2193, 'gabbar': 2194, '27th': 2195, 'imageri': 2196, 'anna': 2197, 'despair': 2198, 'philippin': 2199, 'needi': 2200, 'barpak': 2201, 'dinner': 2202, 'scream': 2203, 'orphanag': 2204, 'acc': 2205, 'gear': 2206, 'infograph': 2207, 'weird': 2208, 'npr': 2209, 'purchas': 2210, 'gohar': 2211, 'm4': 2212, 'construct': 2213, 'televis': 2214, 'facilit': 2215, 'certain': 2216, 'biratnagar': 2217, 'hindustan': 2218, 'bachchan': 2219, 'wsj': 2220, 'sovereign': 2221, 'outrag': 2222, 'soar': 2223, 'poverti': 2224, '33': 2225, '71': 2226, 'kevin': 2227, 'endur': 2228, 'trek': 2229, 'answer': 2230, 'rumor': 2231, 'summari': 2232, '09': 2233, 'chair': 2234, 'norwegian': 2235, 'kunal': 2236, 'gajendra': 2237, 'da': 2238, 'veloso': 2239, 'judg': 2240, '2012': 2241, 'playlist': 2242, 'journal': 2243, 'discount': 2244, 'kuch': 2245, 'funer': 2246, 'penni': 2247, 'plzzzz': 2248, 'jaishankar': 2249, 'goal': 2250, 'plain': 2251, 'realiz': 2252, 'ye': 2253, 'rli': 2254, 'unaccount': 2255, 'friday': 2256, 'shrestha': 2257, '74': 2258, 'unreach': 2259, 'tour': 2260, 'kno': 2261, '3m': 2262, 'vatican': 2263, 'rejoic': 2264, 'shd': 2265, 'ohh': 2266, 'startup': 2267, 'traffic': 2268, 'monument': 2269, 'block': 2270, 'confus': 2271, 'sing': 2272, 'homecom': 2273, 'newborn': 2274, 'ticket': 2275, 'ralli': 2276, 'cell': 2277, 'wed': 2278, 'dinesh': 2279, '3rd': 2280, '03': 2281, 'bias': 2282, 'courtesi': 2283, 'stock': 2284, 'jitendra': 2285, 'insulin': 2286, 'pop': 2287, 'ghost': 2288, '20000': 2289, 'belief': 2290, '100s': 2291, 'proof': 2292, 'jam': 2293, 'chk': 2294, 'kat': 2295, 'brief': 2296, 'music': 2297, 'strait': 2298, 'por': 2299, '3pm': 2300, 'process': 2301, 'sherpa': 2302, 'quit': 2303, '8k': 2304, 'poll': 2305, 'legit': 2306, 'select': 2307, 'uncondit': 2308, 'gay': 2309, 'marriag': 2310, 'coz': 2311, 'humbl': 2312, 'prone': 2313, 'm5': 2314, 'manoeuvr': 2315, 'aussi': 2316, 'hugh': 2317, 'idol': 2318, 'ordin': 2319, 'onto': 2320, 'authent': 2321, 'graphic': 2322, 'ghurka': 2323, 'jawan': 2324, 'throw': 2325, 'inc': 2326, 'bereav': 2327, 'signific': 2328, 'appar': 2329, 'thanx': 2330, 'sudden': 2331, 'cricket': 2332, 'wouldnt': 2333, 'btw': 2334, 'sponsor': 2335, 'lie': 2336, 'object': 2337, 'bali': 2338, 'sast': 2339, 'dad': 2340, 'download': 2341, 'retw': 2342, 'where': 2343, 'publish': 2344, 'fix': 2345, 'pagan': 2346, 'unsaf': 2347, 'rule': 2348, 'depress': 2349, 'bubbl': 2350, 'washington': 2351, 'ili': 2352, 'propos': 2353, 'wt': 2354, 'wz': 2355, 'signal': 2356, 'divin': 2357, 'cn': 2358, 'standard': 2359, 'empti': 2360, 'lazi': 2361, 'fool': 2362, 'houston': 2363, 'wash': 2364, 'joel': 2365, 'priest': 2366, 'siliguri': 2367, '2006': 2368, 'ottawa': 2369, 'evangelist': 2370, 'sonia': 2371, 'util': 2372, 'motiv': 2373, 'se': 2374, 'drama': 2375, 'ivan': 2376, 'watson': 2377, 'hunt': 2378, 'ny': 2379, 'redefin': 2380, 'hw': 2381, 'intent': 2382, 'alot': 2383, 'neighborhood': 2384, 'finest': 2385, 'written': 2386, 'march': 2387, 'unsur': 2388, 'isreal': 2389, 'hot': 2390, 'laugh': 2391, 'ferguson': 2392, 'bournemouth': 2393, 'dnt': 2394, 'misus': 2395, 'cartoon': 2396, 'proper': 2397, 'acknowledg': 2398, 'atom': 2399, 'whoo': 2400, 'dm': 2401, 'univers': 2402, 'tht': 2403, 'sake': 2404, 'swear': 2405, 'slap': 2406, 'fascin': 2407, 'flutter': 2408, 'vibe': 2409, 'hain': 2410, 'realis': 2411, 'abil': 2412, 'stake': 2413, 'pure': 2414, 'revolut': 2415, 'lower': 2416, 'karma': 2417, 'disappoint': 2418, 'hindutva': 2419, 'cest': 2420, 'asshol': 2421, 'trade': 2422, 'shiva': 2423, 'ist': 2424, 'unlik': 2425, 'bead': 2426, 'pr': 2427, 'spot': 2428, 'fals': 2429, 'agent': 2430, 'joe': 2431, 'wtf': 2432, 'giver': 2433, 'roof': 2434, 'worship': 2435, 'wah': 2436, 'cbs': 2437, 'dumb': 2438, 'chairman': 2439, 'fled': 2440, 'concret': 2441, 'shiv': 2442, 'sena': 2443, 'archeologist': 2444, 'narrowli': 2445, 'olymp': 2446, 'champ': 2447, '100k': 2448, 'repost': 2449, 'empath': 2450, 'plight': 2451, 'midday': 2452, 'largest': 2453, 'seventeen': 2454, 'sanghi': 2455, 'glimps': 2456, 'wrought': 2457, 'wood': 2458, 'sara': 2459, 'mn': 2460, '38': 2461, 'holland': 2462, 'rumbl': 2463, 'innov': 2464, 'makeshift': 2465, 'command': 2466, 'wi': 2467, 'advic': 2468, 'treacher': 2469, 'gv': 2470, 'concert': 2471, 'outag': 2472, 'hack': 2473, 'row': 2474, 'thursday': 2475, 'bangkok': 2476, 'honor': 2477, 'cope': 2478, 'wfp': 2479, 'chen': 2480, 'yu': 2481, 'tension': 2482, 'carrier': 2483, 'cap': 2484, 'dera': 2485, 'favour': 2486, '50300': 2487, 'enhanc': 2488, 'sedimentari': 2489, 'jersey': 2490, 'nbc': 2491, 'res': 2492, 'skater': 2493, 'overview': 2494, 'master': 2495, 'blockad': 2496, 'geopolit': 2497, 'zeenew': 2498, 'gas': 2499, 'smaller': 2500, 'distanc': 2501, 'greatest': 2502, 'safdarjung': 2503, 'lean': 2504, 'superhercul': 2505, 'va': 2506, 'sms': 2507, 'led': 2508, 'reign': 2509, 'contamin': 2510, 'permit': 2511, 'poc': 2512, 'cnnmoney': 2513, 'everytim': 2514, 'pandey': 2515, 'michell': 2516, 'clark': 2517, 'aim': 2518, 'tribhuvan': 2519, 'holiest': 2520, 'destin': 2521, 'pose': 2522, 'wala': 2523, 'machineri': 2524, 'becoz': 2525, 'amateur': 2526, 'migrant': 2527, 'sevak': 2528, '53': 2529, 'bhutanes': 2530, 'goddess': 2531, 'txt': 2532, '180': 2533, 'boarder': 2534, 'project': 2535, '233': 2536, 'cumul': 2537, 'traumat': 2538, 'repeat': 2539, 'vhp': 2540, 'valuabl': 2541, 'aerial': 2542, 'mistak': 2543, 'aust': 2544, 'lucknow': 2545, 'truck': 2546, '1200': 2547, '805': 2548, 'tom': 2549, 'tumbl': 2550, 'airbas': 2551, 'grandmoth': 2552, 'none': 2553, 'scariest': 2554, 'vari': 2555, 'pack': 2556, 'tl': 2557, 'mayhem': 2558, 'qualiti': 2559, 'easier': 2560, 'giant': 2561, 'bipin': 2562, 'toronto': 2563, 'rijiju': 2564, 'primit': 2565, 'voluntari': 2566, 'engag': 2567, 'pregnant': 2568, 'album': 2569, 'survey': 2570, 'lanka': 2571, 'adult': 2572, 'khatmandu': 2573, 'ordeal': 2574, 'propheci': 2575, 'msnbc': 2576, 'fearless': 2577, 'hyatt': 2578, 'nowher': 2579, 'minnesota': 2580, 'entrepreneur': 2581, 'sos': 2582, 'evryon': 2583, 'gud': 2584, 'intellig': 2585, 'grew': 2586, 'daylight': 2587, '2500': 2588, 'cu': 2589, 'loool': 2590, 'sooo': 2591, 'reaction': 2592, 'beast': 2593, 'regular': 2594, 'calcutta': 2595, '82': 2596, 'langtang': 2597, 'cs': 2598, 'safer': 2599, 'spicejet': 2600, 'indigo': 2601, 'nepalquak': 2602, 'crescent': 2603, 'frequent': 2604, 'logist': 2605, 'ineffect': 2606, 'dirti': 2607, 'itll': 2608, 'mast': 2609, 'etch': 2610, 'medit': 2611, 'blue': 2612, 'santa': 2613, 'filmmak': 2614, 'odd': 2615, 'gotta': 2616, 'wifi': 2617, 'pump': 2618, 'pehl': 2619, 'priceless': 2620, 'recogn': 2621, 'unexpect': 2622, 'arthur': 2623, 'constitu': 2624, 'assembl': 2625, 'guj': 2626, '23251900': 2627, 'bureaucraci': 2628, 'evalu': 2629, '565': 2630, 'leon': 2631, 'kousar': 2632, 'pasha': 2633, '6511000100056038': 2634, 'pnb': 2635, 'joya': 2636, 'ifscpunb0651100': 2637, 'will': 2638, 'rehab': 2639, 'indic': 2640, 'pilgrim': 2641, 'milton': 2642, 'reminisc': 2643, 'ellen': 2644, 'appal': 2645, 'netherland': 2646, 'fyi': 2647, 'jakarta': 2648, 'retriev': 2649, 'wire': 2650, 'envoy': 2651, 'alicia': 2652, 'newzealand': 2653, 'glove': 2654, 'pager': 2655, 'kathma': 2656, 'kha': 2657, 'nonprofit': 2658, 'namch': 2659, 'vdc': 2660, 'underneath': 2661, '15th': 2662, 'malla': 2663, 'abbott': 2664, 'spokesperson': 2665, 'constitut': 2666, 'nurs': 2667, 'some1': 2668, 'visitor': 2669, 'bhaktpur': 2670, 'appli': 2671, 'slash': 2672, 'sikkim': 2673, 'stir': 2674, 'sadest': 2675, 'tim': 2676, 'whn': 2677, '550': 2678, 'prasad': 2679, '29th': 2680, '1078': 2681, 'union': 2682, 'karnataka': 2683, 'parbandhak': 2684, 'corp': 2685, '32': 2686, 'treasur': 2687, 'dev': 2688, 'goosebump': 2689, '90': 2690, 'decim': 2691, 'amongst': 2692, 'england': 2693, 'grid': 2694, 'di': 2695, '8m': 2696, 'icymi': 2697, 'any1': 2698, 'vatsala': 2699, 'youtub': 2700, 'draw': 2701, 'eurogeosci': 2702, 'katerav': 2703, 'transfer': 2704, 'introduc': 2705, 'nuwakot': 2706, 'tap': 2707, 'killer': 2708, 'pointless': 2709, 'uttarakhand': 2710, '910': 2711, '721': 2712, 'airforc': 2713, 'dial': 2714, '3am': 2715, 'passeng': 2716, 'hhs': 2717, 'rupe': 2718, 'cvs': 2719, 'quartz': 2720, 'mln': 2721, 'primer': 2722, 'outdoor': 2723, 'bhargava': 2724, 'mobi': 2725, 'mail': 2726, 'sarkar': 2727, 'hamper': 2728, 'pita': 2729, 'visual': 2730, 'municip': 2731, 'chest': 2732, 'transgend': 2733, 'bailey': 2734, 'usar': 2735, 'conscious': 2736, '876': 2737, '150429': 2738, 'chanyeol': 2739, '1070': 2740, 'maharashtra': 2741, 'lac': 2742, 'dos': 2743, 'disturb': 2744, 'armada': 2745, 'plead': 2746, 'aol': 2747, 'othr': 2748, 'render': 2749, '530': 2750, 'entri': 2751, 'rice': 2752, 'fapa': 2753, 'ns': 2754, 'hu': 2755, 'polish': 2756, 'psycho': 2757, 'ian': 2758, 'attn': 2759, 'kiwi': 2760, '19th': 2761, 'tori': 2762, 'spark': 2763, 'reinforc': 2764, 'kashmir': 2765, 'friendship': 2766, 'upcom': 2767, 'namast': 2768, 'nut': 2769, '88': 2770, 'exhaust': 2771, 'gospel': 2772, 'lalitpur': 2773, 'deepak': 2774, 'propag': 2775, 'clock': 2776, '25k': 2777, 'advert': 2778, '337': 2779, 'seismologist': 2780, 'regmi': 2781, 'col': 2782, '8527892258': 2783, 'ritanu': 2784, 'whoa': 2785, 'bapu': 2786, '51': 2787, 'stink': 2788, 'sapkota': 2789, 'unpreced': 2790, 'present': 2791, 'terrif': 2792, 'sweet': 2793, 'deni': 2794, 'hang': 2795, 'casey': 2796, 'peak': 2797, 'landsat': 2798, 'bounc': 2799, 'skill': 2800, '98': 2801, 'resum': 2802, '2113': 2803, '4104': 2804, 'girlfriend': 2805, '5057': 2806, '260': 2807, 'phil': 2808, 'neither': 2809, 'usd': 2810, 'extra': 2811, 'shani': 2812, 'mob': 2813, 'seismograph': 2814, 'donor': 2815, 'insight': 2816, 'srk': 2817, 'bottom': 2818, 'eager': 2819, 'addl': 2820, 'ajenew': 2821, 'jack': 2822, 'akshay': 2823, 'taxi': 2824, '28th': 2825, 'deva': 2826, '67': 2827, 'annapurna': 2828, 'beach': 2829, 'karachi': 2830, 'swim': 2831, 'wave': 2832, '98511': 2833, 'monda': 2834, 'golf': 2835, 'cook': 2836, '2day': 2837, 'url': 2838, 'wedg': 2839, 'stricken': 2840, 'hearten': 2841, 'surpass': 2842, '25000': 2843, 'bitcoin': 2844, '711': 2845, 'cloud': 2846, 'buddi': 2847, 'der': 2848, 'transform': 2849, 'gujarati': 2850, '718': 2851, 'print': 2852, 'tradit': 2853, 'unknown': 2854, 'restart': 2855, 'firsthand': 2856, 'hogg': 2857, 'plzz': 2858, 'pax': 2859, 'guyz': 2860, 'awaken': 2861, 'invad': 2862, 'examin': 2863, 'isol': 2864, 'countrysid': 2865, 'thailand': 2866, '41': 2867, 'nagarkot': 2868, '0km': 2869, 'obsess': 2870, 'dire': 2871, 'chant': 2872, 'stabl': 2873, 'obstacl': 2874, 'gn': 2875, 'comprehens': 2876, 'eighteen': 2877, 'hong': 2878, 'disabl': 2879, 'amitabh': 2880, 'ishwaran1': 2881, 'cnni': 2882, 'foxnew': 2883, 'kathman': 2884, 'icrc': 2885, 'path': 2886, 'fuel': 2887, 'swayamsevak': 2888, 'cll': 2889, 'sn': 2890, 'hazard': 2891, 'crise': 2892, 'doc': 2893, 'upadhyay': 2894, 'document': 2895, 'extraordinari': 2896, 'languag': 2897, 'dhade': 2898, 'inaccess': 2899, 'undergo': 2900, 'temporari': 2901, 'melbourn': 2902, 'lydia': 2903, 'highway': 2904, 'countless': 2905, 'purpos': 2906, 'runway': 2907, 'ex': 2908, 'sindhupalchok': 2909, 'interpret': 2910, 'jannat': 2911, 'paul': 2912, 'superb': 2913, '16th': 2914, 'lil': 2915, 'dt': 2916, 'jean': 2917, 'fanci': 2918, 'snap': 2919, 'ovr': 2920, 'pyre': 2921, 'studio': 2922, 'earthqua': 2923, 'interior': 2924, 'player': 2925, 'diseas': 2926, 'fbi': 2927, 'rare': 2928, '102': 2929, 'loud': 2930, 'bmo': 2931, 'battl': 2932, 'russian': 2933, 'unesco': 2934, 'crematorium': 2935, 'patienc': 2936, 'basantapur': 2937, 'achiev': 2938, 'ibnliv': 2939, 'terremoto': 2940, 'product': 2941, 'flower': 2942, 'clown': 2943, 'employe': 2944, 'vri': 2945, 'suppress': 2946, 'sar': 2947, 'femal': 2948, 'loos': 2949, 'faster': 2950, 'maj': 2951, 'dunya': 2952, 'dhaka': 2953, 'highest': 2954, 'behalf': 2955, 'gg': 2956, 'separ': 2957, 'phew': 2958, 'c17': 2959, 'conductd': 2960, 'despatch': 2961, 'purif': 2962, 'prankster': 2963, 'chitwan': 2964, 'acut': 2965, 'nepa': 2966, 'm6': 2967, 'louder': 2968, '9779741186914': 2969, 'wnt': 2970, 'ms': 2971, 'frequenc': 2972, 'replac': 2973, 'uh': 2974, 'gideon': 2975, 'california': 2976, 'mugl': 2977, 'verifi': 2978, 'itvnew': 2979, 'hvp': 2980, 'worthi': 2981, 'hinder': 2982, 'net': 2983, 'succor': 2984, '747': 2985, 'mrs': 2986, 'prefer': 2987, 'cat': 2988, 'mahindra': 2989, 'worldview': 2990, 'review': 2991, 'filthi': 2992, 'humili': 2993, 'trage': 2994, 'hq': 2995, 'socal': 2996, 'underway': 2997, 'gu': 2998, '1457': 2999, 'owe': 3000, 'seismic': 3001, 'surfac': 3002, 'ruptur': 3003, 'max': 3004, 'avala': 3005, 'domest': 3006, 'airlin': 3007, 'comput': 3008, 'hm': 3009, 'cctv': 3010, 'persist': 3011, 'hr': 3012, '85': 3013, 'pool': 3014, 'condemn': 3015, 'firstpost': 3016, 'headquart': 3017, 'el': 3018, '108': 3019, 'miracul': 3020, 'sheet': 3021, 'mechan': 3022, 'adventist': 3023, 'sin': 3024, 'driven': 3025, 'pocket': 3026, 'nick': 3027, 'susannah': 3028, 'recommend': 3029, 'untold': 3030, 'miseri': 3031, 'ensu': 3032, 'chaturmasyavrat': 3033, 'strict': 3034, 'aberr': 3035, '546': 3036, 'scammer': 3037, 'congest': 3038, 'etern': 3039, 'broadcast': 3040, 'actionaid': 3041, 'ireland': 3042, 'itali': 3043, 'lifesav': 3044, 'uav': 3045, 'cheer': 3046, 'exist': 3047, 'editor': 3048, 'hmoindia': 3049, 'islamabad': 3050, 'aftr': 3051, 'aus': 3052, 'congi': 3053, '34': 3054, '20k': 3055, 'ncr': 3056, 'charlott': 3057, 'learnt': 3058, 'cong': 3059, 'precaut': 3060, 'cabinet': 3061, 'hide': 3062, '110': 3063, 'particip': 3064, 'cluster': 3065, 'dharara': 3066, '2008': 3067, 'sichuan': 3068, 'taught': 3069, 'fit': 3070, 'hater': 3071, '3500': 3072, 'lat': 3073, 'lon': 3074, 'shanti': 3075, 'kasthamandap': 3076, 'nutrit': 3077, 'kisaan': 3078, 'subash': 3079, 'donate5': 3080, 'tiwari': 3081, 'prowl': 3082, '7m': 3083, 'su': 3084, 'brown': 3085, 'nath': 3086, 'imp': 3087, 'shudder': 3088, 'urg': 3089, 'favor': 3090, 'fashion': 3091, 'circul': 3092, 'joshua': 3093, 'doll': 3094, 'caution': 3095, 'split': 3096, 'freefal': 3097, 'bleed': 3098, 'shah': 3099, 'satnam': 3100, 'specif': 3101, 'ford': 3102, 'oliv': 3103, 'cerf': 3104, 'tym': 3105, 'rang': 3106, 'et': 3107, '726': 3108, 'wing': 3109, 'nois': 3110, 'negat': 3111, 'fill': 3112, 'unnecessari': 3113, 'stolen': 3114, 'seat': 3115, 'card': 3116, 'leagu': 3117, 'wicket': 3118, 'ball': 3119, 'superstiti': 3120, 'broke': 3121, 'pat': 3122, 'bullshit': 3123, 'prob': 3124, 'aaand': 3125, 'payer': 3126, 'livez': 3127, 'bu': 3128, 'wallet': 3129, 'artwork': 3130, 'nsw': 3131, 'taylor': 3132, 'flush': 3133, 'pleasur': 3134, 'rg': 3135, 'lexinerus': 3136, 'detroit': 3137, 'congrat': 3138, 'iq': 3139, 'timesofindia': 3140, 'bcos': 3141, 'dealt': 3142, 'choreograph': 3143, 'silli': 3144, 'nope': 3145, 'explor': 3146, 'insan': 3147, 'shrine': 3148, 'beat': 3149, 'bunch': 3150, 'sex': 3151, 'discov': 3152, 'fraud': 3153, 'zayn': 3154, 'pizza': 3155, 'wisdom': 3156, 'grade': 3157, 'filter': 3158, 'factori': 3159, 'sumnima': 3160, 'uda': 3161, 'pc': 3162, 'pepsi': 3163, 'drng': 3164, 'contd': 3165, 'magic': 3166, 'spectat': 3167, 'smoke': 3168, '39': 3169, 'surrogaci': 3170, 'settl': 3171, 'scum': 3172, 'democrat': 3173, '30th': 3174, 'stun': 3175, 'milk': 3176, 'heartwarm': 3177, 'gain': 3178, 'perish': 3179, 'eco': 3180, 'manisha': 3181, 'shoulder': 3182, 'miliband': 3183, 'manoj': 3184, 'andrew': 3185, 'realiti': 3186, 'greek': 3187, 'evil': 3188, 'julio': 3189, 'timelin': 3190, 'pronounc': 3191, 'joshi': 3192, 'indiatrends247': 3193, 'syria': 3194, 'aborigin': 3195, 'renu': 3196, 'fotedar': 3197, 'immigr': 3198, 'bar': 3199, 'arrest': 3200, 'lynch': 3201, 'bucket': 3202, 'hd': 3203, 'wth': 3204, 'collabor': 3205, 'heroin': 3206, '3300': 3207, 'fortun': 3208, 'galleri': 3209, 'fiver': 3210, 'boss': 3211, 'hall': 3212, 'excus': 3213, 'viewer': 3214, 'hele': 3215, 'bath': 3216, 'shout': 3217, 'iraq': 3218, 'plibersek': 3219, 'leg': 3220, 'intersect': 3221, 'napoleon': 3222, 'blatter': 3223, 'suicid': 3224, 'lefti': 3225, 'bash': 3226, 'cndns': 3227, 'scheme': 3228, 'italia': 3229, 'joker': 3230, 'shoe': 3231, 'finish': 3232, 'sander': 3233, 'mockeri': 3234, 'irrespect': 3235, 'haunt': 3236, 'discrimin': 3237, 'lgbt': 3238, 'whilst': 3239, 'blind': 3240, 'matt': 3241, 'jealous': 3242, 'amber': 3243, 'ethic': 3244, 'mix': 3245, 'emphas': 3246, 'began': 3247, '2m': 3248, 'nuclear': 3249, 'bonus': 3250, 'anu': 3251, '3200': 3252, 'idk': 3253, 'mess': 3254, 'asham': 3255, 'heli': 3256, 'bmore': 3257, 'nell': 3258, 'unitednationss': 3259, 'delight': 3260, 'abomin': 3261, 'isaiah': 3262, '66': 3263, 'commi': 3264, 'routin': 3265, 'prayfornep': 3266, 'geologist': 3267, 'kalimpong': 3268, 'evid': 3269, 'tran': 3270, 'ect': 3271, 'fs': 3272, 'forefront': 3273, 'subject': 3274, 'integr': 3275, 'jewish': 3276, '806': 3277, 'hint': 3278, 'deliveri': 3279, 'burial': 3280, 'distract': 3281, 'squadron': 3282, 'spoken': 3283, 'grab': 3284, 'atleast': 3285, 'rifl': 3286, 'crass': 3287, 'rupi': 3288, 'rania': 3289, 'ruler': 3290, 'hy': 3291, 'lindaedgecombphotographi': 3292, 'babe': 3293, 'up': 3294, 'dam': 3295, '1988': 3296, 'summer': 3297, 'charit': 3298, 'tx': 3299, 'manekshaw': 3300, 'bloke': 3301, 'spit': 3302, 'bold': 3303, 'tornado': 3304, 'monster': 3305, 'wh': 3306, 'sridhar': 3307, 'knowledg': 3308, 'equival': 3309, 'deceas': 3310, 'goat': 3311, 'helper': 3312, 'srsli': 3313, 'wld': 3314, 'regiment': 3315, 'creatur': 3316, 'politicis': 3317, 'boat': 3318, 'pricey': 3319, 'mk': 3320, 'lad': 3321, 'tale': 3322, '49': 3323, 'pepol': 3324, 'common': 3325, 'postpon': 3326, 'drew': 3327, 'instruct': 3328, 'khalsa': 3329, 'repent': 3330, 'frank': 3331, 'nonsens': 3332, 'goodwil': 3333, 'soft': 3334, 'atc': 3335, 'airplan': 3336, 'overhead': 3337, 'professor': 3338, 'onew': 3339, 'modiji': 3340, 'easili': 3341, 'leay': 3342, 'goldfish': 3343, 'kar': 3344, 'wud': 3345, 'rude': 3346, 'nigeria': 3347, 'generat': 3348, 'champion': 3349, 'thnx': 3350, 'tight': 3351, 'pres': 3352, 'troll': 3353, 'sarkaar': 3354, 'brass': 3355, 'antiqu': 3356, 'es': 3357, 'rab': 3358, 'cyclon': 3359, 'favorit': 3360, 'complaint': 3361, 'napal': 3362, 'honey': 3363, 'scotus': 3364, 'p2': 3365, 'currenc': 3366, 'reset': 3367, 'score': 3368, 'olivia': 3369, 'drown': 3370, 'steve': 3371, 'til': 3372, 'kiss': 3373, 'subsidis': 3374, 'dread': 3375, 'belong': 3376, 'preach': 3377, 'singer': 3378, 'sarah': 3379, 'photoshop': 3380, 'wear': 3381, 'cup': 3382, 'evangel': 3383, 'uu': 3384, 'havoc': 3385, 'untruth': 3386, 'wwe': 3387, 'snatch': 3388, '1300': 3389, '9pm': 3390, 'feat': 3391, 'radhey': 3392, 'gona': 3393, 'abut': 3394, '1950': 3395, 'impli': 3396, 'relationship': 3397, 'preacher': 3398, 'rant': 3399, 'untrain': 3400, 'bystand': 3401, 'remark': 3402, 'thou': 3403, 'wrld': 3404, 'napel': 3405, 'imf': 3406, 'korea': 3407, 'shaki': 3408, 'omfg': 3409, 'consol': 3410, 'cheap': 3411, 'random': 3412, 'perhap': 3413, 'hadnt': 3414, 'narcissist': 3415, 'jar': 3416, 'z': 3417, 'jeetpur': 3418, 'inhuman': 3419, 'sushma': 3420, 'keralit': 3421, 'sunsari': 3422, 'radhavallabh': 3423, 'scam': 3424, 'metr': 3425, 'phenomen': 3426, 'honesti': 3427, 'shitti': 3428, 'perfect': 3429, 'circl': 3430, 'injustic': 3431, 'decis': 3432, 'cdt': 3433, 'kukur': 3434, 'jan': 3435, 'occupi': 3436, 'regin': 3437, 'forens': 3438, 'singaporean': 3439, 'laud': 3440, 'gosh': 3441, 'upstag': 3442, 'harvey': 3443, 'shape': 3444, 'strang': 3445, 'jst': 3446, 'rotari': 3447, 'arab': 3448, 'declin': 3449, 'omega': 3450, 'fwding': 3451, 'sincerest': 3452, 'journo': 3453, 'bahut': 3454, 'cha': 3455, 'sardesai': 3456, 'nembang': 3457, 'referen': 3458, 'lamjung': 3459, 'theyv': 3460, '2010': 3461, 'majesti': 3462, 'brethren': 3463, 'sh': 3464, 'mus': 3465, 'gujju': 3466, 'thepla': 3467, 'baoo': 3468, 'che': 3469, 'lynn': 3470, 'georgina': 3471, 'il76': 3472, 'gettin': 3473, 'pound': 3474, '430': 3475, 'government': 3476, 'obtain': 3477, 'atlanta': 3478, 'artofliv': 3479, 'grind': 3480, 'cafe': 3481, 'vishwa': 3482, 'francoi': 3483, '9581107021': 3484, 'darkha': 3485, '450': 3486, 'emma': 3487, 'hexayurt': 3488, 'melamchi': 3489, 'ghyang': 3490, 'helambu': 3491, 't946': 3492, '919773300000': 3493, 'rk': 3494, 'amc': 3495, 'opp': 3496, 'counselor': 3497, 'c103j': 3498, 'lifter': 3499, 'laden': 3500, 'salutetheforc': 3501, 'ami': 3502, '1lac': 3503, 'thts': 3504, 'plano': 3505, 'sv': 3506, 'wrst': 3507, 'br8': 3508, 'pwr': 3509, 'dfnd': 3510, 'hashish': 3511, 'incompar': 3512, 'mabuhay': 3513, 'kayo': 3514, 'an': 3515, 'morgu': 3516, '006': 3517, 'paint': 3518, 'turner': 3519, 'ml': 3520, 'xinhua': 3521, '6m': 3522, '2000dead': 3523, 'promo': 3524, 'helpnep': 3525, 'instant': 3526, 'shikshya': 3527, '58': 3528, '237': 3529, 'm8': 3530, 'thapa': 3531, 'push': 3532, 'northward': 3533, 'michael': 3534, 'tandi': 3535, 'yen': 3536, 'june': 3537, 'kui': 3538, 'chin': 3539, 'bid': 3540, 'dsgmc': 3541, 'repaid': 3542, '1906': 3543, '2015s': 3544, 'soil': 3545, 'provok': 3546, 'etakaram': 3547, 'danc': 3548, 'cvr': 3549, 'sateti': 3550, 'fierc': 3551, 'lunch': 3552, 'string': 3553, '22nd': 3554, 'pokra': 3555, 'contin': 3556, 'courtney': 3557, 'scaif': 3558, 'isp': 3559, 'dmn': 3560, 'hungri': 3561, 'raybrown': 3562, 'sg': 3563, 'kick': 3564, 'sankha': 3565, 'ringroad': 3566, 'vishwaprakash': 3567, 'pandit': 3568, '9851031149': 3569, 'suspend': 3570, 'temporarili': 3571, 'habitat': 3572, 'career': 3573, 'appsoko': 3574, 'geospati': 3575, 'bubbi': 3576, '1miin': 3577, '42': 3578, 'sec': 3579, 'indp': 3580, 'precari': 3581, 'impend': 3582, 'psycholog': 3583, 'propooganda': 3584, '1845': 3585, 'zeenat': 3586, 'aman': 3587, 'mindblow': 3588, 'tf1': 3589, 'bravo': 3590, 'responsibil': 3591, 'val': 3592, 'lakpa': 3593, '8th': 3594, 'distant': 3595, 'sight': 3596, 't945': 3597, 'briggen': 3598, 'sameer': 3599, 'mammoth': 3600, 'ballantyn': 3601, 'forder': 3602, 'keeper': 3603, 'exponenti': 3604, 'huddl': 3605, 'beam': 3606, 'sunir': 3607, 'vilg': 3608, 'cnnctd': 3609, 'telephoni': 3610, 'ifrc': 3611, 'cmx': 3612, 'summit': 3613, 'scholarship': 3614, 'workshop': 3615, 'canisgallicus': 3616, '350': 3617, 'personifi': 3618, 'renuji': 3619, 'whirlwind': 3620, 'airspac': 3621, 'desert': 3622, 'plese': 3623, 'pilgrimag': 3624, '879': 3625, 'tarakari': 3626, 'pasal': 3627, 'chaayabah': 3628, 'pimbah': 3629, 'pokhri': 3630, 'teera': 3631, 'worldvis': 3632, 'mha': 3633, '167': 3634, 'scifi': 3635, 'curri': 3636, 'bookstor': 3637, 'tabl': 3638, 'henna': 3639, 'pryr': 3640, 'wd': 3641, 'vctms': 3642, 'famliz': 3643, 'isht': 3644, 'denim': 3645, 'prej': 3646, 'zotit': 3647, 'limbo': 3648, 'stef': 3649, 'sophi': 3650, 'steffen': 3651, '4300': 3652, 'prompt': 3653, 'cramp': 3654, 'relay': 3655, 'florida': 3656, 'givealittl': 3657, 'grim': 3658, 'gig': 3659, '4400': 3660, 'fade': 3661, 'adcox71': 3662, 'actasia': 3663, 'nar': 3664, 'bulk': 3665, 'sum1': 3666, 'heptr': 3667, '177': 3668, '618': 3669, '857': 3670, 'uncertain': 3671, 'indianarmi': 3672, 'swamiramdev': 3673, 'bbcclick': 3674, 'conced': 3675, 'frus': 3676, 'intact': 3677, 'hardwar': 3678, 'padm': 3679, 'royal': 3680, 'ericsson': 3681, 'nset': 3682, 'umcor': 3683, 'incom': 3684, 'irregular': 3685, '152': 3686, '2152': 3687, 'lovejoy': 3688, 'lockhe': 3689, 'canberra': 3690, 'grandson': 3691, 'flew': 3692, 'bureau': 3693, 'fourteen': 3694, 'magnitu': 3695, 'madhav': 3696, 'tea': 3697, 'ev': 3698, 'behead': 3699, 'coptic': 3700, 'libya': 3701, 'revert': 3702, 'portfolio': 3703, 'nida': 3704, 'najar': 3705, 'deboard': 3706, 'restrict': 3707, 'techbyt': 3708, 'surreal': 3709, 'apocalypt': 3710, 'catastro': 3711, 'suncanada': 3712, 'phase': 3713, 'mat': 3714, 'kiren': 3715, '935': 3716, '320': 3717, 'awe': 3718, '605m': 3719, 'mourner': 3720, 'jurno': 3721, 'dhiraagu': 3722, 'prepaid': 3723, 'postpaid': 3724, 'lorri': 3725, 'ron': 3726, 'nissen': 3727, 'internationa': 3728, 'ynetnew': 3729, 'coma': 3730, 'disregard': 3731, 'strongest': 3732, 'gover': 3733, 'agrarian': 3734, 'optimum': 3735, 'lc': 3736, 'goel': 3737, 'pura': 3738, 'vonag': 3739, 'appris': 3740, 'interna': 3741, 'noon': 3742, 'sunris': 3743, 'superhero': 3744, 'overflow': 3745, 'darbar': 3746, 'clint': 3747, '00977': 3748, '9841468113': 3749, '10th': 3750, 'muna': 3751, 'moham': 3752, 'drank': 3753, 'urin': 3754, 'florent': 3755, 'agn': 3756, 'onboard': 3757, 'viktor': 3758, 'klymko': 3759, 'rene': 3760, 'grappl': 3761, 'decent': 3762, '144': 3763, 'lucia': 3764, 'rsquo': 3765, '591903113226813441': 3766, '591903048307384320': 3767, '591902968020082688': 3768, '592628114905169920': 3769, '592823368178671616': 3770, 'flyer': 3771, '591903348288147457': 3772, '0097714200257': 3773, '591903361340866560': 3774, '591902955252551681': 3775, '591903069715058690': 3776, 'tundikhel': 3777, '591906534805938176': 3778, '591902883387297792': 3779, '591903293141430272': 3780, '592074229446746112': 3781, '591903223075614720': 3782, 'emercom': 3783, '591902898906271744': 3784, '35': 3785, 'wept': 3786, '591903255799713792': 3787, 'mukeshsinghani5': 3788, 'rachelhunterx': 3789, '591902891918495744': 3790, '591902706899365888': 3791, '592838115586347008': 3792, '591915782939914242': 3793, 'prati': 3794, 'noodl': 3795, 'trebl': 3796, 'monica': 3797, 'toppl': 3798, 'temblor': 3799, 'legitim': 3800, 'donate2': 3801, 'channel4new': 3802, 'millerc4': 3803, 'hook': 3804, 'invert': 3805, 'cnxn': 3806, 'iss': 3807, 'itni': 3808, 'jaldi': 3809, 'rahat': 3810, 'karya': 3811, 'voltag': 3812, 'chip': 3813, 'reticul': 3814, 'sr': 3815, 'nepalm': 3816, 'sankhu': 3817, 'montreal': 3818, 'distraught': 3819, 'fina': 3820, 'zachari': 3821, 'tf': 3822, 'gnagar': 3823, '902': 3824, '907': 3825, '908': 3826, '914': 3827, '918': 3828, 'tms': 3829, 'diffrnt': 3830, 'ldrshp': 3831, 'cmparisn': 3832, 'mngemnt': 3833, 'jcbs': 3834, '6lac': 3835, 'demis': 3836, 'jal': 3837, 'satyagrahi': 3838, '480': 3839, 'distrib': 3840, '77em': 3841, 'defin': 3842, 'reconcili': 3843, 'recuper': 3844, 'liv': 3845, 'ama': 3846, 'ghar': 3847, 'yellow': 3848, 'sanepa': 3849, '5pm': 3850, 'hdx': 3851, 'aidspeak': 3852, 'realist': 3853, 'cynic': 3854, 'exagger': 3855, '603': 3856, 'buckingham': 3857, 'mayberri': 3858, 'rfd': 3859, 'maheishgirri': 3860, 'nat': 3861, 'timeslatest': 3862, 'postarmi': 3863, 'troop': 3864, 'casuallti': 3865, 'outlook': 3866, 'bitter': 3867, 'sl': 3868, 'sniffer': 3869, 'siddhi': 3870, 'condolens': 3871, 'dunde': 3872, 'ha': 3873, 'tgana': 3874, '09650990016': 3875, '040': 3876, '23454088': 3877, '23385016': 3878, 'ndma': 3879, '01126701728': 3880, 'kub': 3881, 'khun': 3882, 'metro': 3883, '4k': 3884, 'stringer': 3885, 'correspond': 3886, 'anup': 3887, 'kaphl': 3888, 'solukhumbu': 3889, 'bone': 3890, 'rishi': 3891, 'khanal': 3892, 'pratap': 3893, 'pillar': 3894, 'lantern': 3895, '9870495460': 3896, 'lisa': 3897, 'rutherford': 3898, 'lokanthali': 3899, 'backbon': 3900, 'volum': 3901, 'krishnabhakt': 3902, 'maharjan': 3903, '9841301363': 3904, 'olni': 3905, '26i': 3906, 'qld': 3907, 'nadwa': 3908, 'natali': 3909, 'alasfar': 3910, 'vod': 3911, 'ln': 3912, 'bharti': 3913, 'plc': 3914, 'outrun': 3915, 'news24': 3916, 'notifi': 3917, 'revis': 3918, 'econ': 3919, 'unspeak': 3920, 'fele': 3921, 'destrction': 3922, 'of2005': 3923, 'thousnd': 3924, 'pakstni': 3925, 'looter': 3926, 'departur': 3927, 'powr': 3928, 'eastern': 3929, 'lummi': 3930, 'quiet': 3931, 'srts': 3932, 'minimum': 3933, 'fatboy': 3934, 'qn': 3935, 'nothing': 3936, 'iappeal': 3937, '2comeforward': 3938, 'mrdannyglov': 3939, 'citibank': 3940, 'fargo': 3941, 'jpmorgan': 3942, 'chase': 3943, 'moneygram': 3944, 'bhawan': 3945, 'stefan': 3946, 'remov': 3947, 'cart': 3948, 'driver': 3949, 'worldnew': 3950, 'vanish': 3951, 'clement': 3952, 'counterpart': 3953, 'aud': 3954, 'menouri': 3955, 'brag': 3956, 'bbcsanjoym': 3957, 'warrior': 3958, 'soooo': 3959, 'avatar': 3960, 'cab': 3961, 'verizon': 3962, 'breastfe': 3963, 'gbr': 3964, 'peter': 3965, 'hail': 3966, 'passabl': 3967, 'teman': 3968, 'grup': 3969, 'essay': 3970, 'journey': 3971, 'upward': 3972, 'magnific': 3973, 'durga': 3974, 'hollywood': 3975, 'coa': 3976, 'speedi': 3977, 'waheguru': 3978, 'jio': 3979, 'jatha': 3980, 'indiaold': 3981, 'devasta': 3982, 'tps': 3983, 'amnestyonlin': 3984, 'salilshetti': 3985, 'impa': 3986, 'apocalyps': 3987, 'overlook': 3988, 'burnol': 3989, 'dwb': 3990, '1114': 3991, '014270553': 3992, '014287387': 3993, '9851272100': 3994, 'jaim': 3995, 'cosi': 3996, 'chinook': 3997, '285': 3998, 'drag': 3999, 'displcd': 4000, '669764': 4001, '697237': 4002, '78413': 4003, 'partial': 4004, '46408': 4005, 'widespread': 4006, 'adelhidam': 4007, 'birjung': 4008, 'krija': 4009, 'tis': 4010, 'handbasket': 4011, 'suppliesflown': 4012, 'hosp': 4013, 'johnni': 4014, 'heath': 4015, 'corpus': 4016, 'christi': 4017, 'taglin': 4018, 'traumatis': 4019, 'spokesppl': 4020, 'exodus': 4021, 'hippi': 4022, 'mami': 4023, '99': 4024, 'pouch': 4025, 'log': 4026, 'usb': 4027, 'qso': 4028, '9n1emerg': 4029, '73': 4030, 'r2dbr': 4031, 'hid': 4032, 'boulder': 4033, 'snow': 4034, 'ridg': 4035, 'typo': 4036, '10m': 4037, 'tato': 4038, 'paani': 4039, 'aditya': 4040, '9779801122921': 4041, 'deepu': 4042, 'kozhikkodu': 4043, 'untrac': 4044, '9809333922': 4045, 'milaan': 4046, 'cms': 4047, 'ambul': 4048, 'unosat': 4049, 'bros': 4050, 'kapil': 4051, 'fundrazr': 4052, 'mechanismofwar': 4053, 'uberaid': 4054, 'videoph': 4055, '4600': 4056, 'rw': 4057, 'navi': 4058, 'jaundic': 4059, 'infect': 4060, '0097714256014': 4061, 'dempsey': 4062, 'republican': 4063, 'hydropow': 4064, '155': 4065, 'meola': 4066, 'schumach': 4067, 'arjen': 4068, 'stam': 4069, '881621464863': 4070, 'tara': 4071, 'under14': 4072, '524': 4073, 'least1800': 4074, 'werein': 4075, 'bharosha': 4076, 'utha': 4077, 'wb': 4078, '23251902': 4079, '23380326': 4080, '022': 4081, '22027990': 4082, 'adaderana': 4083, 'slaf': 4084, 'ada': 4085, 'derana': 4086, 'norway': 4087, '600k': 4088, 'rel': 4089, 'arjuna': 4090, 'varun': 4091, 'dhawan': 4092, 'gate': 4093, 'cns': 4094, 'elisa': 4095, 'sonera': 4096, 'operat': 4097, 'finland': 4098, '24april': 4099, 'cozi': 4100, '4get': 4101, 'whc': 4102, 'accus': 4103, 'justifi': 4104, 'adelant': 4105, 'ingo': 4106, 'coptr': 4107, '2go2': 4108, 'laprak': 4109, 'epictr': 4110, 'supli': 4111, 'scratch': 4112, 'kamal': 4113, 'ravi': 4114, 'ashok': 4115, 'dilip': 4116, 'tudikhel': 4117, 'castleman': 4118, 'aprial': 4119, 'eartquak': 4120, 'telephon': 4121, 'counter': 4122, 'expres': 4123, 'mou': 4124, 'mashabl': 4125, 'livestock': 4126, 'foo': 4127, 'progress': 4128, 'orla': 4129, 'murphi': 4130, 'tcpis': 4131, 'copenhagen': 4132, 'alll': 4133, 'ewf': 4134, '7000': 4135, 'principl': 4136, 'prolli': 4137, 'langar': 4138, 'almst': 4139, 'shlter': 4140, 'northwest': 4141, 'delawar': 4142, 'pair': 4143, '8mill': 4144, 'swung': 4145, 'spearhead': 4146, 'storey': 4147, '820': 4148, 'apprenticeship': 4149, 'swaymsevak': 4150, 'rltns': 4151, 'exprinc': 4152, 'utrkhnd': 4153, 'bbb': 4154, 'paytm': 4155, 'pcdaili': 4156, 'hasbara': 4157, 'bhajan': 4158, 'pice': 4159, 'gathaghar': 4160, 'paralysi': 4161, 'explos': 4162, '3351': 4163, '6833': 4164, 'third': 4165, '217': 4166, 'tuijan': 4167, 'foodstuff': 4168, 'tuladhar': 4169, '9851075915': 4170, 'freez': 4171, 'crappi': 4172, 'elli': 4173, 'fie': 4174, '14km': 4175, 'panaoti': 4176, '10km': 4177, 'maximis': 4178, 'virginia': 4179, 'vatf': 4180, 'dirco': 4181, 'ec': 4182, 'halfway': 4183, 'produc': 4184, 'youcar': 4185, 'crosss': 4186, 'aardbev': 4187, 'twenti': 4188, 'respon': 4189, 'saath': 4190, 'amul': 4191, 'tug': 4192, 'heartstr': 4193, 'credenti': 4194, 'dremte': 4195, 'lostboymemoir': 4196, 'david': 4197, 'consult': 4198, 'nina': 4199, 'stechmann': 4200, 'leoni': 4201, 'elsner': 4202, 'kirren': 4203, 'min2min': 4204, 'chapter': 4205, 'yah': 4206, 'adelaid': 4207, 'zac': 4208, 'aa': 4209, 'cmhs': 4210, 'don': 4211, 'hampshir': 4212, 'weari': 4213, 'sthlm': 4214, 'socialist': 4215, 'web': 4216, 'paypal': 4217, 'frustrat': 4218, 'whisk': 4219, 'soire': 4220, 'blanc': 4221, 'pujya': 4222, 'morari': 4223, 'baburam': 4224, 'bhattarai': 4225, 'frmr': 4226, 'geoff': 4227, 'databas': 4228, 'evac': 4229, 'hoy': 4230, 'rot': 4231, 'bangalor': 4232, 'bikash': 4233, '8123305223': 4234, 'dipesh': 4235, 'baral': 4236, '8088759905': 4237, 'indiegogo': 4238, 'discret': 4239, 'apn': 4240, 'phikar': 4241, 'magar': 4242, 'dusro': 4243, 'hongkong': 4244, 'subscript': 4245, 'tarp': 4246, 'marc': 4247, 'princ': 4248, 'bleak': 4249, 'custodi': 4250, '365': 4251, '2081148': 4252, '2081141': 4253, 'ahgas': 4254, 'maisha': 4255, 'accel': 4256, 'toggl': 4257, 'basemap': 4258, 'label': 4259, 'manjunath': 4260, 'pattenavar': 4261, '9845387776': 4262, 'victm': 4263, 'putrajaya': 4264, 'bernama': 4265, 'francisco': 4266, 'dc': 4267, 'isbpl': 4268, 'nepalair': 4269, 'chomrong': 4270, 'swath': 4271, 'flatteni': 4272, '864233': 4273, '7905': 4274, 'boyfriend': 4275, 'shankar': 4276, 'kafl': 4277, 'male': 4278, '57': 4279, 'slim': 4280, '8000': 4281, 'loan': 4282, '276': 4283, 'resolut': 4284, 'helen': 4285, 'stagger': 4286, 'coun': 4287, 'sanatan': 4288, 'brotherhood': 4289, 'instgram': 4290, '26701728': 4291, '9868891801': 4292, 'thinkin': 4293, 'noe': 4294, '181': 4295, 'terai': 4296, 'megaquak': 4297, 'frd': 4298, '5day': 4299, 'foll': 4300, 'americaaid': 4301, 'ar': 4302, 'lima': 4303, 'padang': 4304, 'istanbul': 4305, 'befallen': 4306, 'flash': 4307, 'zur': 4308, 'abreis': 4309, 'unser': 4310, 'nach': 4311, 'eurasian': 4312, 'sentinel': 4313, 'valeri': 4314, 'suhag': 4315, 'shaukeen': 4316, 'chauhan': 4317, 'dg': 4318, 'publ': 4319, 'ofda': 4320, 'asistencia': 4321, 'momento': 4322, 'desastr': 4323, 'consul': 4324, 'birgunj': 4325, '532244': 4326, 'krishna': 4327, 'museum': 4328, 'swiss': 4329, 'exemplari': 4330, '119': 4331, '999802': 4332, 'devchuli': 4333, 'nwalaparasi': 4334, 'furter': 4335, 'clarif': 4336, 'kalik': 4337, 'medico': 4338, 'nmo': 4339, 'manpow': 4340, 'valunt': 4341, 'teddington': 4342, 'tearfund': 4343, '960': 4344, 'stm': 4345, '961': 4346, '963': 4347, 'nstpl': 4348, '972': 4349, 'utl': 4350, '974': 4351, 'ndcl': 4352, '980': 4353, 'ncell': 4354, '984': 4355, 'maxam': 4356, 'mohabig': 4357, 'privat': 4358, 'precautionari': 4359, 'li': 4360, 'firm': 4361, 'monutain': 4362, 'foto': 4363, 'andreitintea': 4364, 'pikxchu': 4365, 'circuit': 4366, 'kelsey': 4367, 'austin': 4368, 'walsh': 4369, 'sc': 4370, 'clifton': 4371, 'swept': 4372, '012081148': 4373, '012081141': 4374, '9818968752': 4375, '9818968780': 4376, 'inst': 4377, 'disgrac': 4378, 'everybdi': 4379, 'rough': 4380, 'bbsr': 4381, 'capabl': 4382, 'na': 4383, 'ie': 4384, 'pple': 4385, '07021': 4386, '35141': 4387, 'bhupalman': 4388, 'karki': 4389, 'academi': 4390, 'revenu': 4391, 'ahi': 4392, 'burger': 4393, 'fairway': 4394, 'tender': 4395, 'alhamdhu': 4396, 'lillah': 4397, 'ham': 4398, 'rspons': 4399, 'slowli': 4400, 'cautious': 4401, 'rad': 4402, 'beij': 4403, 'bas': 4404, 'hrithik': 4405, 'roshan': 4406, 'consum': 4407, 'artilleri': 4408, 'shell': 4409, 'hastag': 4410, 'lfrs': 4411, 'pooja': 4412, 'missra': 4413, 'replic': 4414, 'prabandhak': 4415, 'commiti': 4416, 'tk': 4417, 'ncstc': 4418, 'foese': 4419, '1994': 4420, 'triag': 4421, '881': 4422, 'deja': 4423, 'vu': 4424, 'awak': 4425, 'classi': 4426, 'righ': 4427, 'aruna': 4428, 'fog': 4429, '310': 4430, 'aft': 4431, 'particular': 4432, 'bishop': 4433, 'growth': 4434, 'srviv': 4435, 'reqird': 4436, 'evri': 4437, 'newsroompost': 4438, 'spring': 4439, 'soni': 4440, 'tamand': 4441, 'aunt': 4442, 'dens': 4443, 'bhavan': 4444, 'tv9': 4445, 'massag': 4446, 'maygod': 4447, 'nee': 4448, 'wastat': 4449, 'bhandari': 4450, 'plastic': 4451, 'pattern': 4452, '3218': 4453, 'justin': 4454, 'tina': 4455, 'sciabica': 4456, 'ongo': 4457, 'jacob': 4458, 'riordan': 4459, 'kendal': 4460, 'copyright': 4461, 'obliter': 4462, 'yoshadhara': 4463, 'mahabir': 4464, 'dri': 4465, 'sukul': 4466, 'nite': 4467, 'npt': 4468, 'curat': 4469, '15yo': 4470, 'erik': 4471, 'babymet': 4472, 'prt': 4473, 'inflat': 4474, 'dhs20': 4475, 'contest': 4476, 'medium': 4477, '122': 4478, 'abch': 4479, 'nmno7rchr4': 4480, 'sleeper': 4481, 'godplan': 4482, 'vast': 4483, 'ukinrwanda': 4484, 'foreignoffic': 4485, 'consular': 4486, '207': 4487, '008': 4488, '0000': 4489, '1995': 4490, 'warmest': 4491, 'ngri': 4492, 'measuri': 4493, 'imam': 4494, 'mehdi': 4495, '16km': 4496, 'ene': 4497, 'manohar': 4498, 'ratio': 4499, 'fragment': 4500, 'collat': 4501, 'iocl': 4502, 'ssb': 4503, 'indianembassi': 4504, 'repres': 4505, 'precis': 4506, 'sore': 4507, 'materialist': 4508, 'kyanjin': 4509, 'gompa': 4510, 'knee': 4511, 'junk': 4512, '479': 4513, 'pranab': 4514, 'fullest': 4515, 'fellowship': 4516, 'nepalemergencyusc': 4517, '18884074747': 4518, '12025014444': 4519, 'papaji': 4520, 'irshad': 4521, 'remors': 4522, 'railway': 4523, 'mo': 4524, 'normalci': 4525, 'www': 4526, 'nepalirelief': 4527, 'unimagin': 4528, 'bjprajnathsingh': 4529, 'mysteri': 4530, 'incap': 4531, 'knwn': 4532, 'startl': 4533, 'gempa': 4534, 'scala': 4535, 'ritcher': 4536, 'carnag': 4537, 'gi': 4538, '1896': 4539, 'konger': 4540, 'dismiss': 4541, 'horrid': 4542, 'sharansskv': 4543, 'guruji': 4544, 'sunset': 4545, 'cntrs': 4546, 'instrument': 4547, 'relentless': 4548, 'concentr': 4549, 'lament': 4550, 'cameron': 4551, '5billion': 4552, 'emmet': 4553, 'gallagh': 4554, 'bodnath': 4555, 'stupa': 4556, 'sp': 4557, 'harit': 4558, 'rohilakand': 4559, 'awadh': 4560, 'purvanch': 4561, 'contrast': 4562, 'rigid': 4563, 'tackl': 4564, 'releif': 4565, '457': 4566, 'shem': 4567, 'radiolog': 4568, 'norvic': 4569, '000ppl': 4570, '3862': 4571, '7119': 4572, 'ft': 4573, 'bhasa': 4574, 'rebecca': 4575, 'petilya': 4576, 'dow': 4577, 'rambam': 4578, 'maimonid': 4579, 'haifa': 4580, 'seminar': 4581, 'kalighat': 4582, 'sakhu': 4583, 'tomo': 4584, 'instg': 4585, 'luv': 4586, 'booti': 4587, 'grassroot': 4588, 'recognis': 4589, 'scarciti': 4590, 'screen': 4591, 'woken': 4592, 'frantic': 4593, '15m': 4594, 'shechen': 4595, 'monasteri': 4596, 'rode': 4597, 'okhaldhunga': 4598, 'kim': 4599, 'yuna': 4600, 'prolong': 4601, 'oppressor': 4602, '36pm': 4603, 'mu': 4604, 'hardest': 4605, 'cobra': 4606, '174': 4607, 'interferogram': 4608, 'countrymen': 4609, 'ig': 4610, 'deshmukh': 4611, 'sonali': 4612, 'wmbd': 4613, 'semper': 4614, 'auerbach': 4615, 'oldest': 4616, 'boz': 4617, 'eveyth': 4618, 'spreadsheet': 4619, 'irlembindia': 4620, 'grati': 4621, 'catherin': 4622, 'lassez': 4623, 'rc': 4624, 'strengh': 4625, 'gaze': 4626, 'yeoman': 4627, 'booth': 4628, 'lakhimpur': 4629, 'koh': 4630, 'instinct': 4631, '20km': 4632, 'ii': 4633, 'dyfi': 4634, 'us1': 4635, '7266': 4636, 'emir': 4637, '1450': 4638, 'ibn': 4639, 'leisur': 4640, 'astroturf': 4641, 'space4': 4642, 'interact': 4643, 'dement': 4644, 'semit': 4645, 'cnvrtd': 4646, 'shltr': 4647, 'cmp': 4648, 'stayd': 4649, 'dere': 4650, 'wee': 4651, 'germani': 4652, 'quakestricken': 4653, 'raisaa': 4654, 'tashnova': 4655, 'scrutin': 4656, 'invit': 4657, 'mishmash': 4658, 'unfold': 4659, 'gma': 4660, 'thous': 4661, '62yro': 4662, 'crawl': 4663, 'palli': 4664, 'kathmand': 4665, '175': 4666, 'abort': 4667, 'portugues': 4668, 'identifi': 4669, '1887': 4670, 'morgan': 4671, 'silver': 4672, 'collector': 4673, 'modisarkaar': 4674, 'zindabad': 4675, 'thnks': 4676, 'branch': 4677, 'hausla': 4678, 'badhega': 4679, 'aur': 4680, 'toh': 4681, 'hace': 4682, 'salyantar': 4683, 'gandaki': 4684, 'checkout': 4685, 'oxygen': 4686, 'cylind': 4687, 'contain': 4688, 'tass': 4689, 'medi': 4690, 'tide': 4691, 'mann': 4692, 'baat': 4693, '263': 4694, 'compil': 4695, 'firewood': 4696, 'speechless': 4697, 'sushmita': 4698, 'sen': 4699, 'lukin4a': 4700, 'vikram': 4701, 'jindal': 4702, '5member': 4703, 'doth': 4704, 'pakitan': 4705, 'lifelin': 4706, 'audio': 4707, 'afrisi': 4708, 'yeoh': 4709, 'todt': 4710, 'eng': 4711, 'attitud': 4712, 'ishan': 4713, 'iman': 4714, 'shave': 4715, 'ishara': 4716, 'cialfo': 4717, 'throb': 4718, 'jii': 4719, 'ol': 4720, 'unfair': 4721, 'smthg': 4722, 'totur': 4723, 'torygraph': 4724, 'hsbc': 4725, 'scandal': 4726, 'cchq': 4727, 'discredit': 4728, '799': 4729, 'brick': 4730, 'assam': 4731, '1dart': 4732, '54': 4733, '1719': 4734, '147': 4735, 'k9': 4736, 'pleae': 4737, 'sickular': 4738, 'pg': 4739, 'kong': 4740, 'po': 4741, 'telstra': 4742, 'shakemap': 4743, '612x718': 4744, 'mapporn': 4745, 'lindypenguin': 4746, 'commiss': 4747, 'inshaallah': 4748, 'mle': 4749, 'ul105': 4750, '0115': 4751, '37k': 4752, 'eur': 4753, 'swamp': 4754, 'probl': 4755, 'harm': 4756, 'supplier': 4757, 'boundari': 4758, 'mera': 4759, 'gorakhpur': 4760, 'stn': 4761, 'bug': 4762, 'goto': 4763, 'arprt': 4764, 'buzzfeednew': 4765, 'pediatrician': 4766, 'thunderstorm': 4767, 'niranjan': 4768, 'guis': 4769, 'colon': 4770, 'sachet': 4771, 'catastrophi': 4772, '2005': 4773, 'sho': 4774, 'famil': 4775, 'compatriot': 4776, 'orthopaed': 4777, 'cardiothorac': 4778, 'pmnrf': 4779, 'gang': 4780, 'lepa': 4781, 'chhokpa': 4782, 'apr27': 4783, 'shopkeep': 4784, 'rasuwa': 4785, 'asta': 4786, 'mahek': 4787, 'agarw': 4788, 'ri8': 4789, 'alri8': 4790, 'whthr': 4791, 'eu': 4792, 'eucpm': 4793, '591902814160355328': 4794, 'sis': 4795, 'husbad': 4796, '592997334306291712': 4797, '591903344769179649': 4798, 'douchebag': 4799, 'window': 4800, 'bazaar': 4801, 'khumjung': 4802, 'khund': 4803, 'rep': 4804, 'mamata': 4805, 'banerje': 4806, 'hash': 4807, 'nitesh': 4808, 'pitch': 4809, 'algerian': 4810, 'lenskart': 4811, 'botch': 4812, 'telco': 4813, 'sacha': 4814, 'sauda': 4815, 'ciaa': 4816, '847': 4817, '850': 4818, 'seemor': 4819, '210': 4820, 'mega': 4821, 'inquir': 4822, '1234': 4823, '402': 4824, '593': 4825, '9838': 4826, 'anyhow': 4827, 'password': 4828, 'trishuli': 4829, 'bazar': 4830, 'excav': 4831, 'cpi': 4832, 'manoa': 4833, 'hypocrisi': 4834, 'levi': 4835, 'southern': 4836, 'liveleakfun': 4837, 'chaotic': 4838, 'ranbir': 4839, 'dir': 4840, 'subsid': 4841, 'ner': 4842, '2560': 4843, 'evacue': 4844, 'poorest': 4845, 'thankiesss': 4846, 'incorrect': 4847, 'codefornep': 4848, 'fieldbas': 4849, 'jesuss': 4850, '707': 4851, 'c130j': 4852, 'thanku': 4853, '4help': 4854, 'manju': 4855, 'ghosal': 4856, '9779847051496': 4857, 'basant': 4858, 'bhojwani': 4859, '919867001775': 4860, 'cave': 4861, 'hurri': 4862, '9843552882': 4863, 'biratngr': 4864, '9862005225': 4865, 'chitawah': 4866, '9855065135': 4867, '0977': 4868, 'nate': 4869, 'axj': 4870, 'veza': 4871, 'shri': 4872, 'northeastern': 4873, 'myanmar': 4874, 'fo': 4875, '2b': 4876, 'clyro': 4877, 'reqd': 4878, 'solac': 4879, 'ghurkha': 4880, 'essenc': 4881, '415': 4882, 'nora': 4883, 'shipment': 4884, 'wendesday': 4885, 'bake': 4886, 'cpa': 4887, 'breathtak': 4888, 'anxious': 4889, 'toon': 4890, 'sicken': 4891, 'alarmist': 4892, 'furthermor': 4893, 'beret': 4894, 'tel': 4895, '061': 4896, '440474': 4897, 'kttv': 4898, 'pari': 4899, 'environment': 4900, 'adapt': 4901, 'zubin': 4902, 'zaman': 4903, 'arizonanewsnet': 4904, 'secureusatalk': 4905, 'arizona': 4906, 'hut': 4907, 'mozzer': 4908, 'huffington': 4909, 'profess': 4910, 'vi': 4911, 'ksl': 4912, 'ro': 4913, 'teimumu': 4914, 'kepa': 4915, 'fiji': 4916, 'an0n': 4917, 'c1ph3r': 4918, 'rtdnew': 4919, 'dhunch': 4920, 'diall': 4921, 'atop': 4922, '945': 4923, 'blackmarket': 4924, 'neelakandans1': 4925, 'grett': 4926, 'ou': 4927, 'sharan': 4928, 'mahat': 4929, 'financ': 4930, '2300': 4931, 'fend': 4932, 'adkin': 4933, 'tun': 4934, 'pkts': 4935, 'aru': 4936, 'pokhari': 4937, 'helico': 4938, 'debt': 4939, 'slip': 4940, 'preliminari': 4941, '211': 4942, 'elsewher': 4943, 'impt': 4944, 'apolog': 4945, 'existenci': 4946, 'cr': 4947, 'paslang': 4948, 'fifti': 4949, 'with96': 4950, 'tribut': 4951, 'inter': 4952, 'ministeri': 4953, 'writ': 4954, 'towner': 4955, 'enorm': 4956, 'guest': 4957, 'regenc': 4958, 'avid': 4959, 'buil': 4960, 'lobbi': 4961, 'yak': 4962, 'yeti': 4963, 'samahop': 4964, 'bloomberg': 4965, 'podpad': 4966, 'lozzatron88': 4967, '154815': 4968, '398595': 4969, 'bamboo': 4970, 'function': 4971, 'amanda': 4972, 'holden': 4973, 'stray': 4974, 'earthqual': 4975, 'veterinari': 4976, 'slice': 4977, 'icon': 4978, 'thapathali': 4979, 'drsanjaygupta': 4980, 'firstpostl': 4981, 'hotlin': 4982, 'pond': 4983, 'seawav': 4984, 'arnab': 4985, 'refund': 4986, 'rsaf': 4987, '89': 4988, 'porean': 4989, 'prs': 4990, 'todayonlin': 4991, 'modest': 4992, 'stellar': 4993, '405': 4994, 'seventh': 4995, 'janvier': 4996, 'h2o': 4997, 'complic': 4998, 'terrain': 4999, 'epa': 5000, 'refug': 5001, 'persona': 5002, 'vida': 5003, 'zona': 5004, 'afectada': 5005, '172': 5006, 'atm': 5007, 'fi': 5008, 'groceri': 5009, 'becar': 5010, 'trader': 5011, 'wilma': 5012, 'bryan': 5013, 'expedi': 5014, 'victorian': 5015, 'lobouch': 5016, 'satur': 5017, 'color': 5018, 'metaphor': 5019, 'cole': 5020, 'donahu': 5021, 'photoset': 5022, 'lambda': 5023, 'dioces': 5024, 'lancast': 5025, 'kusum': 5026, 'scatter': 5027, 'usat': 5028, 'talbot': 5029, 'highris': 5030, 'wind': 5031, 'lightn': 5032, 'ari': 5033, 'tf2': 5034, 'spokesp': 5035, 'sentri': 5036, 'dessup': 5037, 'civic': 5038, 'disrupt': 5039, 'phl': 5040, 'prc': 5041, 'manila': 5042, 'phili': 5043, 'labor': 5044, 'theedgemarket': 5045, 'edg': 5046, '100million': 5047, 'yous': 5048, 'spencer': 5049, 'unharm': 5050, 'denmark': 5051, 'greec': 5052, 'sweden': 5053, 'xo': 5054, 'gopalkrishna': 5055, 'pemba': 5056, 'transpar': 5057, 'keral': 5058, 'doubt': 5059, '2200': 5060, 'shesh': 5061, 'ghale': 5062, 'ntu': 5063, 'edmonton': 5064, 'cdn': 5065, 'g20': 5066, 'lamp': 5067, 'pole': 5068, 'siinc': 5069, 'morninng': 5070, 'governmen': 5071, 'paf': 5072, 'lnded': 5073, '9w': 5074, '261': 5075, 'sche': 5076, 'dearest': 5077, 'fish': 5078, 'politick': 5079, 'disconnect': 5080, 'immin': 5081, 'a350': 5082, 'companionship': 5083, 'managemnt': 5084, 'smcs': 5085, 'evryday': 5086, 'brooklyn': 5087, 'backpack': 5088, 'dail': 5089, 'everestcamp': 5090, 'noo': 5091, 'paus': 5092, 'yday': 5093, 'hf': 5094, 'alfa': 5095, 'wali': 5096, 'nhs': 5097, 'imperi': 5098, 'susi': 5099, 'scripp': 5100, 'raj': 5101, 'mahal': 5102, 'gutu': 5103, 'hite': 5104, 'guwahati': 5105, 'lodg': 5106, 'layman': 5107, 'reject': 5108, 'sewak': 5109, 'alia': 5110, 'bhatt': 5111, 'dia': 5112, 'mirza': 5113, 'anupam': 5114, 'kher': 5115, 'mrpksahoo': 5116, 'honour': 5117, 'screenshot': 5118, 'lethal': 5119, 'sladehv': 5120, 'maxplenk': 5121, '11667': 5122, '15000': 5123, 'target': 5124, 'pentagon': 5125, 'yann': 5126, 'traboulsi': 5127, 'bapuji': 5128, 'asaram': 5129, 'ashram': 5130, 'nst': 5131, 'ndb': 5132, 'ri': 5133, 'usgst': 5134, '750': 5135, '242': 5136, 'lukla': 5137, 'hussain': 5138, 'abdulkareem': 5139, 'ea': 5140, 'arwacnn': 5141, 'wreckag': 5142, 'interced': 5143, 'groan': 5144, 'ijn': 5145, 'cnbc': 5146, 'verg': 5147, 'mon': 5148, 'accredit': 5149, 'leap': 5150, 'reprehens': 5151, 'gigant': 5152, 'angloinfo': 5153, '686': 5154, '08am': 5155, 'lbum': 5156, 'bartleyan': 5157, 'cushion': 5158, 'hlp': 5159, 'prson': 5160, 'namd': 5161, 'novemb': 5162, 'str': 5163, 'trace': 5164, 'kms': 5165, 'manyshop': 5166, 'jumbo': 5167, 'kil': 5168, 'narrow': 5169, 'ubisoft': 5170, 'nigel': 5171, 'farag': 5172, 'uneven': 5173, 'v5': 5174, 'simpani': 5175, 'webpag': 5176, 'enquiri': 5177, 'seep': 5178, 'neer': 5179, 'aff': 5180, 'ch2': 5181, 'jerk': 5182, 'thankyou': 5183, 'keypad': 5184, '977or': 5185, 'nicola': 5186, 'chenioves1d': 5187, 'ohmygod': 5188, 'inclin': 5189, 'evn': 5190, '80888': 5191, 'numer': 5192, 'amri': 5193, 'eh': 5194, 'assi': 5195, '251': 5196, 'mont': 5197, 'ironi': 5198, '8052': 5199, '84': 5200, '8744': 5201, 'varanasi': 5202, 'hyderabad': 5203, 'arnd': 5204, 'pagoda': 5205, 'tree': 5206, 'roadsid': 5207, 'netizen': 5208, 'jami': 5209, 'mcgoldrick': 5210, 'conting': 5211, '1865': 5212, 'myrtl': 5213, '61': 5214, 'hahahaha': 5215, 'gea': 5216, 'contract': 5217, 'ni': 5218, 'chaddi': 5219, 'tweepl': 5220, 'seci': 5221, 'rajeev': 5222, 'ranjan': 5223, 'sbi': 5224, '34035597300': 5225, 'ifsc': 5226, 'sbin0001254': 5227, 'brach': 5228, '001254': 5229, 'bbcamo': 5230, 'deathtol': 5231, '729': 5232, 'caut': 5233, 'marcelle42': 5234, 'goldleaf': 5235, 'neonsign': 5236, 'sabir': 5237, 'trainer': 5238, 'rv': 5239, 'missin': 5240, '9815914687': 5241, '009779803658023': 5242, 'theori': 5243, 'mj': 5244, 'akbar': 5245, 'sectarian': 5246, 'categori': 5247, '94': 5248, 'moonthank': 5249, 'ispr': 5250, 'bilater': 5251, 'commrcial': 5252, 'glenda': 5253, 'amit': 5254, 'ahlawat': 5255, 'pashupathi': 5256, 'mandir': 5257, 'pse': 5258, 'no1': 5259, 'evacn': 5260, '870': 5261, 'jazeera': 5262, '2600': 5263, 'gareth': 5264, 'sunnybtgat': 5265, 'newday': 5266, '6amet': 5267, 'arg': 5268, 'diff': 5269, 'taubah': 5270, 'nephew': 5271, 'edward': 5272, 'pin': 5273, 'telugus': 5274, 'instanc': 5275, 'henri': 5276, 'wander': 5277, 'bef': 5278, 'preposit': 5279, 'auto': 5280, 'ripe': 5281, 'simpathi': 5282, 'meaning': 5283, '083': 5284, 'secret': 5285, 'grdn': 5286, 'marbl': 5287, 'rubaiyat': 5288, 'stanza': 5289, 'dress': 5290, '080': 5291, '22340676': 5292, '220': 5293, 'chennai': 5294, 'unstabl': 5295, '19m': 5296, 'tomorr': 5297, 'detect': 5298, 'operationusa': 5299, 'hypocrit': 5300, 'emoticon': 5301, 'closur': 5302, 'recruit': 5303, 'vikramjit': 5304, 'sahney': 5305, 'manjit': 5306, 'reac': 5307, 'nepalquakerelief': 5308, 'comeon': 5309, 'greenpeac': 5310, 'airbus': 5311, 'liam': 5312, 'chanj': 5313, 'dharpani': 5314, 'cir': 5315, '4a': 5316, '2d': 5317, 'resort': 5318, 'itz': 5319, 'cheaper': 5320, 'swayamsewak': 5321, 'astonish': 5322, 'marr': 5323, '225': 5324, '100km': 5325, '9w265': 5326, 'etd': 5327, 'dolli': 5328, 'cadr': 5329, '90999': 5330, 'absent': 5331, 'overland': 5332, 'fourth': 5333, 'dhapasi': 5334, 'nayabazar': 5335, 'chabahil': 5336, 'reassur': 5337, '597': 5338, 'drtf': 5339, 'icom': 5340, 'mw': 5341, 'pmrf': 5342, 'penalti': 5343, 'bum': 5344, 'undoubt': 5345, 'putin': 5346, 'superpow': 5347, 'undr': 5348, 'permant': 5349, 'prud': 5350, 'kuala': 5351, 'lumpur': 5352, 'shopper': 5353, 'debit': 5354, 'icc': 5355, 'divis': 5356, 'ber': 5357, '232': 5358, 'platform': 5359, 'fauji': 5360, '24x7': 5361, 'rm': 5362, 'nigga': 5363, 'feku': 5364, 'reesku': 5365, 'saala': 5366, 'sudhrega': 5367, 'nai': 5368, 'whim': 5369, 'juornal': 5370, 'schizophrenia': 5371, 'pht': 5372, 'valkyri': 5373, 'nyoy': 5374, 'ran': 5375, 'checker': 5376, 'interf': 5377, 'ruthless': 5378, 'scumbag': 5379, 'fart': 5380, 'smell': 5381, 'buuuut': 5382, 'unreadi': 5383, 'preachin': 5384, 'judgement': 5385, 'dun': 5386, 'gbu': 5387, 'predomin': 5388, 'frack': 5389, 'gng': 5390, 'suit': 5391, 'revolv': 5392, '592157246580097025': 5393, 'ttw': 5394, '592593604201185280': 5395, 'crawford': 5396, 'bishal': 5397, 'chalis': 5398, '593005187830124544': 5399, 'tbh': 5400, '592999778780258304': 5401, 'afternoon': 5402, '592951829505253376': 5403, 'root': 5404, '592180647151542273': 5405, 'invest': 5406, '592736564167503873': 5407, 'vaccin': 5408, '592709228332220416': 5409, 'unawar': 5410, 'unconcern': 5411, '592767978715947009': 5412, 'multipl': 5413, '592733360142852098': 5414, 'scroll': 5415, '593169884428824576': 5416, 'destroi': 5417, 'distroi': 5418, '592670479305056258': 5419, '592848154476859393': 5420, 'bent': 5421, '592720551568871424': 5422, '592634556882247680': 5423, 'comedian': 5424, 'jokeeveri': 5425, 'worsen': 5426, 'apathi': 5427, 'digest': 5428, 'harleypart': 5429, 'tomakea': 5430, 'playboy': 5431, 'abid': 5432, 'samaa': 5433, 'prog': 5434, 'haha': 5435, 'kabi': 5436, 'fauj': 5437, 'aps': 5438, 'ijazat': 5439, 'leker': 5440, 'aihai': 5441, 'radeb': 5442, 'emmanuel': 5443, 'sithol': 5444, 'lichfield': 5445, '284': 5446, 'goldi': 5447, 'melissa': 5448, 'perri': 5449, 'writer': 5450, 'elig': 5451, 'yuva': 5452, 'dnepal': 5453, 'rn': 5454, 'reid': 5455, 'gop': 5456, 'balanc': 5457, 'mulayam': 5458, 'dope': 5459, 'orangetechi': 5460, 'infam': 5461, 'wldnt': 5462, 'bcaus': 5463, '8yr': 5464, 'triathlon': 5465, 'nidhiraj': 5466, '4350': 5467, 'coast': 5468, 'samantha': 5469, 'daniell': 5470, 'qatar': 5471, 'eta': 5472, 'cite': 5473, 'eg': 5474, 'girka': 5475, 'pension': 5476, 'fat': 5477, 'irrit': 5478, 'comedi': 5479, 'outstand': 5480, 'aback': 5481, 'balt': 5482, 'mayor': 5483, 'governor': 5484, 'clergi': 5485, 'reviv': 5486, 'lolol': 5487, 'cast': 5488, 'breakup': 5489, 'hahaha': 5490, 'recycl': 5491, '1857': 5492, 'diego': 5493, 'accid': 5494, 'otherwis': 5495, 'monast': 5496, 'void': 5497, '830am': 5498, 'cybercrook': 5499, 'bhu1st': 5500, 'chinaorgcn': 5501, 'cos': 5502, 'marri': 5503, 'camel': 5504, 'lust': 5505, 'follback': 5506, 'malik': 5507, 'joey': 5508, 'mooo': 5509, 'heartili': 5510, 'alyz': 5511, 'teeth': 5512, 'darsait': 5513, 'muscat': 5514, 'habit': 5515, '10million': 5516, 'politicswashington': 5517, 'shubhamsharma': 5518, '10am': 5519, 'hottest': 5520, 'msc': 5521, 'passion': 5522, 'chu': 5523, 'xi': 5524, 'eel': 5525, 'unregist': 5526, 'tam': 5527, '04pm': 5528, 'superstar': 5529, 'strkd': 5530, 'flt': 5531, 'dvrtd': 5532, 'nrout': 5533, 'sw': 5534, 'vrythn': 5535, 'franci': 5536, 'gooner': 5537, 'ratna': 5538, 'nowaday': 5539, 'virtu': 5540, 'skip': 5541, 'artisan': 5542, 'coffe': 5543, 'rajput': 5544, 'thirsti': 5545, 'doe': 5546, 'infer': 5547, 'werent': 5548, 'shroud': 5549, 'heck': 5550, 'ken': 5551, 'roth': 5552, 'graveyard': 5553, '224': 5554, 'cavemen': 5555, 'dayum': 5556, 'maintain': 5557, 'highkey': 5558, 'freq': 5559, 'oscil': 5560, 'rodeo': 5561, 'oclock': 5562, '3617': 5563, '6515': 5564, '1302': 5565, 'inj': 5566, '4228': 5567, 'intifada': 5568, 'som': 5569, 'trivial': 5570, 'seputaran': 5571, 'kodya': 5572, 'foul': 5573, 'nophoto': 5574, 'bharaat': 5575, 'crackhead': 5576, 'dirtbag': 5577, 'pos': 5578, 'felon': 5579, 'colorado': 5580, 'trial': 5581, 'laika': 5582, 'internationl': 5583, 'tiffin': 5584, 'breezi': 5585, 'geographi': 5586, 'iin': 5587, 'jumbl': 5588, 'buoy': 5589, 'luxuri': 5590, 'indulg': 5591, 'wehelp': 5592, 'duplic': 5593, 'mrkts': 5594, 'landlock': 5595, 'compromis': 5596, '9truth': 5597, 'renter': 5598, 'dfid': 5599, 'moroccan': 5600, 'aqua': 5601, '60friend': 5602, 'dawn': 5603, 'abhay': 5604, 'kay': 5605, '7am': 5606, 'zhabdrung': 5607, 'kucho': 5608, 'broadest': 5609, 'oblivion': 5610, 'warmer': 5611, 'daystart': 5612, 'mond': 5613, 'bolt': 5614, 'maid': 5615, 'ws': 5616, 'unhurt': 5617, 'thatch': 5618, 'mud': 5619, 'irrat': 5620, 'realm': 5621, 'dissert': 5622, 'robberi': 5623, 'nine': 5624, 'rob': 5625, 'catboy92': 5626, 'monkeymel75': 5627, 'debbi': 5628, 'smith': 5629, 'dubai92': 5630, 'scholar': 5631, 'plzzzzz': 5632, 'hlpppp': 5633, 'resc': 5634, 'tamara': 5635, 'mcleod': 5636, 'kdungul': 5637, 'vandahmi': 5638, 'migueldant': 5639, 'dayal': 5640, 'roberio': 5641, 'lest': 5642, 'drug': 5643, 'thot': 5644, 'propoganda': 5645, 'annoyng': 5646, 'septemb': 5647, 'nippl': 5648, 'reel': 5649, 'chequ': 5650, 'dammit': 5651, '22h30': 5652, 'orgniztn': 5653, 'standng': 5654, 'unintent': 5655, 'rembi': 5656, 'ebola': 5657, 'fuke': 5658, '3400': 5659, 'jere': 5660, 'preview': 5661, 'nhl': 5662, 'game': 5663, 'portland': 5664, 'retu': 5665, 'darshana': 5666, 'dagana': 5667, 'youm': 5668, 'ratala': 5669, 'tedxyouth': 5670, 'je': 5671, 'sui': 5672, 'charli': 5673, 'asd': 5674, 'kidney': 5675, 'dialysi': 5676, '5400': 5677, 'madam': 5678, 'blogpost': 5679, 'chose': 5680, 'dubai': 5681, '240': 5682, 'sector': 5683, 'abp': 5684, 'fulfil': 5685, 'abit': 5686, 'abund': 5687, 'necessarili': 5688, 'ib': 5689, 'alleg': 5690, 'bcame': 5691, 'powerhost': 5692, 'datboigeorg': 5693, 'kwakumojo': 5694, 'beccafrica': 5695, 'redman': 5696, 'carolyn': 5697, 'rull': 5698, 'tulluru': 5699, 'mangalagiri': 5700, 'cholera': 5701, 'alk': 5702, 'fanat': 5703, 'grandpa': 5704, 'familiar': 5705, 'anchor': 5706, 'dumfri': 5707, 'starrer': 5708, 'daysss': 5709, 'packup': 5710, 'confid': 5711, 'christianis': 5712, 'lili': 5713, 'stevi': 5714, 'poignant': 5715, 'hmm': 5716, 'foregin': 5717, '10s': 5718, 'naresh': 5719, 'aggarw': 5720, 'compos': 5721, 'heartful': 5722, 'recnt': 5723, 'shirley': 5724, 'garv': 5725, 'kaho': 5726, 'rainbow': 5727, 'nyc': 5728, '6pm': 5729, 'hadr': 5730, 'cinema': 5731, 'mall': 5732, 'rama': 5733, 'vibishan': 5734, 'lakshman': 5735, 'crave': 5736, 'held': 5737, 'smuggler': 5738, 'nooo': 5739, 'strateg': 5740, 'irin': 5741, 'trajedi': 5742, 'yaaron': 5743, 'yaar': 5744, 'sardaar': 5745, 'gem': 5746, 'difficulti': 5747, 'siddhartha': 5748, 'ahf': 5749, 'exhibit': 5750, 'harass': 5751, 'cancer': 5752, 'harshad': 5753, 'ceremoni': 5754, 'naveen': 5755, 'sth': 5756, 'pergi': 5757, 'notley': 5758, 'graham': 5759, 'kale': 5760, 'buddhi': 5761, 'rek': 5762, 'kickstart': 5763, 'protestor': 5764, 'lembap': 5765, 'joseph': 5766, 'nos': 5767, 'twit': 5768, 'funniest': 5769, 'doynton': 5770, 'weldon': 5771, '2013': 5772, 'sean': 5773, 'arpit': 5774, 'yc': 5775, 'watev': 5776, 'hppen': 5777, 'neples': 5778, 'aamirian': 5779, 'adian': 5780, 'alwi': 5781, 'evryth': 5782, 'knutsford': 5783, 'nah': 5784, 'divk': 5785, 'documentari': 5786, 'compla': 5787, 'homework': 5788, 'twist': 5789, 'saint': 5790, '7pm': 5791, 'decreas': 5792, 'schooler': 5793, 'oral': 5794, 'odi': 5795, 'woe': 5796, 'fzuck': 5797, 'sont': 5798, 'kate': 5799, 'middleton': 5800, 'wich': 5801, 'lyk': 5802, '06': 5803, '6501': 5804, 'fifa': 5805, 'gane': 5806, 'ceo': 5807, 'lar': 5808, 'bjork': 5809, 'goodmorn': 5810, 'showroom': 5811, 'applaus': 5812, 'ribeiro': 5813, 'adm': 5814, 'sushi': 5815, 'headach': 5816, 'mishap': 5817, 'kin': 5818, 'opportunist': 5819, 'unhing': 5820, 'newsweek': 5821, 'wale': 5822, 'salesmen': 5823, 'beutyful': 5824, 'hopeless': 5825, 'powerless': 5826, 'egypt': 5827, 'takeoutcomedi': 5828, 'bail': 5829, 'endless': 5830, 'hesit': 5831, 'thick': 5832, 'dumbass': 5833, 'fpr': 5834, 'blunder': 5835, 'overload': 5836, 'berni': 5837, 'chelostrol': 5838, 'throwback': 5839, 'shutup': 5840, 'shorter': 5841, 'checkin': 5842, 'mock': 5843, 'yiur': 5844, 'wnyc': 5845, 'transluc': 5846, 'breakbeat': 5847, 'flirt': 5848, 'wink': 5849, 'ejacul': 5850, 'deriv': 5851, 'sadist': 5852, 'acquir': 5853, 'bewar': 5854, 'unemploy': 5855, 'esteem': 5856, 'gritti': 5857, 'advers': 5858, 'kaffarah': 5859, 'jungjoo': 5860, 'bakistani': 5861, 'frontier': 5862, 'toil': 5863, 'faf': 5864, 'hun': 5865, 'criticsm': 5866, 'apreci': 5867, 'critiz': 5868, 'everytym': 5869, 'threaten': 5870, 'brin': 5871, 'mycondol': 5872, '194': 5873, 'mondawmin': 5874, 'knock': 5875, '1this': 5876, 'sofa': 5877, 'lava': 5878, 'jill': 5879, 'derrick': 5880, 'steadi': 5881, 'care2thos': 5882, 'revolution': 5883, 'ration': 5884, 's0': 5885, 'norbu': 5886, 'tenz': 5887, 'norgay': 5888, 'summi': 5889, 'anusha': 5890, 'subramanian': 5891, 'stretch': 5892, 'wellwish': 5893, 'merit': 5894, 'freak': 5895, 'nba': 5896, 'teammat': 5897, 'naaaaa': 5898, 'pig': 5899, 'ash': 5900, 'capita': 5901, 'purr': 5902, 'gajend': 5903, 'builder': 5904, 'flout': 5905, 'jalianwala': 5906, 'bag': 5907, 'denounc': 5908, 'caldbick': 5909, 'inch': 5910, 'traffick': 5911, 'sensate': 5912, 'presenc': 5913, 'bugger': 5914, 'timeless': 5915, 'pilot': 5916, 'pulitz': 5917, 'jim': 5918, 'morin': 5919, 'bajana': 5920, 'parta': 5921, 'ofso': 5922, 'anonym': 5923, '200km': 5924, 'cloest': 5925, 'pe': 5926, 'yooo': 5927, 'smooth': 5928, 'gment': 5929, 'politc': 5930, 'richter': 5931, 'shivalik': 5932, 'basin': 5933, 'geophysicist': 5934, 'reassess': 5935, 'lesbian': 5936, 'bi': 5937, 'pan': 5938, 'allerg': 5939, 'dynasti': 5940, 'evasundin1': 5941, 'brianmcfayden': 5942, 'nausiat': 5943, 'isnep': 5944, 'situt': 5945, 'fbos': 5946, 'virat': 5947, 'earthwuak': 5948, 'americar': 5949, 'isgod': 5950, 'sacrif': 5951, 'trad': 5952, 'hepl': 5953, 'shilla39407911': 5954, 'lincoln': 5955, 'trailer': 5956, 'doomsday': 5957, 'fishi': 5958, 'pmos': 5959, 'presstitut': 5960, 'compel': 5961, 'saurpaani': 5962, 'ljmu': 5963, 'offend': 5964, 'lauren': 5965, 'aameen': 5966, 'nrli': 5967, 'estmtd': 5968, 'ded': 5969, 'earthquek': 5970, 'dpest': 5971, 'cndlnces': 5972, '2thoz': 5973, 'lst': 5974, 'er': 5975, 'stnd': 5976, 'dic': 5977, 'dffclt': 5978, 'mmnts': 5979, 'linda': 5980, 'edgecomb': 5981, 'smuggl': 5982, 'workout': 5983, 'degre': 5984, 'agricultur': 5985, 'densiti': 5986, '1990': 5987, 'suresh': 5988, 'soulvultur': 5989, 'delud': 5990, 'dogma': 5991, 'recognit': 5992, 'seri': 5993, 'gallipoli': 5994, 'forthcom': 5995, 'most': 5996, 'moon': 5997, 'samar': 5998, 'makeov': 5999, 'looking4visit': 6000, 'refer': 6001, 'referr': 6002, 'funnyfest': 6003, 'comic': 6004, 'dp': 6005, 'practic': 6006, 'prostitut': 6007, 'forgot': 6008, 'ana': 6009, 'kye': 6010, 'tera': 6011, 'rape': 6012, 'kya': 6013, 'scrap': 6014, 'tyler': 6015, 'sooliman': 6016, 'expertis': 6017, 'garima': 6018, 'epitomis': 6019, 'pressur': 6020, 'hath': 6021, 'fortitud': 6022, 'capt': 6023, 'pvc': 6024, 'fandom': 6025, 'coke': 6026, 'nestl': 6027, 'helf': 6028, 'croud': 6029, 'omi': 6030, 'coordiantionget': 6031, 'khalek': 6032, 'emergenza': 6033, 'onlus': 6034, 'pend': 6035, 'unhappi': 6036, 'oft': 6037, 'millon': 6038, 'fab': 6039, 'kashmiri': 6040, 'hatr': 6041, 'cloudi': 6042, 'requisit': 6043, 'aana': 6044, 'paisa': 6045, 'commiser': 6046, 'ramgop': 6047, 'own': 6048, 'geohaz': 6049, 'onthi': 6050, 'urself': 6051, 'avinash': 6052, 'kesar': 6053, 'thoe': 6054, 'mote': 6055, '592168314253639684': 6056, '592670301646888960': 6057, '592621811113676802': 6058, '591902898923044864': 6059, 'assign': 6060, '592705024498753537': 6061, 'earthhquak': 6062, '592735073457274880': 6063, 'communal': 6064, '592998306013286400': 6065, '592681488530972672': 6066, 'sarcast': 6067, '592167933767503872': 6068, '593228742366990336': 6069, 'tmk': 6070, 'withdraw': 6071, '592807409929846784': 6072, '592786410597384192': 6073, '592893377156382722': 6074, 'wherea': 6075, '592861903086592000': 6076, '591910863960834048': 6077, 'swarm': 6078, '592753297653661696': 6079, '592200777273253889': 6080, 'inan': 6081, '592664776658034688': 6082, 'merchandis': 6083, '592896028698923009': 6084, 'wholl': 6085, '592593068320104448': 6086, 'worthprais': 6087, '592986868599418880': 6088, '592618408614715392': 6089, 'barnstapl': 6090, 'ebc': 6091, 'tia': 6092, '592688057159122946': 6093, '592740401464930304': 6094, '593148701973061632': 6095, 'ryan': 6096, 'landgraf': 6097, 'und': 6098, 'prinz': 6099, 'von': 6100, 'hessen': 6101, 'useless': 6102, '200k': 6103, 'arial': 6104, 'barri': 6105, 'prop': 6106, 'streamer': 6107, 'juxtapos': 6108, 'feeln': 6109, 'bottleneck': 6110, 'smarti': 6111, 'cmout': 6112, 'victor': 6113, 'iberia': 6114, 'parish': 6115, 'lotsa': 6116, 'trflgr': 6117, 'tmr': 6118, '8pm': 6119, 'gloomi': 6120, 'salvat': 6121, 'akshya': 6122, '1may': 6123, 'implement': 6124, 'reali': 6125, 'aficionado': 6126, 'fay': 6127, 'kennedi': 6128, 'nisha': 6129, 'budha': 6130, 'indira': 6131, 'fernand': 6132, 'ramakrishna': 6133, '1563804': 6134, 'html': 6135, 'peso': 6136, 'lang': 6137, 'nawala': 6138, 'sakin': 6139, 'breath': 6140, 'mommi': 6141, 'misti': 6142, 'swamsewak': 6143, 'multi': 6144, 'reckless': 6145, 'cleanup': 6146, 'jayan': 6147, 'jakhm': 6148, 'tum': 6149, 'chale': 6150, 'gye': 6151, 'ghill': 6152, 'tul': 6153, 'xusca': 6154, 'sole': 6155, 'entic': 6156, 'smack': 6157, 'titan': 6158, '2022': 6159, 'hockey': 6160, 'briefli': 6161, 'bangalorean': 6162, 'prabha': 6163, 'joy': 6164, 'dharma': 6165, 'peddl': 6166, 'anthod': 6167, 'savag': 6168, 'ethnocentr': 6169, 'ioc': 6170, 'guarat': 6171, 'doorstep': 6172, 'vagina': 6173, 'outta': 6174, '3day': 6175, 'mumbaikar': 6176, 'beggar': 6177, 'fuller': 6178, 'mah': 6179, 'pcs': 6180, 'shambl': 6181, 'buck': 6182, 'bull': 6183, 'joni': 6184, 'mitchel': 6185, 'racial': 6186, 'gender': 6187, 'backlash': 6188, 'nazi': 6189, 'reap': 6190, 'sow': 6191, 'fold': 6192, 'meetup': 6193, 'bjp4tamilnadu': 6194, 'isupportnamo': 6195, 'aaptard': 6196, 'primeminist': 6197, 'yep': 6198, 'pigeon': 6199, 'graze': 6200, 'stare': 6201, 'smdh': 6202, 'grave': 6203, 'migrat': 6204, 'fseci': 6205, 'xiaomi': 6206, 'registr': 6207, 'jeeper': 6208, 'bff': 6209, 'mornin': 6210, 'persever': 6211, 'upsid': 6212, 'altitud': 6213, 'garbag': 6214, 'vile': 6215, 'anjan': 6216, 'selena': 6217, 'sacramento': 6218, 'daddi': 6219, 'briefcas': 6220, 'anothr': 6221, 'logic': 6222, 'challngd': 6223, 'gutter': 6224, 'vermin': 6225, 'scrum': 6226, 'giz': 6227, 'melani': 6228, 'af': 6229, 'trustworthi': 6230, 'avenu': 6231, 'comrad': 6232, 'cambodia': 6233, 'threre': 6234, 'islampur': 6235, 'jeremiah10': 6236, 'trembl': 6237, 'overdos': 6238, 'escort': 6239, '13th': 6240, 'centu': 6241, 'metropoli': 6242, 'unfollow': 6243, 'chaplainci': 6244, 'denier': 6245, 'nanni': 6246, '450mill': 6247, 'anzac': 6248, 'commemtn': 6249, '5mill': 6250, 'lnp': 6251, 'sux': 6252, 'comprehend': 6253, 'rend': 6254, 'hlpg': 6255, 'dfr': 6256, 'acceler': 6257, 'technic': 6258, 'prez': 6259, 'peool': 6260, 'tend': 6261, 'unattend': 6262, 'sumbodi': 6263, 'ditri': 6264, 'trick': 6265, 'sacr': 6266, 'kalyanidevi': 6267, 'competit': 6268, 'def': 6269, 'dijou': 6270, 'fatma': 6271, 'englush': 6272, 'muffin': 6273, 'elections2014': 6274, 'civilis': 6275, 'wisher': 6276, 'reward': 6277, 'align': 6278, 'pet': 6279, 'dya': 6280, 'jathmandu': 6281, 'awww': 6282, 'lfb': 6283, 'unkind': 6284, 'mmel': 6285, 'ftet': 6286, 'fpray': 6287, 'nerd': 6288, 'foresight': 6289, 'solut': 6290, 'fathom': 6291, 'raini': 6292, 'carpet': 6293, 'seller': 6294, 'sketch': 6295, 'percent': 6296, 'moor': 6297, 'convict': 6298, 'stab': 6299, 'arvind': 6300, 'cheat': 6301, 'pff': 6302, 'constant': 6303, 'cdo': 6304, 'mushuc': 6305, 'runa': 6306, 'jare': 6307, 'leto': 6308, 'noticia': 6309, 'genius': 6310, 'motherland': 6311, 'aam': 6312, 'aadmi': 6313, 'harind': 6314, 'placement': 6315, 'tow': 6316, 'bizarr': 6317, 'ure': 6318, 'potenti': 6319, 'eefit': 6320, 'dissemin': 6321, 'tweep': 6322, 'descend': 6323, 'botox': 6324, 'reverber': 6325, 'latitud': 6326, 'firemen': 6327, 'garden': 6328, 'slab': 6329, 'fenc': 6330, 'pave': 6331, 'shag': 6332, 'wive': 6333, 'intercess': 6334, 'perth': 6335, 'beltway': 6336, 'approv': 6337, 'offens': 6338, 'morsi': 6339, 'sentenc': 6340, 'reqwest': 6341, 'outgo': 6342, 'congressi': 6343, 'rpt': 6344, 'adhikari': 6345, 'austrian': 6346, 'alexand': 6347, 'fanta': 6348, 'waterborn': 6349, 'ambessi': 6350, 'transact': 6351, 'usu': 6352, 'parliamentarian': 6353, 'wahatev': 6354, 'happend': 6355, 'discourag': 6356, 'sword': 6357, 'turnout': 6358, 'regardless': 6359, 'abu': 6360, 'bakr': 6361, 'baghdadi': 6362, 'anurag': 6363, 'thakur': 6364, 'humen': 6365, 'spoil': 6366, 'onkey': 6367, 'shipper': 6368, 'pinoy': 6369, 'yorumsuz': 6370, 'russel': 6371, 'nnpc': 6372, 'afghanistan': 6373, 'sns': 6374, 'stan': 6375, 'wetter': 6376, 'bing': 6377, 'raga': 6378, 'joyk999': 6379, 'rtfrozbyt': 6380, 'bravest': 6381, 'thankx': 6382, 'worldaapney': 6383, 'jo': 6384, 'ushkay': 6385, 'hmey': 6386, 'rha': 6387, 'aaaand': 6388, 'shaheen': 6389, 'chughtai': 6390, 'whip': 6391, 'divers': 6392, 'kejriw': 6393, 'nahin': 6394, 'sakt': 6395, 'youuu': 6396, 'unanim': 6397, 'venkaiah': 6398, 'naidu': 6399, 'fil': 6400, 'evrybdi': 6401, 'infct': 6402, 'worrid': 6403, 'luk': 6404, 'instabl': 6405, 'deutsch': 6406, 'thak': 6407, 'peopel': 6408, '730am': 6409, 'usc': 6410, 'pune': 6411, 'handicap': 6412, 'latt': 6413, 'yaaaaap': 6414, 'khatmundu': 6415, 'rohomot': 6416, 'halat': 6417, 'thik': 6418, 'nehi': 6419, 'wrk': 6420, 'dne': 6421, 'adpt': 6422, 'chldrn': 6423, 'pepl': 6424, 'mdia': 6425, 'psudo': 6426, 'scular': 6427, 'wudnt': 6428, 'intrstd': 6429, 'bj': 6430, 'tit': 6431, 'conflict': 6432, 'ideal': 6433, 'hanna': 6434, 'imo': 6435, 'niki': 6436, 'illog': 6437, 'mmmmm': 6438, 'hmmmm': 6439, 'thrill': 6440, 'tp': 6441, 'mh': 6442, 'convo': 6443, 'dup': 6444, 'mbe': 6445, 'hurrican': 6446, 'katrina': 6447, 'knight': 6448, '4it': 6449, 'unless': 6450, 'presum': 6451, 'nutjob': 6452, 'ate': 6453, 'connexion': 6454, 'maam': 6455, 'context': 6456, 'diplomat': 6457, 'blogger': 6458, 'wouldv': 6459, 'shoplift': 6460, 'loo': 6461, 'chocol': 6462, 'glue': 6463, 'elder': 6464, 'confer': 6465, 'holocaust': 6466, 'armedforc': 6467, 'withot': 6468, 'uniform': 6469, '6mm': 6470, 'buddhism': 6471, 'japa': 6472, 'mala': 6473, 'bracelet': 6474, '216': 6475, 'jewelri': 6476, 'gwaan': 6477, 'insinu': 6478, 'sujan': 6479, 'vid': 6480, 'bcz': 6481, 'toddler': 6482, 'skepticat': 6483, 'amel': 6484, 'stall': 6485, 'pulfer': 6486, 'zogali': 6487, 'sport': 6488, 'ding': 6489, 'healthcar': 6490, 'sleev': 6491, 'size': 6492, 'ebay': 6493, 'pickl': 6494, 'rachael': 6495, 'turquois': 6496, 'coral': 6497, 'leaf': 6498, 'dangl': 6499, 'earring': 6500, 'goldstein': 6501, 'savior': 6502, 'ora': 6503, 'pai': 6504, 'que': 6505, 'necesita': 6506, 'tus': 6507, 'oracion': 6508, 'contri': 6509, 'yeman': 6510, 'accur': 6511, '2305': 6512, 'longest': 6513, 'thumb': 6514, 'zoom': 6515, 'clearer': 6516, 'greatergood': 6517, 'monitorwhi': 6518, 'mini': 6519, 'clip': 6520, 'exploit': 6521, 'britishmonarchi': 6522, 'provis': 6523, 'obscen': 6524, 'punch': 6525, 'attract': 6526, '300million': 6527, 'starv': 6528, 'sweetest': 6529, 'crumpet': 6530, 'presstitud': 6531, 'episod': 6532, 'brann': 6533, 'gasa': 6534, 'insurmount': 6535, 'shoke': 6536, 'boot': 6537, '1974': 6538, 'asarphi': 6539, 'gold': 6540, 'ngc': 6541, 'pf': 6542, '69': 6543, 'ultra': 6544, 'cameo': 6545, 'ledc': 6546, 'trends247': 6547, '2402': 6548, 'clockwork': 6549, 'sweeti': 6550, '986': 6551, '192': 6552, 'dull': 6553, 'maker': 6554, 'pell': 6555, 'prayr': 6556, 'mediaperson': 6557, 'crow': 6558, '70008': 6559, 'roar': 6560, 'midnight': 6561, 'bulletin': 6562, 'cognit': 6563, 'disson': 6564, 'dot': 6565, 'aww': 6566, 'maashaallah': 6567, 'defend': 6568, 'bewild': 6569, 'imbecil': 6570, 'hs': 6571, 'khalili': 6572, 'grip': 6573, 'enthusiast': 6574, 'paleo': 6575, 'naturopath': 6576, 'motorcycl': 6577, 'oma': 6578, 'musician': 6579, 'cola': 6580, '6th': 6581, 'qod': 6582, 'pangaea': 6583, 'farther': 6584, 'racism': 6585, 'ned': 6586, '500o': 6587, 'bpmitw': 6588, '2015pt6': 6589, 'chloe': 6590, 'backlit': 6591, 'midst': 6592, 'undef': 6593, 'sophiabush': 6594, 'tazmanian': 6595, 'revolt': 6596, 'thali': 6597, 'agl': 6598, 'mahin': 6599, 'tak': 6600, 'bheji': 6601, 'jaay': 6602, 'hazar': 6603, 'captain': 6604, 'crystal': 6605, 'spald': 6606, 'jake': 6607, 'whyle': 6608, 'abolish': 6609, 'nativ': 6610, 'monarchi': 6611, 'groovermac': 6612, 'creation': 6613, '593019974848892928': 6614, '592068328476127233': 6615, '592668266755162112': 6616, '592688320003645440': 6617, '72hrs': 6618, '592617183198347264': 6619, 'deliber': 6620, '592589412451614720': 6621, '593206868320735232': 6622, '593186145296523264': 6623, 'salam': 6624, 'alaikum': 6625, 'dosto': 6626, 'pride': 6627, 'agreement': 6628, 'thestarmobil': 6629, 'sumtim': 6630, 'bravaaa': 6631, 'bravaa': 6632, 'dahil': 6633, 'matulongin': 6634, 'chees': 6635, 'sunshin': 6636, 'leverag': 6637, 'thnk': 6638, 'elf': 6639, '1999': 6640, 'dale': 6641, 'warland': 6642, 'sparrow': 6643, 'shade': 6644, 'lipstick': 6645, 'dirt': 6646, 'sneaker': 6647, 'happiest': 6648, 'millionair': 6649, 'vacat': 6650, 'patholog': 6651, 'defici': 6652, 'impot': 6653, 'mott': 6654, 'yll': 6655, 'att': 6656, 'qhat': 6657, 'narur': 6658, 'cpray': 6659, 'anahi': 6660, 'immort': 6661, 'loneli': 6662, 'heartwrench': 6663, 'intvu': 6664, 'alina': 6665, 'arrestd': 6666, 'dawa': 6667, 'deviat': 6668, 'viral': 6669, 'senseless': 6670, 'ceas': 6671, 'layer': 6672, 'dreami': 6673, 'ceil': 6674, 'peshawar': 6675, 'kenyan': 6676, 'nauseous': 6677, 'cyr234': 6678, 'worldvisionusa': 6679, 'vancouv': 6680, 'surrey': 6681, 'hve': 6682, 'upto': 6683, 'neta': 6684, 'nethop': 6685, 'environ': 6686, 'lamb': 6687, 'coup': 6688, 'urdu': 6689, 'lahor': 6690, 'vil': 6691, 'lewi': 6692, 'imperil': 6693, 'infant': 6694, 'wre': 6695, 'xd': 6696, 'nj': 6697, 'iswar': 6698, 'sabhi': 6699, 'racha': 6700, 'kare': 6701, 'nepolian': 6702, 'mex': 6703, 'pushupatinath': 6704, 'sanctiti': 6705, 'earthqukkkk': 6706, 'kundadixit': 6707, 'mainten': 6708, 'wordle': 6709, 'craaft': 6710, 'oecd': 6711, 'nehru': 6712, 'buffer': 6713, 'dezast': 6714, 'fullfil': 6715, 'sharpli': 6716, 'tranni': 6717, 'submit': 6718, 'musicard': 6719, 'reham': 6720, 'armageddon': 6721, 'speech': 6722, 'mrg': 6723, 'gosaikunda': 6724, 'lake': 6725, 'hair': 6726, 'johanna': 6727, 'bohlen': 6728, 'stonehous': 6729, 'wapo': 6730, 'gentleman': 6731, 'sober': 6732, 'alz': 6733, 'idoit': 6734, 'kanwal': 6735, 'fume': 6736, 'dodo': 6737, 'samira': 6738, 'mustv': 6739, 'inspratn': 6740, 'vishnu': 6741, 'kathmandufor': 6742, 'stric': 6743, 'corner': 6744, 'pavement': 6745, 'imbib': 6746, 'christin': 6747, 'lagard': 6748, 'bravodo': 6749, 'dcoupl': 6750, 'needless': 6751, 'craft': 6752, 'valli': 6753, 'http': 6754, 'ly': 6755, '1irhnn6': 6756, 'shelterless': 6757, 'metal': 6758, 'pendant': 6759, '80yr': 6760, 'prescript': 6761, 'browni': 6762, 'besti': 6763, 'beep': 6764, '21st': 6765, 'im4u4evrchitti': 6766, 'internaton': 6767, 'tix': 6768, 'legend': 6769, 'cbc': 6770, 'poctur': 6771, 'mileag': 6772, 'witch': 6773, 'terrorist': 6774, 'guarante': 6775, 'tauba': 6776, '4x4': 6777, 'bb': 6778, 'torn': 6779, 'stranger': 6780, 'unreal': 6781, 'wreak': 6782, 'wrap': 6783, 'wy': 6784, 'jeanni': 6785, 'hartley': 6786, 'thapapratistha': 6787, 'torchlight': 6788, 'illumin': 6789, 'nyatapola': 6790, 'dreamt': 6791, 'sandwich': 6792, 'reconnaiss': 6793, 'passov': 6794, 'saudi': 6795, 'incident': 6796, 'inkl': 6797, 'yield': 6798, 'reclaim': 6799, 'encroach': 6800, 'barren': 6801, 'euro': 6802, 'commndbl': 6803, 'rspnsibil': 6804, '2stnd': 6805, 'frmrs': 6806, 'sprint': 6807, 'suckla': 6808, 'wa': 6809, 'cecili': 6810, 'outbreak': 6811, 'trst': 6812, 'evrythng': 6813, 'advertis': 6814, 'ala': 6815, 'fed': 6816, 'ayurv': 6817, 'drought': 6818, 'landscap': 6819, 'interfer': 6820, '150km': 6821, 'mainshock': 6822, 'length': 6823, 'teringat': 6824, 'dekat': 6825, 'karna': 6826, 'proclaim': 6827, 'quay': 6828, 'shoulda': 6829, 'equat': 6830, 'relationshp': 6831, 'texa': 6832, 'wesleyan': 6833, 'prof': 6834, 'terrac': 6835, 'byrn': 6836, 'flodd': 6837, '4fav': 6838, 'immatur': 6839, '7from': 6840, 'brainless': 6841, 'ulterior': 6842, 'fairi': 6843, 'reckon': 6844, 'bhagavadgita': 6845, 'assum': 6846, '117': 6847, '964': 6848, 'achyutluitel': 6849, 'causalti': 6850, 'bound': 6851, 'micheal': 6852, 'idgaf': 6853, 'magni': 6854, 'tmrw': 6855, 'tiki': 6856, 'thai': 6857, 'syrup': 6858, 'bliss': 6859, 'peaopl': 6860, 'stfu': 6861, 'howwwww': 6862, 'sana': 6863, '2she': 6864, 'charact': 6865, 'hepe': 6866, 'wild': 6867, 'landon': 6868, 'chapman': 6869, 'doom': 6870, 'blackday': 6871, 'doin': 6872, 'realest': 6873, 'airasia': 6874, 'dump': 6875, 'pompous': 6876, 'gaseous': 6877, 'parochi': 6878, 'toism': 6879, 'owner': 6880, 'ordinari': 6881, 'thro': 6882, 'unnot': 6883, 'begusarai': 6884, 'loksabha': 6885, 'grievanc': 6886, 'dube': 6887, 'madiba': 6888, 'bttc': 6889, 'saki': 6890, '6to8on': 6891, 'reactor': 6892, 'over6in': 6893, 'typhoon': 6894, 'overdu': 6895, 'nythin': 6896, 'until': 6897, 'whatcha': 6898, 'camarillo': 6899, 'dentist': 6900, 'kuwait': 6901, 'nris': 6902, 'puls': 6903, 'clap': 6904, 'liverpool': 6905, 'ftblsk1': 6906, 'ftblsk2': 6907, 'quantit': 6908, 'archan': 6909, 'koodo': 6910, 'yike': 6911, 'tmus': 6912, 'prentic': 6913, '50time': 6914, '2time': 6915, 'permis': 6916, 'praper': 6917, 'fro': 6918, 'carrera': 6919, 'loca': 6920, 'offroad': 6921, 'tu': 6922, 'android': 6923, 'hardship': 6924, 'dtn': 6925, 'cd': 6926, 'baptism': 6927, 'prevail': 6928, 'karmic': 6929, 'sacrific': 6930, 'sundown': 6931, 'mandya': 6932, '2009': 6933, 'aveng': 6934, 'ultron': 6935, 'yaman': 6936, 'babri': 6937, 'masjid': 6938, 'demolit': 6939, 'retali': 6940, 'homeopathi': 6941, 'liar': 6942, 'flog': 6943, 'louisiana': 6944, 'gadhimai': 6945, 'festiv': 6946, 'insist': 6947, 'statist': 6948, 'lauri': 6949, 'gerhardt': 6950, 'butcher': 6951, 'rasuwagadhi': 6952, 'vietnames': 6953, 'kyle': 6954, 'walker': 6955, 'kris': 6956, 'humphri': 6957, 'portal': 6958, 'cycl': 6959, 'felix': 6960, 'ep': 6961, 'wellb': 6962, 'harp': 6963, 'manchest': 6964, 'somerhald': 6965, 'knot': 6966, 'obey': 6967, 'rand': 6968, 'evolut': 6969, 'clas': 6970, 'appriciat': 6971, 'rebat': 6972, 'parasit': 6973, 'guard': 6974, 'lankan': 6975, 'bosir': 6976, 'barbara': 6977, 'handler': 6978, 'equack': 6979, '27n': 6980, '87e': 6981, '33s': 6982, '71n': 6983, 'coincid': 6984, 'clearanc': 6985, 'background': 6986, 'attach': 6987, 'besid': 6988, 'affirm': 6989, 'hallmark': 6990, 'devot': 6991, 'ukip': 6992, 'entertain': 6993, 'backyard': 6994, 'wendi': 6995, 'wu': 6996, 'holidaymak': 6997, 'holid': 6998, 'hatsoff': 6999, 'selima': 7000, 'selimasquot': 7001, 'marcokabirizi': 7002, 'weepi': 7003, 'thora': 7004, 'py': 7005, 'deehan': 7006, 'fayaz': 7007, 'chohan': 7008, 'capac': 7009, 'bls': 7010, 'vstd': 7011, 'nxt': 7012, 'pasupathi': 7013, 'opn': 7014, 'nmquak': 7015, 'jee': 7016, 'sarcasm': 7017, 'goddamn': 7018, 'tihar': 7019, '1705': 7020, 'heartquak': 7021, 'pukar': 7022, 'le': 7023, 'glen': 7024, 'nigger': 7025, 'matrey': 7026, 'stamina': 7027, 'kp': 7028, 'zamii': 7029, 'ndoz': 7030, 'hindi': 7031, 'chnls': 7032, 'munhadim': 7033, '4this': 7034, 'kia': 7035, 'kaha': 7036, 'sophia': 7037, 'yan': 7038, 'ih': 7039, 'crril': 7040, '593221426804428800': 7041, '592694880159277056': 7042, '592167862833262592': 7043, '592746366738243585': 7044, 'ultim': 7045, 'gym': 7046, '592626953473171456': 7047, '592590458427084800': 7048, '592689562293575681': 7049, 'congratul': 7050, 'pfa': 7051, '592785559849967616': 7052, '592720452138721281': 7053, 'nsss': 7054, '591993923582627840': 7055, '592800174189256704': 7056, '592620606949986304': 7057, '593211168358993920': 7058, 'kailash': 7059, 'parbat': 7060, '592963614530605056': 7061, '591994400969916417': 7062, 'perumai': 7063, '592708114140536834': 7064, 'forev': 7065, 'gaurd': 7066, 'fickl': 7067, 'shikhara': 7068, 'juli': 7069, '201': 7070, 'devoid': 7071, 'probelm': 7072, 'fex': 7073, 'chernobyl': 7074, 'wand': 7075, 'encompass': 7076, '1d': 7077, 'earthquakwh': 7078, 'literatur': 7079, 'scroggin': 7080, 'eugen': 7081, 'tweeter': 7082, 'iam': 7083, 'undermin': 7084, 'amigo': 7085, 'cramatictravel': 7086, 'tala': 7087, 'investig': 7088, 'billionair': 7089, 'janet': 7090, 'parshal': 7091, 'saeed': 7092, 'abedini': 7093, 'yushu': 7094, 'lowest': 7095, 'argument': 7096, 'vip': 7097, 'znew': 7098, 'ajooba': 7099, 'setmax': 7100, 'sooryavansham': 7101, 'piti': 7102, 'koban': 7103, 'mohammad': 7104, 'companion': 7105, 'prophet': 7106, 'season': 7107, 'maneuv': 7108, 'sympathis': 7109, 'jess': 7110, 'sift': 7111, 'survivo': 7112, '592947275116056576': 7113, 'plant': 7114, '592735563695988737': 7115, 'newsread': 7116, '592894616027975681': 7117, '592883475923005440': 7118, '592740221378232323': 7119, '592201012238135296': 7120, '592594878741155840': 7121, '592680375459151872': 7122, '592753217278255104': 7123, 'ubergizmo': 7124, '592976886009044992': 7125, '593039695262658562': 7126, 'iwu': 7127, 'alum': 7128, '592966933017980928': 7129, 'diosesuno': 7130, '592588906954100736': 7131, 'comfi': 7132, '592913809372684288': 7133, 'ks': 7134, 'legislatur': 7135, 'vrischik': 7136, 'rashi': 7137, 'sadesati': 7138, 'vrishchik': 7139, 'shiver': 7140, 'esp': 7141, 'nandhi108': 7142, 'fave': 7143, 'xxxxx': 7144, '000000': 7145, 'rollercoast': 7146, 'ride': 7147, 'nervous': 7148, 'yatha': 7149, 'tatha': 7150, '5am': 7151, 'realclear': 7152, 'roundup': 7153, 'tahrir': 7154, 'satyagraha': 7155, 'surg': 7156, 'thulosiruwari': 7157, 'ahmedabad': 7158, 'weep': 7159, 'scientif': 7160, 'quack': 7161, 'novic': 7162, 'bodhgaya': 7163, 'sailor': 7164, 'elit': 7165, 'roman': 7166, 'cathol': 7167, 'chat': 7168, 'sitter': 7169, 'europ': 7170, 'bam': 7171, 'ent': 7172, 'flame': 7173, 'wackysplus': 7174, 'bhabhi': 7175, 'tatopani': 7176, 'cyber': 7177, 'polici': 7178, 'bulgar': 7179, 'humanrightslaw': 7180, 'anubhavdtiwari': 7181, 'evry1': 7182, 'spatial': 7183, 'devic': 7184, 'shelley': 7185, 'dilig': 7186, 'sivana': 7187, 'mrng': 7188, 'tweetosss': 7189, 'melt': 7190, 'drastic': 7191, 'plzrt': 7192, 'nein': 7193, 'gott': 7194, 'krk': 7195, 'burundi': 7196, 'overheard': 7197, 'umm': 7198, 'spell': 7199, '1superstar': 7200, 'rochell': 7201, 'insult': 7202, 'scourg': 7203, 'quarrel': 7204, 'bishan': 7205, 'bedi': 7206, 'nth': 7207, 'mid': 7208, '2011': 7209, 'duringaftershock': 7210, 'kaku': 7211, 'holli': 7212, 'method': 7213, '5th': 7214, 'editori': 7215, 'fleec': 7216, 'haitai': 7217, 'q': 7218, 'orlean': 7219, 'somehow': 7220, 'airway': 7221, 'holmfirth': 7222, 'mediterranean': 7223, 'nonstop': 7224, 'biz': 7225, 'petrochina': 7226, 'aerospac': 7227, 'dawood': 7228, 'kanchan': 7229, 'ss': 7230, 'burst': 7231, 'belgian': 7232, 'horrah': 7233, '4pm': 7234, 'est': 7235, 'massacr': 7236, 'ahem': 7237, 'fate': 7238, 'parker': 7239, 'curious': 7240, 'simultan': 7241, 'kashimri': 7242, 'capitol': 7243, 'bob': 7244, 'seger': 7245, 'gibson': 7246, 'acct': 7247, 'famin': 7248, 'style': 7249, 'stephen': 7250, 'warner': 7251, 'huffoto': 7252, 'someday': 7253, 'lmk': 7254, 'sas': 7255, 'ola': 7256, 'meant': 7257, 'sensit': 7258, 'heartiest': 7259, 'frds': 7260, 'regram': 7261, 'atif': 7262, 'cme': 7263, 'ystdi': 7264, 'fel': 7265, 'regrt': 7266, 'reunion': 7267, 'nobl': 7268, 'dhaatha': 7269, 'sukhi': 7270, 'bhave': 7271, 'isabel': 7272, 'avers': 7273, 'amt': 7274, 'jave': 7275, 'stapl': 7276, 'diet': 7277, 'syrian': 7278, 'unavoid': 7279, 'distinct': 7280, 'wide': 7281, 'quota': 7282, 'canteen': 7283, 'tahiti': 7284, 'rugbi': 7285, 'succinct': 7286, 'hrw': 7287, 'blade': 7288, 'nzimand': 7289, 'vicitim': 7290, 'haya': 7291, '7900': 7292, 'ventur': 7293, '3350': 7294, 'nincompoop': 7295, 'scan': 7296, '12hrs': 7297, 'heel': 7298, 'brauti': 7299, 'broad': 7300, 'wvu': 7301, 'pimp': 7302, 'beaten': 7303, 'alpha': 7304, 'seal': 7305, 'dislik': 7306, 'birth': 7307, 'poperi': 7308, 'slaveri': 7309, 'geoffrey': 7310, 'robertson': 7311, 'isili': 7312, 'ink': 7313, 'jais': 7314, 'chaman': 7315, 'gaa': 7316, 'rahe': 7317, 'youd': 7318, 'cuti': 7319, 'absurd': 7320, '65m': 7321, 'ugli': 7322, 'feminist': 7323, 'memb': 7324, 'surd': 7325, 'bukhari': 7326, 'yourt': 7327, 'fren': 7328, 'tyhi': 7329, 'reli': 7330, 'jame': 7331, 'bec': 7332, 'pot': 7333, 'cruz': 7334, 'shtf': 7335, 'ring': 7336, 'hollow': 7337, 'intuit': 7338, 'benmark': 7339, 'magento': 7340, 'mc': 7341, 'administr': 7342, 'flit': 7343, '6am': 7344, 'lrt': 7345, 'blubber': 7346, 'buffalo': 7347, '862': 7348, 'situatuon': 7349, 'dharamsala': 7350, 'js': 7351, 'basel': 7352, '4rm': 7353, 'itahari': 7354, 'regul': 7355, 'collegu': 7356, 'gca': 7357, 'rohan': 7358, 'ranveerian': 7359, 'mounira': 7360, 'feckin': 7361, 'homeland': 7362, 'shelbi': 7363, 'sytnyk': 7364, 'gaga': 7365, 'unwant': 7366, 'clan': 7367, 'lighten': 7368, 'epi': 7369, 'pragya': 7370, 'bhilwara': 7371, 'rajasthan': 7372, 'regverdig': 7373, 'probe': 7374, 'unifi': 7375, 'communist': 7376, 'januari': 7377, 'clever': 7378, 'airtim': 7379, 'neglig': 7380, 'erin': 7381, 'becki': 7382, 'prsl': 7383, 'neci': 7384, 'crime': 7385, 'aaa': 7386, 'lou': 7387, 'smth': 7388, 'allwer': 7389, 'erthquak': 7390, 'smallhand': 7391, 'rubina': 7392, 'blgs': 7393, 'outdid': 7394, 'becam': 7395, 'remitt': 7396, 'democraci': 7397, 'lectur': 7398, 'outdat': 7399, 'meerkat': 7400, 'devest': 7401, 'commissioningavail': 7402, 'simpli': 7403, 'madrid': 7404, 'almeria': 7405, 'todo': 7406, 'meaningless': 7407, 'josh': 7408, 'prather': 7409, 'himselv': 7410, 'piost': 7411, 'offoci': 7412, 'sap': 7413, 'mv': 7414, 'newsfe': 7415, 'dwindl': 7416, 'sheep': 7417, 'bootlick': 7418, 'stp': 7419, 'mislead': 7420, 'spur': 7421, 'herd': 7422, 'keshab': 7423, 'duh': 7424, 'fck': 7425, 'sifi': 7426, 'facil': 7427, 'indebt': 7428, 'dhanyabat': 7429, 'humankind': 7430, 'beilev': 7431, 'quran': 7432, 'deaf': 7433, 'fer': 7434, 'soozi': 7435, 'okkk': 7436, 'plzzz': 7437, 'pappu': 7438, 'votebank': 7439, 'shree': 7440, 'avant': 7441, 'thur': 7442, 'chan': 7443, 'daba': 7444, '4500': 7445, 'sand': 7446, 'whistl': 7447, 'egeland': 7448, 'lesli': 7449, 'heed': 7450, 'rethink': 7451, 'lovr': 7452, 'kotak': 7453, 'bono': 7454, 'youcom': 7455, 'avocado': 7456, 'wot': 7457, 'chutiya': 7458, 'netwrk': 7459, 'deshdrohi': 7460, 'pharrel': 7461, 'william': 7462, 'paradis': 7463, 'distruct': 7464, 'famali': 7465, 'crisp': 7466, 'how': 7467, 'lunat': 7468, 'slime': 7469, 'abraham': 7470, 'tast': 7471, 'resettl': 7472, '1billion': 7473, 'gid': 7474, 'laps': 7475, 'stomach': 7476, 'jamshedpur': 7477, 'goin': 7478, 'doha': 7479, 'pounc': 7480, 'greas': 7481, 'elbow': 7482, 'societ': 7483, 'sexism': 7484, '4seasonshotel': 7485, 'vortex': 7486, 'reliefl': 7487, 'frn': 7488, 'wherev': 7489, 'gointo': 7490, 'alacr': 7491, 'hatwat': 7492, 'volcan': 7493, 'ecuador': 7494, 'version': 7495, 'bagdadi': 7496, 'rieanavi': 7497, '913': 7498, 'embarrass': 7499, 'prosper': 7500, 'dose': 7501, 'prey': 7502, 'proselyt': 7503, 'matern': 7504, 'pacif': 7505, 'peop': 7506, 'repuls': 7507, 'absorb': 7508, 'bellend': 7509, 'abki': 7510, 'baar': 7511, 'fenku': 7512, '2024': 7513, 'unmask': 7514, 'dunno': 7515, 'empathi': 7516, 'hrt': 7517, 'prai': 7518, 'outcom': 7519, '1million': 7520, 'moss': 7521, 'amithabh': 7522, 'viabl': 7523, 'philanthropist': 7524, 'jatatatai': 7525, 'ashu': 7526, 'kolah': 7527, 'kalobajari': 7528, 'increasin': 7529, 'govnt': 7530, 'sirji': 7531, 'ef': 7532, 'indigen': 7533, 'depot': 7534, 'loew': 7535, 'jaihind': 7536, 'mccain': 7537, 'dslr': 7538, 'memcast': 7539, 'illustr': 7540, 'surrend': 7541, 'deadlin': 7542, 'hawaii': 7543, 'gm': 7544, 'spurn': 7545, 'governm': 7546, 'dalal': 7547, 'pseudo': 7548, '4310': 7549, 'manufactur': 7550, 'pearl': 7551, 'eldest': 7552, 'factoid': 7553, 'udupi': 7554, 'bhat': 7555, 'pashupathinath': 7556, 'yetchuri': 7557, 'indon': 7558, 'bump': 7559, 'rashtra': 7560, '352': 7561, 'springsteen': 7562, 'strategi': 7563, 'hetauda': 7564, '3726': 7565, 'patriot': 7566, 'readnewsfast': 7567, 'incorrig': 7568, 'rajdeep': 7569, 'shirim': 7570, 'hebrew': 7571, 'sung': 7572, 'cobi': 7573, 'koehl': 7574, 'suba': 7575, 'endors': 7576, 'duffi': 7577, 'kashechewan': 7578, 'fcked': 7579}\n"
          ]
        }
      ],
      "source": [
        "tokenizer.fit_on_texts(df_train.clean_text)\n",
        "word_index = tokenizer.word_index\n",
        "print(word_index)"
      ]
    },
    {
      "cell_type": "code",
      "execution_count": null,
      "metadata": {
        "colab": {
          "base_uri": "https://localhost:8080/"
        },
        "id": "IB_p-yBBVPsX",
        "outputId": "2ce62a4d-4a0f-475a-b1e8-3daa4af6d088"
      },
      "outputs": [
        {
          "output_type": "stream",
          "name": "stdout",
          "text": [
            "Vocabulary Size : 7580\n"
          ]
        }
      ],
      "source": [
        "vocab_size = len(tokenizer.word_index) + 1\n",
        "print(\"Vocabulary Size :\", vocab_size)"
      ]
    },
    {
      "cell_type": "code",
      "execution_count": null,
      "metadata": {
        "id": "5RvGIM02VPx8"
      },
      "outputs": [],
      "source": []
    },
    {
      "cell_type": "code",
      "execution_count": null,
      "metadata": {
        "id": "tluWZ2YpNj5q"
      },
      "outputs": [],
      "source": [
        "import tensorflow as tf\n",
        "from tensorflow.keras.layers import Embedding, Dense, LSTM\n",
        "from tensorflow.keras.losses import BinaryCrossentropy\n",
        "from tensorflow.keras.models import Sequential\n",
        "from tensorflow.keras.optimizers import Adam\n",
        "from tensorflow.keras.preprocessing.sequence import pad_sequences\n"
      ]
    },
    {
      "cell_type": "code",
      "execution_count": null,
      "metadata": {
        "id": "sPnXa63ybvTg"
      },
      "outputs": [],
      "source": [
        "from sklearn import model_selection, metrics, preprocessing, ensemble, model_selection, metrics\n",
        "from sklearn.feature_extraction.text import CountVectorizer\n",
        "import tensorflow as tf\n",
        "from tensorflow.keras.models import Model\n",
        "from tensorflow.keras.preprocessing.text import Tokenizer\n",
        "from tensorflow.keras.preprocessing.sequence import pad_sequences\n",
        "from tensorflow.keras.layers import Conv1D, Conv2D, Bidirectional, LSTM, Dense, Dropout, Input\n",
        "from tensorflow.keras.optimizers import Adam"
      ]
    },
    {
      "cell_type": "code",
      "execution_count": null,
      "metadata": {
        "id": "Gkyjs5zWPqQb"
      },
      "outputs": [],
      "source": [
        "X_train = df_train['clean_text']\n",
        "y_train = df_train['label']"
      ]
    },
    {
      "cell_type": "code",
      "execution_count": null,
      "metadata": {
        "id": "-TIBNuLtP2nv"
      },
      "outputs": [],
      "source": [
        "X_test = df_test['clean_text']\n",
        "y_test =df_test['label']"
      ]
    },
    {
      "cell_type": "markdown",
      "metadata": {
        "id": "dhv0x0SygA1U"
      },
      "source": [
        "# Glove Word Embedding"
      ]
    },
    {
      "cell_type": "code",
      "execution_count": null,
      "metadata": {
        "id": "5UnUg4KtiiHw"
      },
      "outputs": [],
      "source": [
        "path_to_glove_file = './glove.6B.300d.txt'\n",
        "embedding_dim = 300\n",
        "learning_rate = 0.01\n",
        "batch_size = 1024\n",
        "epochs = 10\n",
        "sequence_len = 100"
      ]
    },
    {
      "cell_type": "code",
      "execution_count": null,
      "metadata": {
        "colab": {
          "base_uri": "https://localhost:8080/"
        },
        "id": "SE4OW9aqiyTb",
        "outputId": "1044cdda-7c5f-43ea-bd2b-8039de791974"
      },
      "outputs": [
        {
          "output_type": "stream",
          "name": "stdout",
          "text": [
            "Training Y shape: (6892, 1)\n",
            "Testing Y shape: (3479, 1)\n"
          ]
        }
      ],
      "source": [
        "y_train_LSTM = y_train.values.reshape(-1,1)\n",
        "y_test_LSTM = y_test.values.reshape(-1,1)\n",
        "\n",
        "print(\"Training Y shape:\", y_train_LSTM.shape)\n",
        "print(\"Testing Y shape:\", y_test_LSTM.shape)"
      ]
    },
    {
      "cell_type": "code",
      "execution_count": null,
      "metadata": {
        "colab": {
          "base_uri": "https://localhost:8080/"
        },
        "id": "V27mpfgMjWSY",
        "outputId": "440691b8-2967-490d-f2d1-d7276bae831f"
      },
      "outputs": [
        {
          "output_type": "stream",
          "name": "stdout",
          "text": [
            "Vocabulary Size:  7580\n"
          ]
        }
      ],
      "source": [
        "# Tokenize train data\n",
        "tokenizer = Tokenizer()\n",
        "tokenizer.fit_on_texts(X_train)\n",
        "\n",
        "word_index = tokenizer.word_index\n",
        "vocab_size = len(word_index) + 1\n",
        "print(\"Vocabulary Size: \", vocab_size)"
      ]
    },
    {
      "cell_type": "code",
      "execution_count": null,
      "metadata": {
        "id": "9CCvSmuejbDM"
      },
      "outputs": [],
      "source": [
        "X_train = pad_sequences(tokenizer.texts_to_sequences(X_train), maxlen=sequence_len)\n",
        "X_test = pad_sequences(tokenizer.texts_to_sequences(X_test), maxlen=sequence_len)"
      ]
    },
    {
      "cell_type": "code",
      "execution_count": null,
      "metadata": {
        "colab": {
          "base_uri": "https://localhost:8080/"
        },
        "id": "AM3CAaL4i810",
        "outputId": "49a5d3d8-c014-452e-c744-69412676eb0a"
      },
      "outputs": [
        {
          "output_type": "stream",
          "name": "stdout",
          "text": [
            "Training X shape:  (6892, 100)\n",
            "Testing X shape:  (3479, 100)\n"
          ]
        }
      ],
      "source": [
        "print(\"Training X shape: \", X_train.shape)\n",
        "print(\"Testing X shape: \", X_test.shape)"
      ]
    },
    {
      "cell_type": "code",
      "execution_count": null,
      "metadata": {
        "colab": {
          "base_uri": "https://localhost:8080/"
        },
        "id": "S4cdJ7BKUFhO",
        "outputId": "6a83f8ed-bd28-4c16-d1fb-cda2b63e24e0"
      },
      "outputs": [
        {
          "output_type": "stream",
          "name": "stdout",
          "text": [
            "Found 18188 word vectors.\n"
          ]
        }
      ],
      "source": [
        "# Read word embeddings\n",
        "embeddings_index = {}\n",
        "with open(path_to_glove_file) as f:\n",
        "    for line in f:\n",
        "        word, coefs = line.split(maxsplit=1)\n",
        "        coefs = np.fromstring(coefs, \"f\", sep=\" \")\n",
        "        embeddings_index[word] = coefs\n",
        "\n",
        "print(\"Found %s word vectors.\" % len(embeddings_index))"
      ]
    },
    {
      "cell_type": "code",
      "execution_count": null,
      "metadata": {
        "id": "TRHf9vPukRSa"
      },
      "outputs": [],
      "source": [
        "# Define embedding layer in Keras\n",
        "embedding_matrix = np.zeros((vocab_size, embedding_dim))\n",
        "for word, i in word_index.items():\n",
        "    embedding_vector = embeddings_index.get(word)\n",
        "    if embedding_vector is not None:\n",
        "        embedding_matrix[i] = embedding_vector\n",
        "\n",
        "embedding_layer = tf.keras.layers.Embedding(vocab_size,\n",
        "                                            embedding_dim,\n",
        "                                            weights=[embedding_matrix],\n",
        "                                            input_length=sequence_len,\n",
        "                                            trainable=False)"
      ]
    },
    {
      "cell_type": "markdown",
      "metadata": {
        "id": "3u9umdzSPLoa"
      },
      "source": [
        "# *1. BLSTM*"
      ]
    },
    {
      "cell_type": "code",
      "execution_count": null,
      "metadata": {
        "colab": {
          "base_uri": "https://localhost:8080/"
        },
        "id": "TL3owj3ubjf1",
        "outputId": "985ee99f-4d6c-47e3-f2a6-f680c3f719f3"
      },
      "outputs": [
        {
          "output_type": "stream",
          "name": "stdout",
          "text": [
            "Model: \"model_4\"\n",
            "_________________________________________________________________\n",
            " Layer (type)                Output Shape              Param #   \n",
            "=================================================================\n",
            " input_2 (InputLayer)        [(None, 100)]             0         \n",
            "                                                                 \n",
            " embedding (Embedding)       (None, 100, 300)          2274000   \n",
            "                                                                 \n",
            " conv1d_8 (Conv1D)           (None, 96, 128)           192128    \n",
            "                                                                 \n",
            " bidirectional_1 (Bidirectio  (None, 256)              263168    \n",
            " nal)                                                            \n",
            "                                                                 \n",
            " dense_8 (Dense)             (None, 512)               131584    \n",
            "                                                                 \n",
            " dropout_3 (Dropout)         (None, 512)               0         \n",
            "                                                                 \n",
            " dropout_4 (Dropout)         (None, 512)               0         \n",
            "                                                                 \n",
            " dense_9 (Dense)             (None, 512)               262656    \n",
            "                                                                 \n",
            " dense_10 (Dense)            (None, 1)                 513       \n",
            "                                                                 \n",
            "=================================================================\n",
            "Total params: 3,124,049\n",
            "Trainable params: 850,049\n",
            "Non-trainable params: 2,274,000\n",
            "_________________________________________________________________\n"
          ]
        }
      ],
      "source": [
        "sequence_input = Input(shape=(sequence_len, ), dtype='int32')\n",
        "embedding_sequences = embedding_layer(sequence_input)\n",
        "\n",
        "x = Conv1D(128, 5, activation='relu')(embedding_sequences)\n",
        "x = Bidirectional(LSTM(128, dropout=0.5, recurrent_dropout=0.2))(x)\n",
        "x = Dense(512, activation='relu')(x)\n",
        "x = Dropout(0.5)(x)\n",
        "x = Dense(512, activation='relu')(x)\n",
        "outputs = Dense(1, activation='sigmoid')(x)\n",
        "model = Model(sequence_input, outputs)\n",
        "model.summary()"
      ]
    },
    {
      "cell_type": "code",
      "execution_count": null,
      "metadata": {
        "id": "rPoB1NxSbjj1"
      },
      "outputs": [],
      "source": [
        "# Optimize the model\n",
        "model.compile(optimizer=Adam(learning_rate=learning_rate), loss='binary_crossentropy', metrics=['accuracy'])"
      ]
    },
    {
      "cell_type": "code",
      "execution_count": null,
      "metadata": {
        "colab": {
          "base_uri": "https://localhost:8080/"
        },
        "id": "jLt7AygQrNlw",
        "outputId": "c01d2e77-5736-4438-dd8f-180ee8babd16"
      },
      "outputs": [
        {
          "output_type": "stream",
          "name": "stdout",
          "text": [
            "Epoch 1/10\n",
            "7/7 [==============================] - 73s 10s/step - loss: 1.0998 - accuracy: 0.4929 - val_loss: 0.6889 - val_accuracy: 0.5297\n",
            "Epoch 2/10\n",
            "7/7 [==============================] - 64s 9s/step - loss: 0.6800 - accuracy: 0.5223 - val_loss: 0.6611 - val_accuracy: 0.5297\n",
            "Epoch 3/10\n",
            "7/7 [==============================] - 63s 9s/step - loss: 0.6660 - accuracy: 0.5228 - val_loss: 0.6501 - val_accuracy: 0.5297\n",
            "Epoch 4/10\n",
            "7/7 [==============================] - 65s 9s/step - loss: 0.6504 - accuracy: 0.5691 - val_loss: 0.6428 - val_accuracy: 0.6579\n",
            "Epoch 5/10\n",
            "7/7 [==============================] - 64s 9s/step - loss: 0.6361 - accuracy: 0.6647 - val_loss: 0.6233 - val_accuracy: 0.6654\n",
            "Epoch 6/10\n",
            "7/7 [==============================] - 67s 10s/step - loss: 0.6133 - accuracy: 0.6734 - val_loss: 0.6141 - val_accuracy: 0.6761\n",
            "Epoch 7/10\n",
            "7/7 [==============================] - 64s 9s/step - loss: 0.5959 - accuracy: 0.6891 - val_loss: 0.6098 - val_accuracy: 0.6712\n",
            "Epoch 8/10\n",
            "7/7 [==============================] - 64s 9s/step - loss: 0.5764 - accuracy: 0.7053 - val_loss: 0.6028 - val_accuracy: 0.6809\n",
            "Epoch 9/10\n",
            "7/7 [==============================] - 64s 9s/step - loss: 0.5449 - accuracy: 0.7284 - val_loss: 0.6085 - val_accuracy: 0.6841\n",
            "Epoch 10/10\n",
            "7/7 [==============================] - 64s 9s/step - loss: 0.5226 - accuracy: 0.7382 - val_loss: 0.6289 - val_accuracy: 0.6660\n"
          ]
        }
      ],
      "source": [
        "history = model.fit(X_train,\n",
        "                    y_train,\n",
        "                    batch_size=batch_size,\n",
        "                    epochs=epochs,\n",
        "                    validation_data=(X_test, y_test))"
      ]
    },
    {
      "cell_type": "code",
      "execution_count": null,
      "metadata": {
        "id": "NLJE_MXEaa-6"
      },
      "outputs": [],
      "source": [
        "import matplotlib.pyplot as plt\n",
        "import seaborn as sns"
      ]
    },
    {
      "cell_type": "code",
      "execution_count": null,
      "metadata": {
        "colab": {
          "base_uri": "https://localhost:8080/",
          "height": 294
        },
        "id": "P8TC08rRrTl9",
        "outputId": "12c2badd-c53d-4a64-be06-aad88ba88cdc"
      },
      "outputs": [
        {
          "output_type": "display_data",
          "data": {
            "text/plain": [
              "<Figure size 720x288 with 1 Axes>"
            ],
            "image/png": "[encoded data removed]"
          },
          "metadata": {
            "needs_background": "light"
          }
        }
      ],
      "source": [
        "accuraties = history.history['accuracy']\n",
        "losses = history.history['loss']\n",
        "accuraties_losses = list(zip(accuraties,losses))\n",
        "\n",
        "accuraties_losses_df = pd.DataFrame(accuraties_losses, columns={\"accuraties\", \"losses\"})\n",
        "\n",
        "plt.figure(figsize=(10,4))\n",
        "plt.suptitle(\"Train Accuracy vs Train Loss\")\n",
        "sns.lineplot(data=accuraties_losses_df)\n",
        "plt.show()"
      ]
    },
    {
      "cell_type": "code",
      "execution_count": null,
      "metadata": {
        "colab": {
          "base_uri": "https://localhost:8080/"
        },
        "id": "PaIO_oxUbjnB",
        "outputId": "c67eb92f-96fd-4f68-c81b-9c5e11cbe297"
      },
      "outputs": [
        {
          "output_type": "stream",
          "name": "stdout",
          "text": [
            "1/1 [==============================] - 8s 8s/step\n",
            "1/1 [==============================] - 11s 11s/step - loss: 0.6289 - accuracy: 0.6660\n",
            "Test Accuracy:  0.6659959554672241\n",
            "              precision    recall  f1-score   support\n",
            "\n",
            "           0       0.65      0.81      0.72      1843\n",
            "           1       0.70      0.50      0.59      1636\n",
            "\n",
            "    accuracy                           0.67      3479\n",
            "   macro avg       0.67      0.66      0.65      3479\n",
            "weighted avg       0.67      0.67      0.66      3479\n",
            "\n"
          ]
        }
      ],
      "source": [
        "#Evaluate the model\n",
        "predicted = model.predict(X_test, verbose=1, batch_size=10000)\n",
        "\n",
        "y_predicted = [1 if each > 0.5 else 0 for each in predicted]\n",
        "\n",
        "score, test_accuracy = model.evaluate(X_test, y_test, batch_size=10000)\n",
        "\n",
        "print(\"Test Accuracy: \", test_accuracy)\n",
        "print(metrics.classification_report(list(y_test), y_predicted))\n"
      ]
    },
    {
      "cell_type": "code",
      "execution_count": null,
      "metadata": {
        "colab": {
          "base_uri": "https://localhost:8080/",
          "height": 295
        },
        "id": "6npcYqGEv98F",
        "outputId": "fe384ea1-d4bf-4279-f3be-1dd16a7e82b4"
      },
      "outputs": [
        {
          "output_type": "display_data",
          "data": {
            "text/plain": [
              "<Figure size 432x288 with 1 Axes>"
            ],
            "image/png": "[encoded data removed]"
          },
          "metadata": {
            "needs_background": "light"
          }
        }
      ],
      "source": [
        "# Plot confusion matrix\n",
        "conf_matrix = metrics.confusion_matrix(y_test, y_predicted)\n",
        "\n",
        "fig, ax = plt.subplots()\n",
        "sns.heatmap(conf_matrix, cbar=False, cmap='Reds', annot=True, fmt='d')\n",
        "ax.set(xlabel=\"Predicted Value\", ylabel=\"True Value\", title=\"Confusion Matrix\")\n",
        "ax.set_yticklabels(labels=['0', '1'], rotation=0)\n",
        "plt.show()"
      ]
    },
    {
      "cell_type": "code",
      "execution_count": null,
      "metadata": {
        "colab": {
          "base_uri": "https://localhost:8080/"
        },
        "id": "iAj8BQbvx4o-",
        "outputId": "05e6ea53-af5b-44c1-c6ac-b184bce91dc5"
      },
      "outputs": [
        {
          "output_type": "stream",
          "name": "stderr",
          "text": [
            "WARNING:absl:Found untraced functions such as _jit_compiled_convolution_op while saving (showing 1 of 1). These functions will not be directly callable after loading.\n"
          ]
        }
      ],
      "source": [
        "from tensorflow.keras.models import Sequential, save_model, load_model\n",
        "filepath = './saved_model'\n",
        "save_model(model, filepath)"
      ]
    },
    {
      "cell_type": "code",
      "execution_count": null,
      "metadata": {
        "id": "Gk2lbXIWy905"
      },
      "outputs": [],
      "source": [
        "model = load_model(filepath, compile = True)"
      ]
    },
    {
      "cell_type": "code",
      "execution_count": null,
      "metadata": {
        "id": "y3691vCvYfNn"
      },
      "outputs": [],
      "source": [
        "X_new=['free call nepal via skype thank skype','read friend blog lamjung work','Wow... praying for the people affected by the massive earthquake in #Nepal']"
      ]
    },
    {
      "cell_type": "markdown",
      "metadata": {
        "id": "2ohwOixPpOaQ"
      },
      "source": [
        "# 2. LSTM"
      ]
    },
    {
      "cell_type": "code",
      "execution_count": null,
      "metadata": {
        "colab": {
          "base_uri": "https://localhost:8080/"
        },
        "id": "HMhKgHn_kjrx",
        "outputId": "dfff049f-3624-4ab9-904d-bbb8ca7e127e"
      },
      "outputs": [
        {
          "output_type": "stream",
          "name": "stdout",
          "text": [
            "Model: \"model_1\"\n",
            "_________________________________________________________________\n",
            " Layer (type)                Output Shape              Param #   \n",
            "=================================================================\n",
            " input_1 (InputLayer)        [(None, 100)]             0         \n",
            "                                                                 \n",
            " embedding (Embedding)       (None, 100, 300)          2274000   \n",
            "                                                                 \n",
            " conv1d_1 (Conv1D)           (None, 96, 128)           192128    \n",
            "                                                                 \n",
            " lstm_1 (LSTM)               (None, 128)               131584    \n",
            "                                                                 \n",
            " dense_3 (Dense)             (None, 512)               66048     \n",
            "                                                                 \n",
            " dropout_1 (Dropout)         (None, 512)               0         \n",
            "                                                                 \n",
            " dense_4 (Dense)             (None, 512)               262656    \n",
            "                                                                 \n",
            " dense_5 (Dense)             (None, 1)                 513       \n",
            "                                                                 \n",
            "=================================================================\n",
            "Total params: 2,926,929\n",
            "Trainable params: 652,929\n",
            "Non-trainable params: 2,274,000\n",
            "_________________________________________________________________\n"
          ]
        }
      ],
      "source": [
        "x = Conv1D(128, 5, activation='relu')(embedding_sequences)\n",
        "x = LSTM(128, dropout=0.5, recurrent_dropout=0.2)(x)\n",
        "x = Dense(512, activation='relu')(x)\n",
        "x = Dropout(0.5)(x)\n",
        "x = Dense(512, activation='relu')(x)\n",
        "outputs = Dense(1, activation='sigmoid')(x)\n",
        "model2 = Model(sequence_input, outputs)\n",
        "model2.summary()"
      ]
    },
    {
      "cell_type": "code",
      "execution_count": null,
      "metadata": {
        "id": "EbPkvOEMpTye"
      },
      "outputs": [],
      "source": [
        "model2.compile(optimizer=Adam(learning_rate=0.01), loss='binary_crossentropy', metrics=['accuracy'])"
      ]
    },
    {
      "cell_type": "code",
      "execution_count": null,
      "metadata": {
        "colab": {
          "base_uri": "https://localhost:8080/"
        },
        "id": "RuAPn8C1zZqs",
        "outputId": "3c047c33-0837-41d7-8cc5-4a019ab7e24e"
      },
      "outputs": [
        {
          "output_type": "stream",
          "name": "stdout",
          "text": [
            "Epoch 1/10\n",
            "7/7 [==============================] - 42s 6s/step - loss: 1.1568 - accuracy: 0.5414 - val_loss: 0.6377 - val_accuracy: 0.6508\n",
            "Epoch 2/10\n",
            "7/7 [==============================] - 38s 6s/step - loss: 0.6453 - accuracy: 0.6410 - val_loss: 0.6246 - val_accuracy: 0.6625\n",
            "Epoch 3/10\n",
            "7/7 [==============================] - 38s 6s/step - loss: 0.6158 - accuracy: 0.6741 - val_loss: 0.6086 - val_accuracy: 0.6703\n",
            "Epoch 4/10\n",
            "7/7 [==============================] - 38s 6s/step - loss: 0.5990 - accuracy: 0.6808 - val_loss: 0.5963 - val_accuracy: 0.6930\n",
            "Epoch 5/10\n",
            "7/7 [==============================] - 42s 6s/step - loss: 0.5650 - accuracy: 0.7142 - val_loss: 0.5878 - val_accuracy: 0.7082\n",
            "Epoch 6/10\n",
            "7/7 [==============================] - 38s 6s/step - loss: 0.5462 - accuracy: 0.7258 - val_loss: 0.5767 - val_accuracy: 0.7154\n",
            "Epoch 7/10\n",
            "7/7 [==============================] - 38s 6s/step - loss: 0.5069 - accuracy: 0.7500 - val_loss: 0.5886 - val_accuracy: 0.7059\n",
            "Epoch 8/10\n",
            "7/7 [==============================] - 38s 6s/step - loss: 0.4699 - accuracy: 0.7731 - val_loss: 0.6131 - val_accuracy: 0.7088\n",
            "Epoch 9/10\n",
            "7/7 [==============================] - 38s 6s/step - loss: 0.4302 - accuracy: 0.7970 - val_loss: 0.6548 - val_accuracy: 0.6933\n",
            "Epoch 10/10\n",
            "7/7 [==============================] - 39s 6s/step - loss: 0.3895 - accuracy: 0.8192 - val_loss: 0.7150 - val_accuracy: 0.6930\n"
          ]
        }
      ],
      "source": [
        "history = model2.fit(X_train,\n",
        "                    y_train,\n",
        "                    batch_size=batch_size,\n",
        "                    epochs=epochs,\n",
        "                    validation_data=(X_test, y_test))"
      ]
    },
    {
      "cell_type": "code",
      "execution_count": null,
      "metadata": {
        "colab": {
          "base_uri": "https://localhost:8080/",
          "height": 294
        },
        "id": "jC0z7siJ2LFH",
        "outputId": "5c16f277-349b-4254-e79d-dcbed031bf45"
      },
      "outputs": [
        {
          "output_type": "display_data",
          "data": {
            "text/plain": [
              "<Figure size 720x288 with 1 Axes>"
            ],
            "image/png": "[encoded data removed]"
          },
          "metadata": {
            "needs_background": "light"
          }
        }
      ],
      "source": [
        "accuraties = history.history['accuracy']\n",
        "losses = history.history['loss']\n",
        "accuraties_losses = list(zip(accuraties,losses))\n",
        "\n",
        "accuraties_losses_df = pd.DataFrame(accuraties_losses, columns={\"accuraties\", \"losses\"})\n",
        "\n",
        "plt.figure(figsize=(10,4))\n",
        "plt.suptitle(\"Train Accuracy vs Train Loss\")\n",
        "sns.lineplot(data=accuraties_losses_df)\n",
        "plt.show()"
      ]
    },
    {
      "cell_type": "code",
      "execution_count": null,
      "metadata": {
        "colab": {
          "base_uri": "https://localhost:8080/"
        },
        "id": "0_uVyHu7p8iN",
        "outputId": "04ba75c9-8720-4201-c91a-688677c224c9"
      },
      "outputs": [
        {
          "output_type": "stream",
          "name": "stdout",
          "text": [
            "1/1 [==============================] - 5s 5s/step\n",
            "1/1 [==============================] - 5s 5s/step - loss: 0.7150 - accuracy: 0.6930\n",
            "Test Accuracy:  0.6930152177810669\n",
            "              precision    recall  f1-score   support\n",
            "\n",
            "           0       0.69      0.75      0.72      1843\n",
            "           1       0.69      0.62      0.66      1636\n",
            "\n",
            "    accuracy                           0.69      3479\n",
            "   macro avg       0.69      0.69      0.69      3479\n",
            "weighted avg       0.69      0.69      0.69      3479\n",
            "\n"
          ]
        }
      ],
      "source": [
        "#Evaluate the model\n",
        "predicted = model2.predict(X_test, verbose=1, batch_size=10000)\n",
        "\n",
        "y_predicted = [1 if each > 0.5 else 0 for each in predicted]\n",
        "\n",
        "score, test_accuracy = model2.evaluate(X_test, y_test, batch_size=10000)\n",
        "\n",
        "print(\"Test Accuracy: \", test_accuracy)\n",
        "print(metrics.classification_report(list(y_test), y_predicted))"
      ]
    },
    {
      "cell_type": "code",
      "execution_count": null,
      "metadata": {
        "colab": {
          "base_uri": "https://localhost:8080/",
          "height": 295
        },
        "id": "In3dMhAK171w",
        "outputId": "ff9b0815-adaa-496e-ff14-61448d8ea160"
      },
      "outputs": [
        {
          "output_type": "display_data",
          "data": {
            "text/plain": [
              "<Figure size 432x288 with 1 Axes>"
            ],
            "image/png": "[encoded data removed]"
          },
          "metadata": {
            "needs_background": "light"
          }
        }
      ],
      "source": [
        "# Plot confusion matrix\n",
        "conf_matrix = metrics.confusion_matrix(y_test, y_predicted)\n",
        "\n",
        "fig, ax = plt.subplots()\n",
        "sns.heatmap(conf_matrix, cbar=False, cmap='Reds', annot=True, fmt='d')\n",
        "ax.set(xlabel=\"Predicted Value\", ylabel=\"True Value\", title=\"Confusion Matrix\")\n",
        "ax.set_yticklabels(labels=['0', '1'], rotation=0)\n",
        "plt.show()"
      ]
    },
    {
      "cell_type": "markdown",
      "metadata": {
        "id": "k9cqZLEvVBF4"
      },
      "source": [
        "# CNN"
      ]
    },
    {
      "cell_type": "code",
      "execution_count": null,
      "metadata": {
        "id": "v9SzJg02WiNH"
      },
      "outputs": [],
      "source": [
        "from tensorflow.keras.layers import Flatten, MaxPooling1D, GlobalMaxPooling1D\n",
        "from tensorflow.keras.layers import Dropout\n",
        "from tensorflow.keras.layers import Dense"
      ]
    },
    {
      "cell_type": "code",
      "execution_count": null,
      "metadata": {
        "colab": {
          "base_uri": "https://localhost:8080/"
        },
        "id": "AteKhGKZVB_s",
        "outputId": "b0cabc41-0454-4507-b525-27dc09572c46"
      },
      "outputs": [
        {
          "output_type": "stream",
          "name": "stdout",
          "text": [
            "Model: \"model_3\"\n",
            "_________________________________________________________________\n",
            " Layer (type)                Output Shape              Param #   \n",
            "=================================================================\n",
            " input_1 (InputLayer)        [(None, 100)]             0         \n",
            "                                                                 \n",
            " embedding (Embedding)       (None, 100, 300)          2274000   \n",
            "                                                                 \n",
            " conv1d_5 (Conv1D)           (None, 98, 32)            28832     \n",
            "                                                                 \n",
            " max_pooling1d_2 (MaxPooling  (None, 32, 32)           0         \n",
            " 1D)                                                             \n",
            "                                                                 \n",
            " conv1d_6 (Conv1D)           (None, 30, 64)            6208      \n",
            "                                                                 \n",
            " max_pooling1d_3 (MaxPooling  (None, 10, 64)           0         \n",
            " 1D)                                                             \n",
            "                                                                 \n",
            " dropout_2 (Dropout)         (None, 10, 64)            0         \n",
            "                                                                 \n",
            " conv1d_7 (Conv1D)           (None, 8, 128)            24704     \n",
            "                                                                 \n",
            " global_max_pooling1d_1 (Glo  (None, 128)              0         \n",
            " balMaxPooling1D)                                                \n",
            "                                                                 \n",
            " dense_7 (Dense)             (None, 5)                 645       \n",
            "                                                                 \n",
            "=================================================================\n",
            "Total params: 2,334,389\n",
            "Trainable params: 60,389\n",
            "Non-trainable params: 2,274,000\n",
            "_________________________________________________________________\n"
          ]
        }
      ],
      "source": [
        "x = Conv1D(32,3, activation='relu')(embedding_sequences)\n",
        "x=MaxPooling1D(3)(x)\n",
        "x=Conv1D(64,3,activation='relu')(x)\n",
        "x=MaxPooling1D(3)(x)\n",
        "x = Dropout(0.5)(x)\n",
        "x=Conv1D(128,3,activation='relu')(x)\n",
        "x=GlobalMaxPooling1D()(x)\n",
        "outputs=Dense(5,activation='softmax')(x)\n",
        "model4 = Model(sequence_input, outputs)\n",
        "model4.summary()"
      ]
    },
    {
      "cell_type": "code",
      "execution_count": null,
      "metadata": {
        "id": "bvY0PQFmXfuR"
      },
      "outputs": [],
      "source": [
        "model4.compile(loss='sparse_categorical_crossentropy',optimizer='adam',metrics=['accuracy'])"
      ]
    },
    {
      "cell_type": "code",
      "execution_count": null,
      "metadata": {
        "colab": {
          "base_uri": "https://localhost:8080/"
        },
        "id": "uef-i34UZPEr",
        "outputId": "3ebd9aaf-200b-472d-806d-3063c19b5658"
      },
      "outputs": [
        {
          "output_type": "stream",
          "name": "stdout",
          "text": [
            "Epoch 1/10\n",
            "69/69 [==============================] - 6s 83ms/step - loss: 0.8330 - accuracy: 0.5492 - val_loss: 0.6630 - val_accuracy: 0.6433\n",
            "Epoch 2/10\n",
            "69/69 [==============================] - 6s 85ms/step - loss: 0.6424 - accuracy: 0.6431 - val_loss: 0.6333 - val_accuracy: 0.6482\n",
            "Epoch 3/10\n",
            "69/69 [==============================] - 6s 81ms/step - loss: 0.6106 - accuracy: 0.6653 - val_loss: 0.6007 - val_accuracy: 0.6887\n",
            "Epoch 4/10\n",
            "69/69 [==============================] - 6s 80ms/step - loss: 0.5795 - accuracy: 0.7008 - val_loss: 0.5953 - val_accuracy: 0.6853\n",
            "Epoch 5/10\n",
            "69/69 [==============================] - 6s 80ms/step - loss: 0.5488 - accuracy: 0.7221 - val_loss: 0.6119 - val_accuracy: 0.6910\n",
            "Epoch 6/10\n",
            "69/69 [==============================] - 6s 81ms/step - loss: 0.5167 - accuracy: 0.7470 - val_loss: 0.6018 - val_accuracy: 0.6976\n",
            "Epoch 7/10\n",
            "69/69 [==============================] - 5s 79ms/step - loss: 0.4799 - accuracy: 0.7705 - val_loss: 0.6231 - val_accuracy: 0.6939\n",
            "Epoch 8/10\n",
            "69/69 [==============================] - 6s 81ms/step - loss: 0.4469 - accuracy: 0.7931 - val_loss: 0.6453 - val_accuracy: 0.6853\n",
            "Epoch 9/10\n",
            "69/69 [==============================] - 6s 80ms/step - loss: 0.4090 - accuracy: 0.8101 - val_loss: 0.6808 - val_accuracy: 0.6878\n",
            "Epoch 10/10\n",
            "69/69 [==============================] - 6s 81ms/step - loss: 0.3863 - accuracy: 0.8198 - val_loss: 0.7291 - val_accuracy: 0.6775\n"
          ]
        }
      ],
      "source": [
        "history = model4.fit(X_train,\n",
        "                    y_train,\n",
        "                    batch_size=100,\n",
        "                    epochs=epochs,\n",
        "                    validation_data=(X_test, y_test))"
      ]
    },
    {
      "cell_type": "code",
      "execution_count": null,
      "metadata": {
        "colab": {
          "base_uri": "https://localhost:8080/",
          "height": 294
        },
        "id": "aV0J34YVZhul",
        "outputId": "988c44d3-17ef-4458-b450-472e89d45652"
      },
      "outputs": [
        {
          "output_type": "display_data",
          "data": {
            "text/plain": [
              "<Figure size 720x288 with 1 Axes>"
            ],
            "image/png": "[encoded data removed]"
          },
          "metadata": {
            "needs_background": "light"
          }
        }
      ],
      "source": [
        "accuraties = history.history['accuracy']\n",
        "losses = history.history['loss']\n",
        "accuraties_losses = list(zip(accuraties,losses))\n",
        "\n",
        "accuraties_losses_df = pd.DataFrame(accuraties_losses, columns={\"accuraties\", \"losses\"})\n",
        "\n",
        "plt.figure(figsize=(10,4))\n",
        "plt.suptitle(\"Train Accuracy vs Train Loss\")\n",
        "sns.lineplot(data=accuraties_losses_df)\n",
        "plt.show()"
      ]
    },
    {
      "cell_type": "code",
      "execution_count": null,
      "metadata": {
        "colab": {
          "base_uri": "https://localhost:8080/"
        },
        "id": "A3w8mmcPaIlY",
        "outputId": "9c8e00ca-55c6-43b9-98d1-4e7ac529e6ba"
      },
      "outputs": [
        {
          "output_type": "stream",
          "name": "stdout",
          "text": [
            "109/109 [==============================] - 1s 9ms/step\n"
          ]
        }
      ],
      "source": [
        "#Evaluate the model\n",
        "y_pred=model4.predict(X_test)\n",
        "y_pred=np.argmax(y_pred,axis=1)"
      ]
    },
    {
      "cell_type": "code",
      "execution_count": null,
      "metadata": {
        "colab": {
          "base_uri": "https://localhost:8080/",
          "height": 295
        },
        "id": "sP4JPNkubQfh",
        "outputId": "019edbbf-5f74-4026-d03a-a334ccf8a784"
      },
      "outputs": [
        {
          "output_type": "display_data",
          "data": {
            "text/plain": [
              "<Figure size 432x288 with 1 Axes>"
            ],
            "image/png": "[encoded data removed]"
          },
          "metadata": {
            "needs_background": "light"
          }
        }
      ],
      "source": [
        "conf_matrix = metrics.confusion_matrix(y_test, y_pred)\n",
        "\n",
        "fig, ax = plt.subplots()\n",
        "sns.heatmap(conf_matrix, cbar=False, cmap='Reds', annot=True, fmt='d')\n",
        "ax.set(xlabel=\"Predicted Value\", ylabel=\"True Value\", title=\"Confusion Matrix\")\n",
        "ax.set_yticklabels(labels=['0', '1'], rotation=0)\n",
        "plt.show()"
      ]
    },
    {
      "cell_type": "code",
      "execution_count": null,
      "metadata": {
        "colab": {
          "base_uri": "https://localhost:8080/"
        },
        "id": "cIw-7PQwcLWC",
        "outputId": "84d77967-9f63-41dc-bd50-13079cbbb318"
      },
      "outputs": [
        {
          "output_type": "stream",
          "name": "stdout",
          "text": [
            "1/1 [==============================] - 1s 690ms/step - loss: 0.7291 - accuracy: 0.6775\n",
            "Test Accuracy:  0.6774935126304626\n",
            "              precision    recall  f1-score   support\n",
            "\n",
            "           0       0.68      0.74      0.71      1843\n",
            "           1       0.67      0.61      0.64      1636\n",
            "\n",
            "    accuracy                           0.68      3479\n",
            "   macro avg       0.68      0.67      0.67      3479\n",
            "weighted avg       0.68      0.68      0.68      3479\n",
            "\n"
          ]
        }
      ],
      "source": [
        "score, test_accuracy = model4.evaluate(X_test, y_test, batch_size=10000)\n",
        "\n",
        "print(\"Test Accuracy: \", test_accuracy)\n",
        "print(metrics.classification_report(list(y_test), y_pred))"
      ]
    },
    {
      "cell_type": "code",
      "execution_count": null,
      "metadata": {
        "id": "sXhEVhkGcZ39"
      },
      "outputs": [],
      "source": []
    },
    {
      "cell_type": "markdown",
      "metadata": {
        "id": "T3sgVNGU7gv3"
      },
      "source": [
        "# BLSTM with attention"
      ]
    },
    {
      "cell_type": "code",
      "execution_count": null,
      "metadata": {
        "id": "Gwv38MiAqsYI"
      },
      "outputs": [],
      "source": [
        "x = Conv1D(128, 5, activation='relu')(embedding_sequences)\n",
        "x = Bidirectional(LSTM(64, dropout=0.5, recurrent_dropout=0.2))(x)\n",
        "x = Dense(512, activation='relu')(x)\n",
        "x = Dropout(0.5)(x)\n",
        "x = Dense(512, activation='relu')(x)\n",
        "outputs = Dense(1, activation='sigmoid')(x)\n",
        "model3 = Model(sequence_input, outputs)\n",
        "model3.summary()"
      ]
    },
    {
      "cell_type": "code",
      "execution_count": null,
      "metadata": {
        "id": "nOWTI7h8FJMw"
      },
      "outputs": [],
      "source": [
        "model3.compile(optimizer=Adam(learning_rate=0.01), loss='binary_crossentropy', metrics=['accuracy'])"
      ]
    },
    {
      "cell_type": "code",
      "execution_count": null,
      "metadata": {
        "id": "RpbS0alh209t"
      },
      "outputs": [],
      "source": [
        "history = model3.fit(X_train,\n",
        "                    y_train,\n",
        "                    batch_size=batch_size,\n",
        "                    epochs=epochs,\n",
        "                    validation_data=(X_test, y_test))"
      ]
    },
    {
      "cell_type": "code",
      "execution_count": null,
      "metadata": {
        "id": "5P6r7bYR-tLT"
      },
      "outputs": [],
      "source": []
    }
  ],
  "metadata": {
    "colab": {
      "provenance": []
    },
    "kernelspec": {
      "display_name": "Python 3",
      "name": "python3"
    },
    "language_info": {
      "name": "python"
    }
  },
  "nbformat": 4,
  "nbformat_minor": 0
}